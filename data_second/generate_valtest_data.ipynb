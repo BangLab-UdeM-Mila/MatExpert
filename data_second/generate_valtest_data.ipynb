{
 "cells": [
  {
   "cell_type": "code",
   "execution_count": 11,
   "metadata": {},
   "outputs": [],
   "source": [
    "import pandas as pd\n",
    "import numpy as np\n",
    "import os\n",
    "from openai import OpenAI\n",
    "import openai\n",
    "import ast\n",
    "import glob\n",
    "import json\n",
    "\n",
    "from tqdm import tqdm\n",
    "\n",
    "from pymatgen.core.structure import Structure\n",
    "\n",
    "# setup random seed\n",
    "\n",
    "np.random.seed(42)"
   ]
  },
  {
   "cell_type": "code",
   "execution_count": null,
   "metadata": {},
   "outputs": [],
   "source": []
  },
  {
   "cell_type": "code",
   "execution_count": 12,
   "metadata": {},
   "outputs": [],
   "source": [
    "def get_prompt_reverse(formula_B, formula_A, desc_prompt_B, property_prompt_B, desc_prompt_A, property_prompt_A):\n",
    "\n",
    "    prompt = f\"I have two materials {formula_A} and {formula_B}.\\n\\n\"\n",
    "    prompt += f\"The description of material {formula_A}: \" + desc_prompt_A + '\\n\\n'\n",
    "    # prompt += f\"The property of material {formula_A}: \" + property_prompt_A + '\\n\\n'\n",
    "    prompt += f\"The description of material {formula_B}: \" + desc_prompt_B + '\\n\\n'\n",
    "    # prompt += f\"The property of material {formula_B}: \" + property_prompt_B + '\\n\\n'\n",
    "    prompt += f\"Based on the descriptions and properties of the two materials above, \"\n",
    "    prompt += f\"can you summarize how can we transit material {formula_A} to material {formula_B} in one paragraph? \\n\\n\"\n",
    "    prompt += f\"Please do not include any hint of formula {formula_B} in your answer as we have no prior knowledge of formula {formula_B}. \"\n",
    "\n",
    "    prompt += f\"\\n\\nThe answer should begin with: To transit from {formula_A} to a new material,\"\n",
    "\n",
    "    return prompt"
   ]
  },
  {
   "cell_type": "code",
   "execution_count": 13,
   "metadata": {},
   "outputs": [],
   "source": [
    "prompt_lookup = {\n",
    "                \"formation_energy_per_atom\": \"The formation energy per atom is\",\n",
    "                \"band_gap\": \"The band gap is\",\n",
    "                \"pretty_formula\": \"The chemical formula is\",\n",
    "                \"e_above_hull\": \"The energy above the convex hull is\",\n",
    "                \"elements\": \"The elements are\",\n",
    "                \"spacegroup.number\": \"The spacegroup number is\",\n",
    "            }\n",
    "\n",
    "def get_crystal_string(cif_str):\n",
    "    structure = Structure.from_str(cif_str, fmt=\"cif\")\n",
    "\n",
    "    # Randomly translate within the unit cell\n",
    "    structure.translate_sites(\n",
    "        indices=range(len(structure.sites)), vector=np.random.uniform(size=(3,))\n",
    "    )\n",
    "\n",
    "    lengths = structure.lattice.parameters[:3]\n",
    "    angles = structure.lattice.parameters[3:]\n",
    "    atom_ids = structure.species\n",
    "    frac_coords = structure.frac_coords\n",
    "\n",
    "    crystal_str = \\\n",
    "        \" \".join([\"{0:.1f}\".format(x) for x in lengths]) + \"\\n\" + \\\n",
    "        \" \".join([str(int(x)) for x in angles]) + \"\\n\" + \\\n",
    "        \"\\n\".join([\n",
    "            str(t) + \"\\n\" + \" \".join([\n",
    "                \"{0:.2f}\".format(x) for x in c\n",
    "            ]) for t,c in zip(atom_ids, frac_coords)\n",
    "        ])\n",
    "\n",
    "    return crystal_str\n",
    "\n",
    "def get_template(row):\n",
    "    property_prompt = \"\"\n",
    "    for key, value in prompt_lookup.items():\n",
    "        if key == \"elements\":\n",
    "            property_prompt += f\"{value} {', '.join(ast.literal_eval(row[key]))}. \"\n",
    "        elif key in [\"formation_energy_per_atom\", \"band_gap\", \"e_above_hull\"]:\n",
    "            property_prompt += f\"{value} {round(float(row[key]), 4)}. \"\n",
    "        else:\n",
    "            property_prompt += f\"{value} {row[key]}. \"\n",
    "    \n",
    "    desc_prompt = row[\"description\"]\n",
    "\n",
    "    return desc_prompt, property_prompt\n",
    "\n",
    "\n",
    "def get_template_1(list_A, list_B):\n",
    "    formula_A, property_A, description_A = list_A\n",
    "    formula_B, property_B, description_B = list_B\n",
    "\n",
    "    prompt = f\"I am looking to design a new material with the following property: {property_A}The closest existing \" \\\n",
    "            f\"material I found in the database is {formula_B}, which has a similar property. Below is the structure \" \\\n",
    "            f\"description of {formula_B}.\\n\\n{description_B}\\n\\nHow should I modify {formula_B} to develop a new material \" \\\n",
    "            f\"with the desired property?\"\n",
    "    \n",
    "    return prompt\n",
    "\n",
    "def get_template_2(list_A, list_B):\n",
    "    formula_A, property_A, description_A = list_A\n",
    "    formula_B, property_B, description_B = list_B\n",
    "\n",
    "    prompt = f\"Based on the information, for the new material, could you generate a description of the lengths and angles of the lattice vectors \" \\\n",
    "        f\"and then the element type and coordinates for each atom within the lattice?\"\n",
    "\n",
    "    return prompt"
   ]
  },
  {
   "cell_type": "code",
   "execution_count": 14,
   "metadata": {},
   "outputs": [
    {
     "name": "stderr",
     "output_type": "stream",
     "text": [
      "7505it [00:01, 4949.29it/s]\n",
      "7570it [00:01, 4938.37it/s]\n"
     ]
    }
   ],
   "source": [
    "# Only the stage 1\n",
    "\n",
    "\n",
    "for set_name in ['val', 'test']:\n",
    "\n",
    "    embeddings_path = f'/data/rech/dingqian/intel/crystal-llm-retrieval/embeddings_{set_name}.csv'\n",
    "    embeddings_df = pd.read_csv(embeddings_path, index_col=0)\n",
    "\n",
    "    # Read train_desc.csv\n",
    "    data_path = f\"../data/basic/{set_name}_desc.csv\"\n",
    "    data_df = pd.read_csv(data_path, index_col=1)\n",
    "\n",
    "    alpaca_list = []\n",
    "    for index, row in tqdm(embeddings_df.iterrows()):\n",
    "        material_id_A = row.name\n",
    "        material_id_B = row[\"most_similar_material_id\"] if row[\"most_similar_material_id\"] != material_id_A else row[\"second_most_similar_material_id\"]\n",
    "\n",
    "        material_A = data_df.loc[material_id_A]\n",
    "        material_B = data_df.loc[material_id_B]\n",
    "\n",
    "        desc_prompt_A, property_prompt_A = get_template(material_A)\n",
    "        desc_prompt_B, property_prompt_B = get_template(material_B)\n",
    "\n",
    "        formula_A = material_A[\"pretty_formula\"]\n",
    "        formula_B = material_B[\"pretty_formula\"]\n",
    "\n",
    "        list_A = [formula_A, property_prompt_A, desc_prompt_A]\n",
    "        list_B = [formula_B, property_prompt_B, desc_prompt_B]\n",
    "\n",
    "        prompt_1 = get_template_1(list_A, list_B)\n",
    "\n",
    "        answer_1 = \"\"\n",
    "\n",
    "        alpaca_item = {\n",
    "            \"instruction\": prompt_1,\n",
    "            \"output\": answer_1,\n",
    "            \"history\": []\n",
    "        }\n",
    "\n",
    "        alpaca_list.append(alpaca_item)\n",
    "\n",
    "\n",
    "    with open(f\"mp_{set_name}.json\", \"w\") as f:\n",
    "        json.dump(alpaca_list, f, indent=4)"
   ]
  },
  {
   "cell_type": "code",
   "execution_count": 8,
   "metadata": {},
   "outputs": [
    {
     "data": {
      "text/plain": [
       "{'custom_id': 'mp-865981',\n",
       " 'method': 'POST',\n",
       " 'url': '/v1/chat/completions',\n",
       " 'body': {'messages': [{'role': 'user',\n",
       "    'content': 'I have two materials Tm2ZnHg and TmMgHg2.\\n\\nThe description of material Tm2ZnHg: Tm2HgZn is Heusler structured and crystallizes in the cubic Fm-3m space group. Tm(1) is bonded in a body-centered cubic geometry to four equivalent Hg(1) and four equivalent Zn(1) atoms. All Tm(1)–Hg(1) bond lengths are 3.09 Å. All Tm(1)–Zn(1) bond lengths are 3.09 Å. Hg(1) is bonded in a body-centered cubic geometry to eight equivalent Tm(1) atoms. Zn(1) is bonded in a body-centered cubic geometry to eight equivalent Tm(1) atoms.\\n\\nThe description of material TmMgHg2: MgTmHg2 is Heusler structured and crystallizes in the cubic Fm-3m space group. Mg(1) is bonded in a body-centered cubic geometry to eight equivalent Hg(1) atoms. All Mg(1)–Hg(1) bond lengths are 3.05 Å. Tm(1) is bonded in a body-centered cubic geometry to eight equivalent Hg(1) atoms. All Tm(1)–Hg(1) bond lengths are 3.05 Å. Hg(1) is bonded in a body-centered cubic geometry to four equivalent Mg(1) and four equivalent Tm(1) atoms.\\n\\nBased on the descriptions and properties of the two materials above, can you summarize how can we transit material Tm2ZnHg to material TmMgHg2 in one paragraph? \\n\\nPlease do not include any hint of formula TmMgHg2 in your answer as we have no prior knowledge of formula TmMgHg2. \\n\\nThe answer should begin with: To transit from Tm2ZnHg to a new material,'}],\n",
       "  'model': 'gpt-4-turbo',\n",
       "  'max_tokens': 2048}}"
      ]
     },
     "execution_count": 8,
     "metadata": {},
     "output_type": "execute_result"
    }
   ],
   "source": [
    "batch_list[0]"
   ]
  }
 ],
 "metadata": {
  "kernelspec": {
   "display_name": "crystal-llm",
   "language": "python",
   "name": "python3"
  },
  "language_info": {
   "codemirror_mode": {
    "name": "ipython",
    "version": 3
   },
   "file_extension": ".py",
   "mimetype": "text/x-python",
   "name": "python",
   "nbconvert_exporter": "python",
   "pygments_lexer": "ipython3",
   "version": "3.8.19"
  }
 },
 "nbformat": 4,
 "nbformat_minor": 2
}
