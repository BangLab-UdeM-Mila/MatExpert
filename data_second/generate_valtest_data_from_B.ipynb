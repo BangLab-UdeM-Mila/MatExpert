{
 "cells": [
  {
   "cell_type": "code",
   "execution_count": 2,
   "metadata": {},
   "outputs": [],
   "source": [
    "import pandas as pd\n",
    "import numpy as np\n",
    "import os\n",
    "from openai import OpenAI\n",
    "import openai\n",
    "import ast\n",
    "import glob\n",
    "import json\n",
    "\n",
    "from tqdm import tqdm"
   ]
  },
  {
   "cell_type": "code",
   "execution_count": null,
   "metadata": {},
   "outputs": [],
   "source": [
    "client = OpenAI(\n",
    "    # This is the default and can be omitted\n",
    "    api_key=\"your_openai_api\",\n",
    ")"
   ]
  },
  {
   "cell_type": "code",
   "execution_count": 4,
   "metadata": {},
   "outputs": [],
   "source": [
    "def get_gpt_api(prompt, model=\"gpt-4\"):\n",
    "    try:\n",
    "        chat_completion = client.chat.completions.create(\n",
    "            messages=[\n",
    "                {\n",
    "                    \"role\": \"user\",\n",
    "                    \"content\": prompt,\n",
    "                }\n",
    "            ],\n",
    "            model=model,\n",
    "        )\n",
    "        return chat_completion.choices[0].message.content\n",
    "    except Exception as e:\n",
    "        return str(e)"
   ]
  },
  {
   "cell_type": "code",
   "execution_count": 5,
   "metadata": {},
   "outputs": [],
   "source": [
    "prompt_lookup = {\n",
    "                \"formation_energy_per_atom\": \"The formation energy per atom is\",\n",
    "                \"band_gap\": \"The band gap is\",\n",
    "                \"pretty_formula\": \"The chemical formula is\",\n",
    "                \"e_above_hull\": \"The energy above the convex hull is\",\n",
    "                \"elements\": \"The elements are\",\n",
    "                \"spacegroup.number\": \"The spacegroup number is\",\n",
    "            }\n",
    "\n",
    "def get_template(row):\n",
    "    property_prompt = \"\"\n",
    "    for key, value in prompt_lookup.items():\n",
    "        if key == \"elements\":\n",
    "            property_prompt += f\"{value} {', '.join(ast.literal_eval(row[key]))}. \"\n",
    "        elif key in [\"formation_energy_per_atom\", \"band_gap\", \"e_above_hull\"]:\n",
    "            property_prompt += f\"{value} {round(float(row[key]), 4)}. \"\n",
    "        else:\n",
    "            property_prompt += f\"{value} {row[key]}. \"\n",
    "    \n",
    "    desc_prompt = row[\"description\"]\n",
    "\n",
    "    return desc_prompt, property_prompt\n"
   ]
  },
  {
   "cell_type": "code",
   "execution_count": 6,
   "metadata": {},
   "outputs": [],
   "source": [
    "# Read embeddings.csv\n",
    "embeddings_path = '/data/rech/dingqian/intel/crystal-llm-retrieval/embeddings.csv'\n",
    "embeddings_df = pd.read_csv(embeddings_path, index_col=0)\n",
    "\n",
    "# Read train_desc.csv\n",
    "data_path = \"../data/basic/train_desc.csv\"\n",
    "train_df = pd.read_csv(data_path, index_col=1)"
   ]
  },
  {
   "cell_type": "code",
   "execution_count": 7,
   "metadata": {},
   "outputs": [
    {
     "data": {
      "text/html": [
       "<div>\n",
       "<style scoped>\n",
       "    .dataframe tbody tr th:only-of-type {\n",
       "        vertical-align: middle;\n",
       "    }\n",
       "\n",
       "    .dataframe tbody tr th {\n",
       "        vertical-align: top;\n",
       "    }\n",
       "\n",
       "    .dataframe thead th {\n",
       "        text-align: right;\n",
       "    }\n",
       "</style>\n",
       "<table border=\"1\" class=\"dataframe\">\n",
       "  <thead>\n",
       "    <tr style=\"text-align: right;\">\n",
       "      <th></th>\n",
       "      <th>Unnamed: 0</th>\n",
       "      <th>formation_energy_per_atom</th>\n",
       "      <th>band_gap</th>\n",
       "      <th>pretty_formula</th>\n",
       "      <th>e_above_hull</th>\n",
       "      <th>elements</th>\n",
       "      <th>cif</th>\n",
       "      <th>spacegroup.number</th>\n",
       "      <th>description</th>\n",
       "    </tr>\n",
       "    <tr>\n",
       "      <th>material_id</th>\n",
       "      <th></th>\n",
       "      <th></th>\n",
       "      <th></th>\n",
       "      <th></th>\n",
       "      <th></th>\n",
       "      <th></th>\n",
       "      <th></th>\n",
       "      <th></th>\n",
       "      <th></th>\n",
       "    </tr>\n",
       "  </thead>\n",
       "  <tbody>\n",
       "    <tr>\n",
       "      <th>mp-1221227</th>\n",
       "      <td>37228</td>\n",
       "      <td>-1.637460</td>\n",
       "      <td>0.2133</td>\n",
       "      <td>Na3MnCoNiO6</td>\n",
       "      <td>0.043001</td>\n",
       "      <td>['Co', 'Mn', 'Na', 'Ni', 'O']</td>\n",
       "      <td># generated using pymatgen\\ndata_Na3MnCoNiO6\\n...</td>\n",
       "      <td>8</td>\n",
       "      <td>Na3MnCoNiO6 is Caswellsilverite-derived struct...</td>\n",
       "    </tr>\n",
       "    <tr>\n",
       "      <th>mp-974729</th>\n",
       "      <td>19480</td>\n",
       "      <td>-0.314759</td>\n",
       "      <td>0.0000</td>\n",
       "      <td>Nd(Al2Cu)4</td>\n",
       "      <td>0.000000</td>\n",
       "      <td>['Al', 'Cu', 'Nd']</td>\n",
       "      <td># generated using pymatgen\\ndata_Nd(Al2Cu)4\\n_...</td>\n",
       "      <td>139</td>\n",
       "      <td>Al8Cu4Nd crystallizes in the monoclinic C2/m s...</td>\n",
       "    </tr>\n",
       "    <tr>\n",
       "      <th>mp-1185360</th>\n",
       "      <td>29624</td>\n",
       "      <td>-0.193761</td>\n",
       "      <td>0.0000</td>\n",
       "      <td>LiMnIr2</td>\n",
       "      <td>0.018075</td>\n",
       "      <td>['Ir', 'Li', 'Mn']</td>\n",
       "      <td># generated using pymatgen\\ndata_LiMnIr2\\n_sym...</td>\n",
       "      <td>225</td>\n",
       "      <td>LiMnIr2 is Heusler structured and crystallizes...</td>\n",
       "    </tr>\n",
       "    <tr>\n",
       "      <th>mp-1188861</th>\n",
       "      <td>38633</td>\n",
       "      <td>-0.584694</td>\n",
       "      <td>3.8556</td>\n",
       "      <td>LiCSN</td>\n",
       "      <td>0.048847</td>\n",
       "      <td>['C', 'Li', 'N', 'S']</td>\n",
       "      <td># generated using pymatgen\\ndata_LiCSN\\n_symme...</td>\n",
       "      <td>62</td>\n",
       "      <td>NaN</td>\n",
       "    </tr>\n",
       "    <tr>\n",
       "      <th>mp-677272</th>\n",
       "      <td>10889</td>\n",
       "      <td>-2.474759</td>\n",
       "      <td>0.4707</td>\n",
       "      <td>La2EuS4</td>\n",
       "      <td>0.000000</td>\n",
       "      <td>['Eu', 'La', 'S']</td>\n",
       "      <td># generated using pymatgen\\ndata_La2EuS4\\n_sym...</td>\n",
       "      <td>122</td>\n",
       "      <td>EuLa2S4 crystallizes in the tetragonal I-42d s...</td>\n",
       "    </tr>\n",
       "  </tbody>\n",
       "</table>\n",
       "</div>"
      ],
      "text/plain": [
       "             Unnamed: 0  formation_energy_per_atom  band_gap pretty_formula  \\\n",
       "material_id                                                                   \n",
       "mp-1221227        37228                  -1.637460    0.2133    Na3MnCoNiO6   \n",
       "mp-974729         19480                  -0.314759    0.0000     Nd(Al2Cu)4   \n",
       "mp-1185360        29624                  -0.193761    0.0000        LiMnIr2   \n",
       "mp-1188861        38633                  -0.584694    3.8556          LiCSN   \n",
       "mp-677272         10889                  -2.474759    0.4707        La2EuS4   \n",
       "\n",
       "             e_above_hull                       elements  \\\n",
       "material_id                                                \n",
       "mp-1221227       0.043001  ['Co', 'Mn', 'Na', 'Ni', 'O']   \n",
       "mp-974729        0.000000             ['Al', 'Cu', 'Nd']   \n",
       "mp-1185360       0.018075             ['Ir', 'Li', 'Mn']   \n",
       "mp-1188861       0.048847          ['C', 'Li', 'N', 'S']   \n",
       "mp-677272        0.000000              ['Eu', 'La', 'S']   \n",
       "\n",
       "                                                           cif  \\\n",
       "material_id                                                      \n",
       "mp-1221227   # generated using pymatgen\\ndata_Na3MnCoNiO6\\n...   \n",
       "mp-974729    # generated using pymatgen\\ndata_Nd(Al2Cu)4\\n_...   \n",
       "mp-1185360   # generated using pymatgen\\ndata_LiMnIr2\\n_sym...   \n",
       "mp-1188861   # generated using pymatgen\\ndata_LiCSN\\n_symme...   \n",
       "mp-677272    # generated using pymatgen\\ndata_La2EuS4\\n_sym...   \n",
       "\n",
       "             spacegroup.number  \\\n",
       "material_id                      \n",
       "mp-1221227                   8   \n",
       "mp-974729                  139   \n",
       "mp-1185360                 225   \n",
       "mp-1188861                  62   \n",
       "mp-677272                  122   \n",
       "\n",
       "                                                   description  \n",
       "material_id                                                     \n",
       "mp-1221227   Na3MnCoNiO6 is Caswellsilverite-derived struct...  \n",
       "mp-974729    Al8Cu4Nd crystallizes in the monoclinic C2/m s...  \n",
       "mp-1185360   LiMnIr2 is Heusler structured and crystallizes...  \n",
       "mp-1188861                                                 NaN  \n",
       "mp-677272    EuLa2S4 crystallizes in the tetragonal I-42d s...  "
      ]
     },
     "execution_count": 7,
     "metadata": {},
     "output_type": "execute_result"
    }
   ],
   "source": [
    "train_df.head()"
   ]
  },
  {
   "cell_type": "code",
   "execution_count": 8,
   "metadata": {},
   "outputs": [
    {
     "data": {
      "text/html": [
       "<div>\n",
       "<style scoped>\n",
       "    .dataframe tbody tr th:only-of-type {\n",
       "        vertical-align: middle;\n",
       "    }\n",
       "\n",
       "    .dataframe tbody tr th {\n",
       "        vertical-align: top;\n",
       "    }\n",
       "\n",
       "    .dataframe thead th {\n",
       "        text-align: right;\n",
       "    }\n",
       "</style>\n",
       "<table border=\"1\" class=\"dataframe\">\n",
       "  <thead>\n",
       "    <tr style=\"text-align: right;\">\n",
       "      <th></th>\n",
       "      <th>description</th>\n",
       "      <th>query</th>\n",
       "      <th>desc_embedding</th>\n",
       "      <th>query_embedding</th>\n",
       "      <th>second_most_similar_material_id</th>\n",
       "      <th>most_similar_material_id</th>\n",
       "    </tr>\n",
       "    <tr>\n",
       "      <th>material_id</th>\n",
       "      <th></th>\n",
       "      <th></th>\n",
       "      <th></th>\n",
       "      <th></th>\n",
       "      <th></th>\n",
       "      <th></th>\n",
       "    </tr>\n",
       "  </thead>\n",
       "  <tbody>\n",
       "    <tr>\n",
       "      <th>mp-1221227</th>\n",
       "      <td>Na 3 Mn Co Ni O 6 is Ca swellsilverite-derived...</td>\n",
       "      <td>Be low is a description of a bulk material. Th...</td>\n",
       "      <td>[ 0.04090341 -0.01577177  0.06744143 -0.067098...</td>\n",
       "      <td>[ 0.02537145 -0.01533251  0.05748841 -0.070425...</td>\n",
       "      <td>mp-1222510</td>\n",
       "      <td>mp-1221227</td>\n",
       "    </tr>\n",
       "    <tr>\n",
       "      <th>mp-974729</th>\n",
       "      <td>Al 8 Cu 4 Nd crystallizes in the monoclinic C ...</td>\n",
       "      <td>Be low is a description of a bulk material. Th...</td>\n",
       "      <td>[ 3.77487834e-03  1.55593464e-02 -1.49153247e-...</td>\n",
       "      <td>[ 0.00705677  0.00390458 -0.00846322 -0.004971...</td>\n",
       "      <td>mp-1092251</td>\n",
       "      <td>mp-974729</td>\n",
       "    </tr>\n",
       "    <tr>\n",
       "      <th>mp-1185360</th>\n",
       "      <td>Li Mn Ir 2 is He usler structured and crystall...</td>\n",
       "      <td>Be low is a description of a bulk material. Th...</td>\n",
       "      <td>[-3.41129303e-02  4.88284323e-03  4.57347259e-...</td>\n",
       "      <td>[-1.50608942e-02  3.76177672e-03  3.40886451e-...</td>\n",
       "      <td>mp-864950</td>\n",
       "      <td>mp-865088</td>\n",
       "    </tr>\n",
       "    <tr>\n",
       "      <th>mp-677272</th>\n",
       "      <td>Eu La 2 S 4 crystallizes in the tetragonal I -...</td>\n",
       "      <td>Be low is a description of a bulk material. Th...</td>\n",
       "      <td>[-0.01615838  0.01042143 -0.04585846 -0.037169...</td>\n",
       "      <td>[-1.11538060e-02  1.12731121e-02 -3.59769352e-...</td>\n",
       "      <td>mp-1222958</td>\n",
       "      <td>mp-677272</td>\n",
       "    </tr>\n",
       "    <tr>\n",
       "      <th>mp-1104517</th>\n",
       "      <td>Yb 3 Pt 2 Ga 9 crystallizes in the orthorhombi...</td>\n",
       "      <td>Be low is a description of a bulk material. Th...</td>\n",
       "      <td>[ 0.03487201 -0.01587198  0.02627973 -0.031895...</td>\n",
       "      <td>[ 2.03714818e-02 -1.58217978e-02  1.39079597e-...</td>\n",
       "      <td>mp-1215613</td>\n",
       "      <td>mp-1104517</td>\n",
       "    </tr>\n",
       "  </tbody>\n",
       "</table>\n",
       "</div>"
      ],
      "text/plain": [
       "                                                   description  \\\n",
       "material_id                                                      \n",
       "mp-1221227   Na 3 Mn Co Ni O 6 is Ca swellsilverite-derived...   \n",
       "mp-974729    Al 8 Cu 4 Nd crystallizes in the monoclinic C ...   \n",
       "mp-1185360   Li Mn Ir 2 is He usler structured and crystall...   \n",
       "mp-677272    Eu La 2 S 4 crystallizes in the tetragonal I -...   \n",
       "mp-1104517   Yb 3 Pt 2 Ga 9 crystallizes in the orthorhombi...   \n",
       "\n",
       "                                                         query  \\\n",
       "material_id                                                      \n",
       "mp-1221227   Be low is a description of a bulk material. Th...   \n",
       "mp-974729    Be low is a description of a bulk material. Th...   \n",
       "mp-1185360   Be low is a description of a bulk material. Th...   \n",
       "mp-677272    Be low is a description of a bulk material. Th...   \n",
       "mp-1104517   Be low is a description of a bulk material. Th...   \n",
       "\n",
       "                                                desc_embedding  \\\n",
       "material_id                                                      \n",
       "mp-1221227   [ 0.04090341 -0.01577177  0.06744143 -0.067098...   \n",
       "mp-974729    [ 3.77487834e-03  1.55593464e-02 -1.49153247e-...   \n",
       "mp-1185360   [-3.41129303e-02  4.88284323e-03  4.57347259e-...   \n",
       "mp-677272    [-0.01615838  0.01042143 -0.04585846 -0.037169...   \n",
       "mp-1104517   [ 0.03487201 -0.01587198  0.02627973 -0.031895...   \n",
       "\n",
       "                                               query_embedding  \\\n",
       "material_id                                                      \n",
       "mp-1221227   [ 0.02537145 -0.01533251  0.05748841 -0.070425...   \n",
       "mp-974729    [ 0.00705677  0.00390458 -0.00846322 -0.004971...   \n",
       "mp-1185360   [-1.50608942e-02  3.76177672e-03  3.40886451e-...   \n",
       "mp-677272    [-1.11538060e-02  1.12731121e-02 -3.59769352e-...   \n",
       "mp-1104517   [ 2.03714818e-02 -1.58217978e-02  1.39079597e-...   \n",
       "\n",
       "            second_most_similar_material_id most_similar_material_id  \n",
       "material_id                                                           \n",
       "mp-1221227                       mp-1222510               mp-1221227  \n",
       "mp-974729                        mp-1092251                mp-974729  \n",
       "mp-1185360                        mp-864950                mp-865088  \n",
       "mp-677272                        mp-1222958                mp-677272  \n",
       "mp-1104517                       mp-1215613               mp-1104517  "
      ]
     },
     "execution_count": 8,
     "metadata": {},
     "output_type": "execute_result"
    }
   ],
   "source": [
    "embeddings_df.head()"
   ]
  },
  {
   "cell_type": "code",
   "execution_count": 9,
   "metadata": {},
   "outputs": [],
   "source": [
    "def get_prompt_reverse(formula_B, formula_A, desc_prompt_B, property_prompt_B, desc_prompt_A, property_prompt_A):\n",
    "\n",
    "    prompt = f\"I have two materials {formula_A} and {formula_B}.\\n\\n\"\n",
    "    prompt += f\"The description of material {formula_A}: \" + desc_prompt_A + '\\n\\n'\n",
    "    # prompt += f\"The property of material {formula_A}: \" + property_prompt_A + '\\n\\n'\n",
    "    prompt += f\"The description of material {formula_B}: \" + desc_prompt_B + '\\n\\n'\n",
    "    # prompt += f\"The property of material {formula_B}: \" + property_prompt_B + '\\n\\n'\n",
    "    prompt += f\"Based on the descriptions and properties of the two materials above, \"\n",
    "    prompt += f\"can you summarize how can we transit material {formula_A} to material {formula_B} in one paragraph? \\n\\n\"\n",
    "    prompt += f\"Please do not include any hint of formula {formula_B} in your answer as we have no prior knowledge of formula {formula_B}. \"\n",
    "\n",
    "    prompt += f\"\\n\\nThe answer should begin with: To transit from {formula_A} to a new material,\"\n",
    "\n",
    "    return prompt"
   ]
  },
  {
   "cell_type": "code",
   "execution_count": 10,
   "metadata": {},
   "outputs": [
    {
     "name": "stderr",
     "output_type": "stream",
     "text": [
      "327it [00:00, 3267.66it/s]"
     ]
    },
    {
     "name": "stderr",
     "output_type": "stream",
     "text": [
      "22592it [00:04, 4536.58it/s]\n"
     ]
    }
   ],
   "source": [
    "batch_list = []\n",
    "\n",
    "for index, row in tqdm(embeddings_df.iterrows()):\n",
    "    material_id_A = row.name\n",
    "    material_id_B = row[\"most_similar_material_id\"] if row[\"most_similar_material_id\"] != material_id_A else row[\"second_most_similar_material_id\"]\n",
    "    \n",
    "    material_A = train_df.loc[material_id_A]\n",
    "    material_B = train_df.loc[material_id_B]\n",
    "\n",
    "    desc_prompt_A, property_prompt_A = get_template(material_A)\n",
    "    desc_prompt_B, property_prompt_B = get_template(material_B)\n",
    "\n",
    "    formula_A = material_A[\"pretty_formula\"]\n",
    "    formula_B = material_B[\"pretty_formula\"]\n",
    "\n",
    "    prompt = get_prompt_reverse(formula_A, formula_B, desc_prompt_A, property_prompt_A, desc_prompt_B, property_prompt_B)\n",
    "\n",
    "    batch_dict = {\n",
    "        \"custom_id\": material_id_A,\n",
    "        \"method\": \"POST\",\n",
    "        \"url\": \"/v1/chat/completions\",\n",
    "        \"body\": {\n",
    "            \"messages\": [\n",
    "                {\n",
    "                    \"role\": \"user\",\n",
    "                    \"content\": prompt,\n",
    "                }\n",
    "            ],\n",
    "            \"model\": \"gpt-4-turbo\",\n",
    "            \"max_tokens\": 2048\n",
    "        },\n",
    "    }\n",
    "\n",
    "    batch_list.append(batch_dict)"
   ]
  },
  {
   "cell_type": "code",
   "execution_count": 11,
   "metadata": {},
   "outputs": [
    {
     "data": {
      "text/plain": [
       "('SrSc2O4',\n",
       " 'To transit from Li(NiO2)2 to a new material, one would need to undertake a series of chemical substitutions and adjustments in the crystal structure. Firstly, the lithium in Li(NiO2)2 would need to be replaced by strontium, which implies a change in the charge balance and coordination environment in the material. Additionally, nickel would need to be substituted with scandium, introducing a new set of coordination preferences and altering the electronic structure. The oxide framework would also necessitate rearrangement: from the LiO6 and NiO6 octahedra in Li(NiO2)2 to accommodate Sr and Sc coordination geometries involving different octahedral, trigonal bipyramidal, and tetrahedral arrangements as seen in the descriptions provided. Such changes would not only involve different stoichiometries but also different bonding interactions and spatial arrangements, necessitating careful consideration of the synthesis conditions, such as temperature, pressure and atmosphere, to achieve the desired new crystalline phase. This transformation would require detailed experimental design and characterization to confirm the formation of the new crystal structure with designated properties.')"
      ]
     },
     "execution_count": 11,
     "metadata": {},
     "output_type": "execute_result"
    }
   ],
   "source": [
    "answer = get_gpt_api(prompt, model=\"gpt-4-turbo\")\n",
    "formula_A, answer"
   ]
  },
  {
   "cell_type": "code",
   "execution_count": 12,
   "metadata": {},
   "outputs": [],
   "source": [
    "# convert to jsonl file\n",
    "\n",
    "# save the batch_list to the jsonl file per 40000 rows\n",
    "K = 40000\n",
    "for i in range(0, len(batch_list), K):\n",
    "    jsonl_file = f\"batch_{i}.jsonl\"\n",
    "    with open(jsonl_file, 'w') as f:\n",
    "        for batch in batch_list[i:i+K]:\n",
    "            f.write(json.dumps(batch) + '\\n')\n",
    "\n"
   ]
  },
  {
   "cell_type": "code",
   "execution_count": 13,
   "metadata": {},
   "outputs": [],
   "source": [
    "# batch_input_file = client.files.create(\n",
    "#   file=open(\"batch_0.jsonl\", \"rb\"),\n",
    "#   purpose=\"batch\"\n",
    "# )\n",
    "\n",
    "# batch_input_file_id = batch_input_file.id\n",
    "\n",
    "# response = client.batches.create(\n",
    "#     input_file_id=batch_input_file_id,\n",
    "#     endpoint=\"/v1/chat/completions\",\n",
    "#     completion_window=\"24h\",\n",
    "#     metadata={\n",
    "#       \"description\": \"Full\"\n",
    "#     }\n",
    "# )\n",
    "\n",
    "# status = response.status\n",
    "# status"
   ]
  },
  {
   "cell_type": "code",
   "execution_count": 14,
   "metadata": {},
   "outputs": [],
   "source": [
    "# response"
   ]
  },
  {
   "cell_type": "code",
   "execution_count": 15,
   "metadata": {},
   "outputs": [
    {
     "data": {
      "text/plain": [
       "Batch(id='batch_2M2X2p39il2JqDGwmDRVe2vf', completion_window='24h', created_at=1719398185, endpoint='/v1/chat/completions', input_file_id='file-tPNOtYEsXi8HLToSzG4xqxVf', object='batch', status='completed', cancelled_at=None, cancelling_at=None, completed_at=1719405388, error_file_id=None, errors=None, expired_at=None, expires_at=1719484585, failed_at=None, finalizing_at=1719403595, in_progress_at=1719398193, metadata={'description': 'Full'}, output_file_id='file-lWb8sBXRg5FFuBoAlpqZn3Tp', request_counts=BatchRequestCounts(completed=22592, failed=0, total=22592))"
      ]
     },
     "execution_count": 15,
     "metadata": {},
     "output_type": "execute_result"
    }
   ],
   "source": [
    "# retrieve_response = client.batches.retrieve(response.id)\n",
    "retrieve_response = client.batches.retrieve(\"batch_2M2X2p39il2JqDGwmDRVe2vf\")\n",
    "retrieve_response"
   ]
  },
  {
   "cell_type": "code",
   "execution_count": 16,
   "metadata": {},
   "outputs": [
    {
     "name": "stderr",
     "output_type": "stream",
     "text": [
      "/tmp/ipykernel_656082/102001757.py:1: DeprecationWarning: The `.content()` method should be used instead\n",
      "  content = client.files.retrieve_content(retrieve_response.output_file_id)\n"
     ]
    },
    {
     "name": "stderr",
     "output_type": "stream",
     "text": [
      "/tmp/ipykernel_656082/102001757.py:2: DeprecationWarning: The `.content()` method should be used instead\n",
      "  error_content = client.files.retrieve_content(retrieve_response.error_file_id)\n"
     ]
    },
    {
     "ename": "ValueError",
     "evalue": "Expected a non-empty value for `file_id` but received None",
     "output_type": "error",
     "traceback": [
      "\u001b[0;31m---------------------------------------------------------------------------\u001b[0m",
      "\u001b[0;31mValueError\u001b[0m                                Traceback (most recent call last)",
      "Cell \u001b[0;32mIn[16], line 2\u001b[0m\n\u001b[1;32m      1\u001b[0m content \u001b[38;5;241m=\u001b[39m client\u001b[38;5;241m.\u001b[39mfiles\u001b[38;5;241m.\u001b[39mretrieve_content(retrieve_response\u001b[38;5;241m.\u001b[39moutput_file_id)\n\u001b[0;32m----> 2\u001b[0m error_content \u001b[38;5;241m=\u001b[39m \u001b[43mclient\u001b[49m\u001b[38;5;241;43m.\u001b[39;49m\u001b[43mfiles\u001b[49m\u001b[38;5;241;43m.\u001b[39;49m\u001b[43mretrieve_content\u001b[49m\u001b[43m(\u001b[49m\u001b[43mretrieve_response\u001b[49m\u001b[38;5;241;43m.\u001b[39;49m\u001b[43merror_file_id\u001b[49m\u001b[43m)\u001b[49m\n",
      "File \u001b[0;32m/Tmp/dingqian/miniconda3/envs/crystal-llm/lib/python3.8/site-packages/typing_extensions.py:2360\u001b[0m, in \u001b[0;36mdeprecated.<locals>.decorator.<locals>.wrapper\u001b[0;34m(*args, **kwargs)\u001b[0m\n\u001b[1;32m   2357\u001b[0m \u001b[38;5;129m@functools\u001b[39m\u001b[38;5;241m.\u001b[39mwraps(arg)\n\u001b[1;32m   2358\u001b[0m \u001b[38;5;28;01mdef\u001b[39;00m \u001b[38;5;21mwrapper\u001b[39m(\u001b[38;5;241m*\u001b[39margs, \u001b[38;5;241m*\u001b[39m\u001b[38;5;241m*\u001b[39mkwargs):\n\u001b[1;32m   2359\u001b[0m     warnings\u001b[38;5;241m.\u001b[39mwarn(msg, category\u001b[38;5;241m=\u001b[39mcategory, stacklevel\u001b[38;5;241m=\u001b[39mstacklevel \u001b[38;5;241m+\u001b[39m \u001b[38;5;241m1\u001b[39m)\n\u001b[0;32m-> 2360\u001b[0m     \u001b[38;5;28;01mreturn\u001b[39;00m \u001b[43marg\u001b[49m\u001b[43m(\u001b[49m\u001b[38;5;241;43m*\u001b[39;49m\u001b[43margs\u001b[49m\u001b[43m,\u001b[49m\u001b[43m \u001b[49m\u001b[38;5;241;43m*\u001b[39;49m\u001b[38;5;241;43m*\u001b[39;49m\u001b[43mkwargs\u001b[49m\u001b[43m)\u001b[49m\n",
      "File \u001b[0;32m/Tmp/dingqian/miniconda3/envs/crystal-llm/lib/python3.8/site-packages/openai/resources/files.py:292\u001b[0m, in \u001b[0;36mFiles.retrieve_content\u001b[0;34m(self, file_id, extra_headers, extra_query, extra_body, timeout)\u001b[0m\n\u001b[1;32m    279\u001b[0m \u001b[38;5;250m\u001b[39m\u001b[38;5;124;03m\"\"\"\u001b[39;00m\n\u001b[1;32m    280\u001b[0m \u001b[38;5;124;03mReturns the contents of the specified file.\u001b[39;00m\n\u001b[1;32m    281\u001b[0m \n\u001b[0;32m   (...)\u001b[0m\n\u001b[1;32m    289\u001b[0m \u001b[38;5;124;03m  timeout: Override the client-level default timeout for this request, in seconds\u001b[39;00m\n\u001b[1;32m    290\u001b[0m \u001b[38;5;124;03m\"\"\"\u001b[39;00m\n\u001b[1;32m    291\u001b[0m \u001b[38;5;28;01mif\u001b[39;00m \u001b[38;5;129;01mnot\u001b[39;00m file_id:\n\u001b[0;32m--> 292\u001b[0m     \u001b[38;5;28;01mraise\u001b[39;00m \u001b[38;5;167;01mValueError\u001b[39;00m(\u001b[38;5;124mf\u001b[39m\u001b[38;5;124m\"\u001b[39m\u001b[38;5;124mExpected a non-empty value for `file_id` but received \u001b[39m\u001b[38;5;132;01m{\u001b[39;00mfile_id\u001b[38;5;132;01m!r}\u001b[39;00m\u001b[38;5;124m\"\u001b[39m)\n\u001b[1;32m    293\u001b[0m \u001b[38;5;28;01mreturn\u001b[39;00m \u001b[38;5;28mself\u001b[39m\u001b[38;5;241m.\u001b[39m_get(\n\u001b[1;32m    294\u001b[0m     \u001b[38;5;124mf\u001b[39m\u001b[38;5;124m\"\u001b[39m\u001b[38;5;124m/files/\u001b[39m\u001b[38;5;132;01m{\u001b[39;00mfile_id\u001b[38;5;132;01m}\u001b[39;00m\u001b[38;5;124m/content\u001b[39m\u001b[38;5;124m\"\u001b[39m,\n\u001b[1;32m    295\u001b[0m     options\u001b[38;5;241m=\u001b[39mmake_request_options(\n\u001b[0;32m   (...)\u001b[0m\n\u001b[1;32m    298\u001b[0m     cast_to\u001b[38;5;241m=\u001b[39m\u001b[38;5;28mstr\u001b[39m,\n\u001b[1;32m    299\u001b[0m )\n",
      "\u001b[0;31mValueError\u001b[0m: Expected a non-empty value for `file_id` but received None"
     ]
    }
   ],
   "source": [
    "content = client.files.retrieve_content(retrieve_response.output_file_id)\n",
    "# error_content = client.files.retrieve_content(retrieve_response.error_file_id)"
   ]
  },
  {
   "cell_type": "code",
   "execution_count": 244,
   "metadata": {},
   "outputs": [],
   "source": [
    "# save the content to the json file\n",
    "with open(\"output_from_B.json\", \"w\") as f:\n",
    "    f.write(content)"
   ]
  },
  {
   "cell_type": "code",
   "execution_count": 245,
   "metadata": {},
   "outputs": [],
   "source": [
    "# save the error content to the json file\n",
    "with open(\"batch_0_error.json\", \"w\") as f:\n",
    "    f.write(error_content)"
   ]
  },
  {
   "cell_type": "code",
   "execution_count": 246,
   "metadata": {},
   "outputs": [],
   "source": [
    "# find the custom_id in the error content and reconstrut the batch_list\n",
    "\n",
    "# read lines from the error content\n",
    "\n",
    "with open(\"batch_0_error.json\", \"r\") as f:\n",
    "    lines = f.readlines()\n",
    "\n",
    "error_custom_ids = []\n",
    "\n",
    "for line in lines:\n",
    "    error_custom_ids.append(json.loads(line)[\"custom_id\"])"
   ]
  },
  {
   "cell_type": "code",
   "execution_count": 249,
   "metadata": {},
   "outputs": [],
   "source": [
    "batch_list_error = []\n",
    "\n",
    "for batch_dict in batch_list:\n",
    "    if batch_dict[\"custom_id\"] in error_custom_ids:\n",
    "        batch_list_error.append(batch_dict)"
   ]
  },
  {
   "cell_type": "code",
   "execution_count": 251,
   "metadata": {},
   "outputs": [],
   "source": [
    "# save the batch_list to the jsonl file per 40000 rows\n",
    "K = 40000\n",
    "for i in range(0, len(batch_list_error), K):\n",
    "    jsonl_file = f\"batch_{i}_error.jsonl\"\n",
    "    with open(jsonl_file, 'w') as f:\n",
    "        for batch in batch_list_error[i:i+K]:\n",
    "            f.write(json.dumps(batch) + '\\n')"
   ]
  },
  {
   "cell_type": "code",
   "execution_count": 252,
   "metadata": {},
   "outputs": [
    {
     "data": {
      "text/plain": [
       "'validating'"
      ]
     },
     "execution_count": 252,
     "metadata": {},
     "output_type": "execute_result"
    }
   ],
   "source": [
    "batch_input_file = client.files.create(\n",
    "  file=open(\"batch_0_error.jsonl\", \"rb\"),\n",
    "  purpose=\"batch\"\n",
    ")\n",
    "\n",
    "batch_input_file_id = batch_input_file.id\n",
    "\n",
    "response = client.batches.create(\n",
    "    input_file_id=batch_input_file_id,\n",
    "    endpoint=\"/v1/chat/completions\",\n",
    "    completion_window=\"24h\",\n",
    "    metadata={\n",
    "      \"description\": \"Full - error\"\n",
    "    }\n",
    ")\n",
    "\n",
    "status = response.status\n",
    "status"
   ]
  },
  {
   "cell_type": "code",
   "execution_count": 253,
   "metadata": {},
   "outputs": [
    {
     "data": {
      "text/plain": [
       "Batch(id='batch_g4wdMMTw1ATmO94kmtuy3sHR', completion_window='24h', created_at=1718960665, endpoint='/v1/chat/completions', input_file_id='file-Wpl3KEB34dBUPM7OtLNZc6fK', object='batch', status='validating', cancelled_at=None, cancelling_at=None, completed_at=None, error_file_id=None, errors=None, expired_at=None, expires_at=1719047065, failed_at=None, finalizing_at=None, in_progress_at=None, metadata={'description': 'Full - error'}, output_file_id=None, request_counts=BatchRequestCounts(completed=0, failed=0, total=0))"
      ]
     },
     "execution_count": 253,
     "metadata": {},
     "output_type": "execute_result"
    }
   ],
   "source": [
    "response"
   ]
  },
  {
   "cell_type": "code",
   "execution_count": 275,
   "metadata": {},
   "outputs": [
    {
     "data": {
      "text/plain": [
       "'completed'"
      ]
     },
     "execution_count": 275,
     "metadata": {},
     "output_type": "execute_result"
    }
   ],
   "source": [
    "# retrieve\n",
    "retrieve_response = client.batches.retrieve(response.id)\n",
    "retrieve_response.status"
   ]
  },
  {
   "cell_type": "code",
   "execution_count": 276,
   "metadata": {},
   "outputs": [
    {
     "name": "stderr",
     "output_type": "stream",
     "text": [
      "/tmp/ipykernel_3255168/1743173301.py:1: DeprecationWarning: The `.content()` method should be used instead\n",
      "  content = client.files.retrieve_content(retrieve_response.output_file_id)\n"
     ]
    }
   ],
   "source": [
    "content = client.files.retrieve_content(retrieve_response.output_file_id)"
   ]
  },
  {
   "cell_type": "code",
   "execution_count": 277,
   "metadata": {},
   "outputs": [],
   "source": [
    "# save content \n",
    "with open(\"batch_0_error_output.json\", \"w\") as f:\n",
    "    f.write(content)"
   ]
  },
  {
   "cell_type": "code",
   "execution_count": 278,
   "metadata": {},
   "outputs": [
    {
     "data": {
      "text/plain": [
       "['batch_0_error_output.json', 'batch_0_output.json']"
      ]
     },
     "execution_count": 278,
     "metadata": {},
     "output_type": "execute_result"
    }
   ],
   "source": [
    "# merge the output files into one\n",
    "\n",
    "output_files = glob.glob(\"batch_*_output.json\")\n",
    "output_filename = \"output.json\"\n",
    "with open(output_filename, \"w\") as outfile:\n",
    "    for f in output_files:\n",
    "        with open(f, \"r\") as infile:\n",
    "            outfile.write(infile.read())"
   ]
  }
 ],
 "metadata": {
  "kernelspec": {
   "display_name": "crystal-llm",
   "language": "python",
   "name": "python3"
  },
  "language_info": {
   "codemirror_mode": {
    "name": "ipython",
    "version": 3
   },
   "file_extension": ".py",
   "mimetype": "text/x-python",
   "name": "python",
   "nbconvert_exporter": "python",
   "pygments_lexer": "ipython3",
   "version": "3.8.19"
  }
 },
 "nbformat": 4,
 "nbformat_minor": 2
}
