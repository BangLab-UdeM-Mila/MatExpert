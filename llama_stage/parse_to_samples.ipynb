{
 "cells": [
  {
   "cell_type": "code",
   "execution_count": 2,
   "metadata": {},
   "outputs": [],
   "source": [
    "import pandas as pd\n",
    "import numpy as np\n",
    "import ast\n",
    "import json\n",
    "import random\n",
    "\n",
    "from tqdm import tqdm\n",
    "\n",
    "from pymatgen.core.structure import Structure\n",
    "from pymatgen.core.lattice import Lattice\n",
    "\n",
    "# setup random seed\n",
    "\n",
    "np.random.seed(42)"
   ]
  },
  {
   "cell_type": "code",
   "execution_count": 3,
   "metadata": {},
   "outputs": [],
   "source": [
    "def parse_fn(gen_str):\n",
    "    lines = [x for x in gen_str.split(\"\\n\") if len(x) > 0]\n",
    "    lengths = [float(x) for x in lines[0].split(\" \")]\n",
    "    angles = [float(x) for x in lines[1].split(\" \")]\n",
    "    species = [x for x in lines[2::2]]\n",
    "    coords = [[float(y) for y in x.split(\" \")] for x in lines[3::2]]\n",
    "    \n",
    "    structure = Structure(\n",
    "        lattice=Lattice.from_parameters(\n",
    "            *(lengths + angles)),\n",
    "        species=species,\n",
    "        coords=coords, \n",
    "        coords_are_cartesian=False,\n",
    "    )\n",
    "    \n",
    "    return structure.to(fmt=\"cif\")"
   ]
  },
  {
   "cell_type": "code",
   "execution_count": 6,
   "metadata": {},
   "outputs": [
    {
     "name": "stderr",
     "output_type": "stream",
     "text": [
      "  0%|          | 0/7570 [00:00<?, ?it/s]/Tmp/dingqian/miniconda3/envs/crystal-llm/lib/python3.8/site-packages/pymatgen/io/cif.py:1009: UserWarning: Some occupancies ([1.0, 1.0, 1.0, 1.0, 2.0, 1.0, 1.0, 1.0, 1.0, 1.0, 1.0, 1.0, 1.0, 1.0, 1.0]) sum to > 1! If they are within the occupancy_tolerance, they will be rescaled. The current occupancy_tolerance is set to: 1.0\n",
      "  warnings.warn(msg)\n",
      "/Tmp/dingqian/miniconda3/envs/crystal-llm/lib/python3.8/site-packages/pymatgen/io/cif.py:1162: UserWarning: No structure parsed for section 1 in CIF.\n",
      "Species occupancies sum to more than 1!\n",
      "  warnings.warn(msg)\n",
      "/Tmp/dingqian/miniconda3/envs/crystal-llm/lib/python3.8/site-packages/pymatgen/io/cif.py:1168: UserWarning: Issues encountered while parsing CIF: Some occupancies ([1.0, 1.0, 1.0, 1.0, 2.0, 1.0, 1.0, 1.0, 1.0, 1.0, 1.0, 1.0, 1.0, 1.0, 1.0]) sum to > 1! If they are within the occupancy_tolerance, they will be rescaled. The current occupancy_tolerance is set to: 1.0\n",
      "No structure parsed for section 1 in CIF.\n",
      "Species occupancies sum to more than 1!\n",
      "  warnings.warn(\"Issues encountered while parsing CIF: \" + \"\\n\".join(self.warnings))\n",
      "  1%|          | 44/7570 [00:00<00:17, 438.03it/s]/Tmp/dingqian/miniconda3/envs/crystal-llm/lib/python3.8/site-packages/pymatgen/io/cif.py:1009: UserWarning: Some occupancies ([1.0, 1.0, 2.0, 2.0, 1.0, 1.0]) sum to > 1! If they are within the occupancy_tolerance, they will be rescaled. The current occupancy_tolerance is set to: 1.0\n",
      "  warnings.warn(msg)\n",
      "/Tmp/dingqian/miniconda3/envs/crystal-llm/lib/python3.8/site-packages/pymatgen/io/cif.py:1168: UserWarning: Issues encountered while parsing CIF: Some occupancies ([1.0, 1.0, 2.0, 2.0, 1.0, 1.0]) sum to > 1! If they are within the occupancy_tolerance, they will be rescaled. The current occupancy_tolerance is set to: 1.0\n",
      "No structure parsed for section 1 in CIF.\n",
      "Species occupancies sum to more than 1!\n",
      "  warnings.warn(\"Issues encountered while parsing CIF: \" + \"\\n\".join(self.warnings))\n",
      "  1%|▏         | 100/7570 [00:00<00:14, 507.02it/s]"
     ]
    },
    {
     "name": "stdout",
     "output_type": "stream",
     "text": [
      "Invalid CIF file with no structures!\n",
      "could not convert string to float: 'To'\n",
      "Invalid CIF file with no structures!\n"
     ]
    },
    {
     "name": "stderr",
     "output_type": "stream",
     "text": [
      "  2%|▏         | 151/7570 [00:00<00:15, 490.29it/s]/Tmp/dingqian/miniconda3/envs/crystal-llm/lib/python3.8/site-packages/pymatgen/io/cif.py:1009: UserWarning: Some occupancies ([2.0, 1.0, 1.0, 1.0, 1.0, 1.0, 1.0, 1.0, 1.0]) sum to > 1! If they are within the occupancy_tolerance, they will be rescaled. The current occupancy_tolerance is set to: 1.0\n",
      "  warnings.warn(msg)\n",
      "/Tmp/dingqian/miniconda3/envs/crystal-llm/lib/python3.8/site-packages/pymatgen/io/cif.py:1168: UserWarning: Issues encountered while parsing CIF: Some occupancies ([2.0, 1.0, 1.0, 1.0, 1.0, 1.0, 1.0, 1.0, 1.0]) sum to > 1! If they are within the occupancy_tolerance, they will be rescaled. The current occupancy_tolerance is set to: 1.0\n",
      "No structure parsed for section 1 in CIF.\n",
      "Species occupancies sum to more than 1!\n",
      "  warnings.warn(\"Issues encountered while parsing CIF: \" + \"\\n\".join(self.warnings))\n"
     ]
    },
    {
     "name": "stderr",
     "output_type": "stream",
     "text": [
      "  3%|▎         | 202/7570 [00:00<00:14, 493.58it/s]/Tmp/dingqian/miniconda3/envs/crystal-llm/lib/python3.8/site-packages/pymatgen/io/cif.py:1009: UserWarning: Some occupancies ([1.0, 1.0, 1.0, 1.0, 1.0, 1.0, 2.0, 1.0, 1.0, 1.0, 1.0, 1.0, 1.0, 1.0, 1.0, 1.0, 1.0]) sum to > 1! If they are within the occupancy_tolerance, they will be rescaled. The current occupancy_tolerance is set to: 1.0\n",
      "  warnings.warn(msg)\n",
      "/Tmp/dingqian/miniconda3/envs/crystal-llm/lib/python3.8/site-packages/pymatgen/io/cif.py:1168: UserWarning: Issues encountered while parsing CIF: Some occupancies ([1.0, 1.0, 1.0, 1.0, 1.0, 1.0, 2.0, 1.0, 1.0, 1.0, 1.0, 1.0, 1.0, 1.0, 1.0, 1.0, 1.0]) sum to > 1! If they are within the occupancy_tolerance, they will be rescaled. The current occupancy_tolerance is set to: 1.0\n",
      "No structure parsed for section 1 in CIF.\n",
      "Species occupancies sum to more than 1!\n",
      "  warnings.warn(\"Issues encountered while parsing CIF: \" + \"\\n\".join(self.warnings))\n",
      "/Tmp/dingqian/miniconda3/envs/crystal-llm/lib/python3.8/site-packages/pymatgen/io/cif.py:1009: UserWarning: Some occupancies ([1.0, 1.0, 1.0, 1.0, 1.0, 1.0, 1.0, 1.0, 2.0, 2.0, 1.0, 1.0, 1.0, 1.0, 1.0, 1.0, 1.0, 1.0]) sum to > 1! If they are within the occupancy_tolerance, they will be rescaled. The current occupancy_tolerance is set to: 1.0\n",
      "  warnings.warn(msg)\n",
      "/Tmp/dingqian/miniconda3/envs/crystal-llm/lib/python3.8/site-packages/pymatgen/io/cif.py:1168: UserWarning: Issues encountered while parsing CIF: Some occupancies ([1.0, 1.0, 1.0, 1.0, 1.0, 1.0, 1.0, 1.0, 2.0, 2.0, 1.0, 1.0, 1.0, 1.0, 1.0, 1.0, 1.0, 1.0]) sum to > 1! If they are within the occupancy_tolerance, they will be rescaled. The current occupancy_tolerance is set to: 1.0\n",
      "No structure parsed for section 1 in CIF.\n",
      "Species occupancies sum to more than 1!\n",
      "  warnings.warn(\"Issues encountered while parsing CIF: \" + \"\\n\".join(self.warnings))\n",
      "  3%|▎         | 256/7570 [00:00<00:14, 505.90it/s]"
     ]
    },
    {
     "name": "stdout",
     "output_type": "stream",
     "text": [
      "Invalid CIF file with no structures!\n",
      "Invalid CIF file with no structures!\n",
      "Invalid CIF file with no structures!\n"
     ]
    },
    {
     "name": "stderr",
     "output_type": "stream",
     "text": [
      "/Tmp/dingqian/miniconda3/envs/crystal-llm/lib/python3.8/site-packages/pymatgen/io/cif.py:1009: UserWarning: Some occupancies ([1.0, 1.0, 1.0, 1.0, 1.0, 1.0, 1.0, 1.0, 2.0, 1.0, 1.0, 1.0, 1.0, 1.0, 1.0]) sum to > 1! If they are within the occupancy_tolerance, they will be rescaled. The current occupancy_tolerance is set to: 1.0\n",
      "  warnings.warn(msg)\n",
      "/Tmp/dingqian/miniconda3/envs/crystal-llm/lib/python3.8/site-packages/pymatgen/io/cif.py:1168: UserWarning: Issues encountered while parsing CIF: Some occupancies ([1.0, 1.0, 1.0, 1.0, 1.0, 1.0, 1.0, 1.0, 2.0, 1.0, 1.0, 1.0, 1.0, 1.0, 1.0]) sum to > 1! If they are within the occupancy_tolerance, they will be rescaled. The current occupancy_tolerance is set to: 1.0\n",
      "No structure parsed for section 1 in CIF.\n",
      "Species occupancies sum to more than 1!\n",
      "  warnings.warn(\"Issues encountered while parsing CIF: \" + \"\\n\".join(self.warnings))\n",
      "  4%|▍         | 307/7570 [00:00<00:14, 500.61it/s]/Tmp/dingqian/miniconda3/envs/crystal-llm/lib/python3.8/site-packages/pymatgen/io/cif.py:1009: UserWarning: Some occupancies ([1.0, 1.0, 1.0, 1.0, 2.0, 2.0, 1.0, 1.0, 1.0, 1.0, 1.0, 1.0, 1.0, 1.0, 1.0, 1.0, 1.0, 1.0]) sum to > 1! If they are within the occupancy_tolerance, they will be rescaled. The current occupancy_tolerance is set to: 1.0\n",
      "  warnings.warn(msg)\n",
      "/Tmp/dingqian/miniconda3/envs/crystal-llm/lib/python3.8/site-packages/pymatgen/io/cif.py:1168: UserWarning: Issues encountered while parsing CIF: Some occupancies ([1.0, 1.0, 1.0, 1.0, 2.0, 2.0, 1.0, 1.0, 1.0, 1.0, 1.0, 1.0, 1.0, 1.0, 1.0, 1.0, 1.0, 1.0]) sum to > 1! If they are within the occupancy_tolerance, they will be rescaled. The current occupancy_tolerance is set to: 1.0\n",
      "No structure parsed for section 1 in CIF.\n",
      "Species occupancies sum to more than 1!\n",
      "  warnings.warn(\"Issues encountered while parsing CIF: \" + \"\\n\".join(self.warnings))\n",
      "  5%|▍         | 358/7570 [00:00<00:14, 499.61it/s]/Tmp/dingqian/miniconda3/envs/crystal-llm/lib/python3.8/site-packages/pymatgen/io/cif.py:1009: UserWarning: Some occupancies ([2.0, 1.0, 1.0, 1.0, 1.0, 1.0, 1.0, 1.0, 1.0, 1.0, 1.0, 1.0]) sum to > 1! If they are within the occupancy_tolerance, they will be rescaled. The current occupancy_tolerance is set to: 1.0\n",
      "  warnings.warn(msg)\n",
      "/Tmp/dingqian/miniconda3/envs/crystal-llm/lib/python3.8/site-packages/pymatgen/io/cif.py:1168: UserWarning: Issues encountered while parsing CIF: Some occupancies ([2.0, 1.0, 1.0, 1.0, 1.0, 1.0, 1.0, 1.0, 1.0, 1.0, 1.0, 1.0]) sum to > 1! If they are within the occupancy_tolerance, they will be rescaled. The current occupancy_tolerance is set to: 1.0\n",
      "No structure parsed for section 1 in CIF.\n",
      "Species occupancies sum to more than 1!\n",
      "  warnings.warn(\"Issues encountered while parsing CIF: \" + \"\\n\".join(self.warnings))\n"
     ]
    },
    {
     "name": "stdout",
     "output_type": "stream",
     "text": [
      "Invalid CIF file with no structures!\n",
      "Invalid CIF file with no structures!\n",
      "Invalid CIF file with no structures!\n",
      "could not convert string to float: '0.80.72'\n",
      "Invalid CIF file with no structures!\n"
     ]
    },
    {
     "name": "stderr",
     "output_type": "stream",
     "text": [
      "/Tmp/dingqian/miniconda3/envs/crystal-llm/lib/python3.8/site-packages/pymatgen/io/cif.py:1009: UserWarning: Some occupancies ([1.0, 1.0, 2.0, 1.0, 1.0, 1.0]) sum to > 1! If they are within the occupancy_tolerance, they will be rescaled. The current occupancy_tolerance is set to: 1.0\n",
      "  warnings.warn(msg)\n",
      "/Tmp/dingqian/miniconda3/envs/crystal-llm/lib/python3.8/site-packages/pymatgen/io/cif.py:1168: UserWarning: Issues encountered while parsing CIF: Some occupancies ([1.0, 1.0, 2.0, 1.0, 1.0, 1.0]) sum to > 1! If they are within the occupancy_tolerance, they will be rescaled. The current occupancy_tolerance is set to: 1.0\n",
      "No structure parsed for section 1 in CIF.\n",
      "Species occupancies sum to more than 1!\n",
      "  warnings.warn(\"Issues encountered while parsing CIF: \" + \"\\n\".join(self.warnings))\n",
      "  5%|▌         | 414/7570 [00:00<00:13, 517.76it/s]/Tmp/dingqian/miniconda3/envs/crystal-llm/lib/python3.8/site-packages/pymatgen/io/cif.py:1009: UserWarning: Some occupancies ([1.0, 1.0, 1.0, 1.0, 1.0, 1.0, 1.0, 1.0, 1.0, 1.0, 2.0, 1.0, 1.0, 1.0, 1.0]) sum to > 1! If they are within the occupancy_tolerance, they will be rescaled. The current occupancy_tolerance is set to: 1.0\n",
      "  warnings.warn(msg)\n",
      "/Tmp/dingqian/miniconda3/envs/crystal-llm/lib/python3.8/site-packages/pymatgen/io/cif.py:1168: UserWarning: Issues encountered while parsing CIF: Some occupancies ([1.0, 1.0, 1.0, 1.0, 1.0, 1.0, 1.0, 1.0, 1.0, 1.0, 2.0, 1.0, 1.0, 1.0, 1.0]) sum to > 1! If they are within the occupancy_tolerance, they will be rescaled. The current occupancy_tolerance is set to: 1.0\n",
      "No structure parsed for section 1 in CIF.\n",
      "Species occupancies sum to more than 1!\n",
      "  warnings.warn(\"Issues encountered while parsing CIF: \" + \"\\n\".join(self.warnings))\n",
      "/Tmp/dingqian/miniconda3/envs/crystal-llm/lib/python3.8/site-packages/pymatgen/io/cif.py:1009: UserWarning: Some occupancies ([1.0, 1.0, 1.0, 1.0, 1.0, 1.0, 2.0, 2.0, 1.0, 1.0, 1.0, 1.0, 1.0, 1.0, 1.0, 1.0]) sum to > 1! If they are within the occupancy_tolerance, they will be rescaled. The current occupancy_tolerance is set to: 1.0\n",
      "  warnings.warn(msg)\n",
      "/Tmp/dingqian/miniconda3/envs/crystal-llm/lib/python3.8/site-packages/pymatgen/io/cif.py:1168: UserWarning: Issues encountered while parsing CIF: Some occupancies ([1.0, 1.0, 1.0, 1.0, 1.0, 1.0, 2.0, 2.0, 1.0, 1.0, 1.0, 1.0, 1.0, 1.0, 1.0, 1.0]) sum to > 1! If they are within the occupancy_tolerance, they will be rescaled. The current occupancy_tolerance is set to: 1.0\n",
      "No structure parsed for section 1 in CIF.\n",
      "Species occupancies sum to more than 1!\n",
      "  warnings.warn(\"Issues encountered while parsing CIF: \" + \"\\n\".join(self.warnings))\n",
      "  6%|▌         | 466/7570 [00:00<00:13, 511.84it/s]"
     ]
    },
    {
     "name": "stdout",
     "output_type": "stream",
     "text": [
      "Invalid CIF file with no structures!\n",
      "Invalid CIF file with no structures!\n",
      "Invalid CIF file with no structures!\n",
      "could not convert string to float: 'To'\n"
     ]
    },
    {
     "name": "stderr",
     "output_type": "stream",
     "text": [
      "  7%|▋         | 519/7570 [00:01<00:13, 514.83it/s]/Tmp/dingqian/miniconda3/envs/crystal-llm/lib/python3.8/site-packages/pymatgen/io/cif.py:1009: UserWarning: Some occupancies ([1.0, 1.0, 1.0, 1.0, 1.0, 1.0, 1.0, 1.0, 1.0, 1.0, 1.0, 1.0, 1.0, 1.0, 1.0, 1.0, 2.0, 1.0, 1.0]) sum to > 1! If they are within the occupancy_tolerance, they will be rescaled. The current occupancy_tolerance is set to: 1.0\n",
      "  warnings.warn(msg)\n",
      "/Tmp/dingqian/miniconda3/envs/crystal-llm/lib/python3.8/site-packages/pymatgen/io/cif.py:1168: UserWarning: Issues encountered while parsing CIF: Some occupancies ([1.0, 1.0, 1.0, 1.0, 1.0, 1.0, 1.0, 1.0, 1.0, 1.0, 1.0, 1.0, 1.0, 1.0, 1.0, 1.0, 2.0, 1.0, 1.0]) sum to > 1! If they are within the occupancy_tolerance, they will be rescaled. The current occupancy_tolerance is set to: 1.0\n",
      "No structure parsed for section 1 in CIF.\n",
      "Species occupancies sum to more than 1!\n",
      "  warnings.warn(\"Issues encountered while parsing CIF: \" + \"\\n\".join(self.warnings))\n",
      "/Tmp/dingqian/miniconda3/envs/crystal-llm/lib/python3.8/site-packages/pymatgen/io/cif.py:1009: UserWarning: Some occupancies ([2.0, 1.0, 1.0, 1.0, 1.0, 1.0, 1.0, 1.0, 1.0, 1.0, 1.0, 1.0, 1.0, 1.0, 1.0]) sum to > 1! If they are within the occupancy_tolerance, they will be rescaled. The current occupancy_tolerance is set to: 1.0\n",
      "  warnings.warn(msg)\n",
      "/Tmp/dingqian/miniconda3/envs/crystal-llm/lib/python3.8/site-packages/pymatgen/io/cif.py:1168: UserWarning: Issues encountered while parsing CIF: Some occupancies ([2.0, 1.0, 1.0, 1.0, 1.0, 1.0, 1.0, 1.0, 1.0, 1.0, 1.0, 1.0, 1.0, 1.0, 1.0]) sum to > 1! If they are within the occupancy_tolerance, they will be rescaled. The current occupancy_tolerance is set to: 1.0\n",
      "No structure parsed for section 1 in CIF.\n",
      "Species occupancies sum to more than 1!\n",
      "  warnings.warn(\"Issues encountered while parsing CIF: \" + \"\\n\".join(self.warnings))\n",
      "/Tmp/dingqian/miniconda3/envs/crystal-llm/lib/python3.8/site-packages/pymatgen/io/cif.py:1009: UserWarning: Some occupancies ([1.0, 1.0, 1.0, 1.0, 2.0, 2.0, 2.0, 1.0, 1.0, 1.0, 1.0, 1.0, 1.0, 1.0]) sum to > 1! If they are within the occupancy_tolerance, they will be rescaled. The current occupancy_tolerance is set to: 1.0\n",
      "  warnings.warn(msg)\n",
      "/Tmp/dingqian/miniconda3/envs/crystal-llm/lib/python3.8/site-packages/pymatgen/io/cif.py:1168: UserWarning: Issues encountered while parsing CIF: Some occupancies ([1.0, 1.0, 1.0, 1.0, 2.0, 2.0, 2.0, 1.0, 1.0, 1.0, 1.0, 1.0, 1.0, 1.0]) sum to > 1! If they are within the occupancy_tolerance, they will be rescaled. The current occupancy_tolerance is set to: 1.0\n",
      "No structure parsed for section 1 in CIF.\n",
      "Species occupancies sum to more than 1!\n",
      "  warnings.warn(\"Issues encountered while parsing CIF: \" + \"\\n\".join(self.warnings))\n",
      "  8%|▊         | 575/7570 [00:01<00:13, 524.59it/s]/Tmp/dingqian/miniconda3/envs/crystal-llm/lib/python3.8/site-packages/pymatgen/io/cif.py:1009: UserWarning: Some occupancies ([1.0, 1.0, 1.0, 1.0, 1.0, 1.0, 1.0, 1.0, 1.0, 1.0, 1.0, 1.0, 1.0, 2.0, 1.0, 1.0, 1.0]) sum to > 1! If they are within the occupancy_tolerance, they will be rescaled. The current occupancy_tolerance is set to: 1.0\n",
      "  warnings.warn(msg)\n",
      "/Tmp/dingqian/miniconda3/envs/crystal-llm/lib/python3.8/site-packages/pymatgen/io/cif.py:1168: UserWarning: Issues encountered while parsing CIF: Some occupancies ([1.0, 1.0, 1.0, 1.0, 1.0, 1.0, 1.0, 1.0, 1.0, 1.0, 1.0, 1.0, 1.0, 2.0, 1.0, 1.0, 1.0]) sum to > 1! If they are within the occupancy_tolerance, they will be rescaled. The current occupancy_tolerance is set to: 1.0\n",
      "No structure parsed for section 1 in CIF.\n",
      "Species occupancies sum to more than 1!\n",
      "  warnings.warn(\"Issues encountered while parsing CIF: \" + \"\\n\".join(self.warnings))\n",
      "/Tmp/dingqian/miniconda3/envs/crystal-llm/lib/python3.8/site-packages/pymatgen/io/cif.py:1009: UserWarning: Some occupancies ([1.0, 1.0, 1.0, 1.0, 2.0, 2.0, 1.0, 1.0, 1.0, 1.0, 1.0, 1.0, 1.0, 1.0, 1.0, 1.0]) sum to > 1! If they are within the occupancy_tolerance, they will be rescaled. The current occupancy_tolerance is set to: 1.0\n",
      "  warnings.warn(msg)\n",
      "/Tmp/dingqian/miniconda3/envs/crystal-llm/lib/python3.8/site-packages/pymatgen/io/cif.py:1168: UserWarning: Issues encountered while parsing CIF: Some occupancies ([1.0, 1.0, 1.0, 1.0, 2.0, 2.0, 1.0, 1.0, 1.0, 1.0, 1.0, 1.0, 1.0, 1.0, 1.0, 1.0]) sum to > 1! If they are within the occupancy_tolerance, they will be rescaled. The current occupancy_tolerance is set to: 1.0\n",
      "No structure parsed for section 1 in CIF.\n",
      "Species occupancies sum to more than 1!\n",
      "  warnings.warn(\"Issues encountered while parsing CIF: \" + \"\\n\".join(self.warnings))\n",
      "  8%|▊         | 628/7570 [00:01<00:13, 524.15it/s]"
     ]
    },
    {
     "name": "stdout",
     "output_type": "stream",
     "text": [
      "could not convert string to float: 'To'\n",
      "Invalid CIF file with no structures!\n",
      "Invalid CIF file with no structures!\n",
      "Invalid CIF file with no structures!\n",
      "Invalid CIF file with no structures!\n",
      "Invalid CIF file with no structures!\n",
      "Invalid CIF file with no structures!\n"
     ]
    },
    {
     "name": "stderr",
     "output_type": "stream",
     "text": [
      " 10%|▉         | 737/7570 [00:01<00:13, 521.02it/s]/Tmp/dingqian/miniconda3/envs/crystal-llm/lib/python3.8/site-packages/pymatgen/io/cif.py:1009: UserWarning: Some occupancies ([1.0, 1.0, 1.0, 1.0, 1.0, 1.0, 1.0, 1.0, 1.0, 1.0, 1.0, 1.0, 1.0, 1.0, 1.0, 2.0, 1.0, 1.0, 1.0]) sum to > 1! If they are within the occupancy_tolerance, they will be rescaled. The current occupancy_tolerance is set to: 1.0\n",
      "  warnings.warn(msg)\n",
      "/Tmp/dingqian/miniconda3/envs/crystal-llm/lib/python3.8/site-packages/pymatgen/io/cif.py:1168: UserWarning: Issues encountered while parsing CIF: Some occupancies ([1.0, 1.0, 1.0, 1.0, 1.0, 1.0, 1.0, 1.0, 1.0, 1.0, 1.0, 1.0, 1.0, 1.0, 1.0, 2.0, 1.0, 1.0, 1.0]) sum to > 1! If they are within the occupancy_tolerance, they will be rescaled. The current occupancy_tolerance is set to: 1.0\n",
      "No structure parsed for section 1 in CIF.\n",
      "Species occupancies sum to more than 1!\n",
      "  warnings.warn(\"Issues encountered while parsing CIF: \" + \"\\n\".join(self.warnings))\n",
      " 10%|█         | 790/7570 [00:01<00:13, 520.06it/s]"
     ]
    },
    {
     "name": "stdout",
     "output_type": "stream",
     "text": [
      "could not convert string to float: 'To'\n",
      "Invalid CIF file with no structures!\n",
      "Invalid CIF file with no structures!\n",
      "Invalid CIF file with no structures!\n"
     ]
    },
    {
     "name": "stderr",
     "output_type": "stream",
     "text": [
      "/Tmp/dingqian/miniconda3/envs/crystal-llm/lib/python3.8/site-packages/pymatgen/io/cif.py:1009: UserWarning: Some occupancies ([1.0, 1.0, 1.0, 1.0, 1.0, 2.0, 1.0, 1.0, 1.0, 1.0, 1.0, 1.0]) sum to > 1! If they are within the occupancy_tolerance, they will be rescaled. The current occupancy_tolerance is set to: 1.0\n",
      "  warnings.warn(msg)\n",
      "/Tmp/dingqian/miniconda3/envs/crystal-llm/lib/python3.8/site-packages/pymatgen/io/cif.py:1168: UserWarning: Issues encountered while parsing CIF: Some occupancies ([1.0, 1.0, 1.0, 1.0, 1.0, 2.0, 1.0, 1.0, 1.0, 1.0, 1.0, 1.0]) sum to > 1! If they are within the occupancy_tolerance, they will be rescaled. The current occupancy_tolerance is set to: 1.0\n",
      "No structure parsed for section 1 in CIF.\n",
      "Species occupancies sum to more than 1!\n",
      "  warnings.warn(\"Issues encountered while parsing CIF: \" + \"\\n\".join(self.warnings))\n",
      " 11%|█         | 848/7570 [00:01<00:12, 536.90it/s]/Tmp/dingqian/miniconda3/envs/crystal-llm/lib/python3.8/site-packages/pymatgen/io/cif.py:1009: UserWarning: Some occupancies ([2.0, 1.0, 1.0, 1.0, 1.0, 1.0, 1.0, 1.0, 1.0, 1.0, 1.0, 1.0, 1.0, 1.0, 1.0, 1.0, 1.0, 1.0, 1.0]) sum to > 1! If they are within the occupancy_tolerance, they will be rescaled. The current occupancy_tolerance is set to: 1.0\n",
      "  warnings.warn(msg)\n",
      "/Tmp/dingqian/miniconda3/envs/crystal-llm/lib/python3.8/site-packages/pymatgen/io/cif.py:1168: UserWarning: Issues encountered while parsing CIF: Some occupancies ([2.0, 1.0, 1.0, 1.0, 1.0, 1.0, 1.0, 1.0, 1.0, 1.0, 1.0, 1.0, 1.0, 1.0, 1.0, 1.0, 1.0, 1.0, 1.0]) sum to > 1! If they are within the occupancy_tolerance, they will be rescaled. The current occupancy_tolerance is set to: 1.0\n",
      "No structure parsed for section 1 in CIF.\n",
      "Species occupancies sum to more than 1!\n",
      "  warnings.warn(\"Issues encountered while parsing CIF: \" + \"\\n\".join(self.warnings))\n",
      " 12%|█▏        | 902/7570 [00:01<00:12, 518.90it/s]/Tmp/dingqian/miniconda3/envs/crystal-llm/lib/python3.8/site-packages/pymatgen/io/cif.py:1009: UserWarning: Some occupancies ([1.0, 1.0, 1.0, 2.0, 1.0, 1.0, 1.0, 1.0, 1.0, 1.0, 2.0, 1.0, 1.0, 1.0, 1.0, 1.0, 1.0, 1.0]) sum to > 1! If they are within the occupancy_tolerance, they will be rescaled. The current occupancy_tolerance is set to: 1.0\n",
      "  warnings.warn(msg)\n",
      "/Tmp/dingqian/miniconda3/envs/crystal-llm/lib/python3.8/site-packages/pymatgen/io/cif.py:1168: UserWarning: Issues encountered while parsing CIF: Some occupancies ([1.0, 1.0, 1.0, 2.0, 1.0, 1.0, 1.0, 1.0, 1.0, 1.0, 2.0, 1.0, 1.0, 1.0, 1.0, 1.0, 1.0, 1.0]) sum to > 1! If they are within the occupancy_tolerance, they will be rescaled. The current occupancy_tolerance is set to: 1.0\n",
      "No structure parsed for section 1 in CIF.\n",
      "Species occupancies sum to more than 1!\n",
      "  warnings.warn(\"Issues encountered while parsing CIF: \" + \"\\n\".join(self.warnings))\n",
      "/Tmp/dingqian/miniconda3/envs/crystal-llm/lib/python3.8/site-packages/pymatgen/io/cif.py:1009: UserWarning: Some occupancies ([1.0, 1.0, 1.0, 1.0, 1.0, 1.0, 1.0, 1.0, 1.0, 1.0, 1.0, 1.0, 1.0, 1.0, 2.0, 1.0, 1.0, 1.0, 1.0]) sum to > 1! If they are within the occupancy_tolerance, they will be rescaled. The current occupancy_tolerance is set to: 1.0\n",
      "  warnings.warn(msg)\n",
      "/Tmp/dingqian/miniconda3/envs/crystal-llm/lib/python3.8/site-packages/pymatgen/io/cif.py:1168: UserWarning: Issues encountered while parsing CIF: Some occupancies ([1.0, 1.0, 1.0, 1.0, 1.0, 1.0, 1.0, 1.0, 1.0, 1.0, 1.0, 1.0, 1.0, 1.0, 2.0, 1.0, 1.0, 1.0, 1.0]) sum to > 1! If they are within the occupancy_tolerance, they will be rescaled. The current occupancy_tolerance is set to: 1.0\n",
      "No structure parsed for section 1 in CIF.\n",
      "Species occupancies sum to more than 1!\n",
      "  warnings.warn(\"Issues encountered while parsing CIF: \" + \"\\n\".join(self.warnings))\n",
      " 13%|█▎        | 955/7570 [00:01<00:13, 502.73it/s]/Tmp/dingqian/miniconda3/envs/crystal-llm/lib/python3.8/site-packages/pymatgen/io/cif.py:1009: UserWarning: Some occupancies ([2.0, 1.0, 1.0, 1.0, 1.0, 1.0, 1.0, 1.0, 1.0, 1.0, 1.0, 1.0, 1.0, 1.0, 1.0, 1.0, 1.0, 1.0]) sum to > 1! If they are within the occupancy_tolerance, they will be rescaled. The current occupancy_tolerance is set to: 1.0\n",
      "  warnings.warn(msg)\n",
      "/Tmp/dingqian/miniconda3/envs/crystal-llm/lib/python3.8/site-packages/pymatgen/io/cif.py:1168: UserWarning: Issues encountered while parsing CIF: Some occupancies ([2.0, 1.0, 1.0, 1.0, 1.0, 1.0, 1.0, 1.0, 1.0, 1.0, 1.0, 1.0, 1.0, 1.0, 1.0, 1.0, 1.0, 1.0]) sum to > 1! If they are within the occupancy_tolerance, they will be rescaled. The current occupancy_tolerance is set to: 1.0\n",
      "No structure parsed for section 1 in CIF.\n",
      "Species occupancies sum to more than 1!\n",
      "  warnings.warn(\"Issues encountered while parsing CIF: \" + \"\\n\".join(self.warnings))\n"
     ]
    },
    {
     "name": "stdout",
     "output_type": "stream",
     "text": [
      "Invalid CIF file with no structures!\n",
      "Invalid CIF file with no structures!\n",
      "Invalid CIF file with no structures!\n",
      "Invalid CIF file with no structures!\n"
     ]
    },
    {
     "name": "stderr",
     "output_type": "stream",
     "text": [
      "/Tmp/dingqian/miniconda3/envs/crystal-llm/lib/python3.8/site-packages/pymatgen/io/cif.py:1009: UserWarning: Some occupancies ([1.0, 1.0, 1.0, 1.0, 1.0, 2.0, 1.0]) sum to > 1! If they are within the occupancy_tolerance, they will be rescaled. The current occupancy_tolerance is set to: 1.0\n",
      "  warnings.warn(msg)\n",
      "/Tmp/dingqian/miniconda3/envs/crystal-llm/lib/python3.8/site-packages/pymatgen/io/cif.py:1168: UserWarning: Issues encountered while parsing CIF: Some occupancies ([1.0, 1.0, 1.0, 1.0, 1.0, 2.0, 1.0]) sum to > 1! If they are within the occupancy_tolerance, they will be rescaled. The current occupancy_tolerance is set to: 1.0\n",
      "No structure parsed for section 1 in CIF.\n",
      "Species occupancies sum to more than 1!\n",
      "  warnings.warn(\"Issues encountered while parsing CIF: \" + \"\\n\".join(self.warnings))\n",
      "/Tmp/dingqian/miniconda3/envs/crystal-llm/lib/python3.8/site-packages/pymatgen/io/cif.py:1009: UserWarning: Some occupancies ([1.0, 1.0, 1.0, 1.0, 1.0, 1.0, 1.0, 1.0, 1.0, 1.0, 2.0, 1.0, 1.0, 1.0, 1.0, 1.0, 1.0, 1.0, 1.0]) sum to > 1! If they are within the occupancy_tolerance, they will be rescaled. The current occupancy_tolerance is set to: 1.0\n",
      "  warnings.warn(msg)\n",
      "/Tmp/dingqian/miniconda3/envs/crystal-llm/lib/python3.8/site-packages/pymatgen/io/cif.py:1168: UserWarning: Issues encountered while parsing CIF: Some occupancies ([1.0, 1.0, 1.0, 1.0, 1.0, 1.0, 1.0, 1.0, 1.0, 1.0, 2.0, 1.0, 1.0, 1.0, 1.0, 1.0, 1.0, 1.0, 1.0]) sum to > 1! If they are within the occupancy_tolerance, they will be rescaled. The current occupancy_tolerance is set to: 1.0\n",
      "No structure parsed for section 1 in CIF.\n",
      "Species occupancies sum to more than 1!\n",
      "  warnings.warn(\"Issues encountered while parsing CIF: \" + \"\\n\".join(self.warnings))\n",
      " 13%|█▎        | 1006/7570 [00:01<00:13, 500.26it/s]/Tmp/dingqian/miniconda3/envs/crystal-llm/lib/python3.8/site-packages/pymatgen/io/cif.py:1009: UserWarning: Some occupancies ([1.0, 1.0, 1.0, 1.0, 1.0, 1.0, 2.0, 1.0, 1.0, 1.0, 1.0, 1.0, 1.0]) sum to > 1! If they are within the occupancy_tolerance, they will be rescaled. The current occupancy_tolerance is set to: 1.0\n",
      "  warnings.warn(msg)\n",
      "/Tmp/dingqian/miniconda3/envs/crystal-llm/lib/python3.8/site-packages/pymatgen/io/cif.py:1168: UserWarning: Issues encountered while parsing CIF: Some occupancies ([1.0, 1.0, 1.0, 1.0, 1.0, 1.0, 2.0, 1.0, 1.0, 1.0, 1.0, 1.0, 1.0]) sum to > 1! If they are within the occupancy_tolerance, they will be rescaled. The current occupancy_tolerance is set to: 1.0\n",
      "No structure parsed for section 1 in CIF.\n",
      "Species occupancies sum to more than 1!\n",
      "  warnings.warn(\"Issues encountered while parsing CIF: \" + \"\\n\".join(self.warnings))\n",
      "/Tmp/dingqian/miniconda3/envs/crystal-llm/lib/python3.8/site-packages/pymatgen/io/cif.py:1009: UserWarning: Some occupancies ([2.0, 1.0, 1.0, 1.0, 1.0, 1.0, 1.0, 2.0, 1.0, 1.0, 1.0, 1.0, 1.0, 1.0, 1.0, 1.0, 1.0, 1.0]) sum to > 1! If they are within the occupancy_tolerance, they will be rescaled. The current occupancy_tolerance is set to: 1.0\n",
      "  warnings.warn(msg)\n",
      "/Tmp/dingqian/miniconda3/envs/crystal-llm/lib/python3.8/site-packages/pymatgen/io/cif.py:1168: UserWarning: Issues encountered while parsing CIF: Some occupancies ([2.0, 1.0, 1.0, 1.0, 1.0, 1.0, 1.0, 2.0, 1.0, 1.0, 1.0, 1.0, 1.0, 1.0, 1.0, 1.0, 1.0, 1.0]) sum to > 1! If they are within the occupancy_tolerance, they will be rescaled. The current occupancy_tolerance is set to: 1.0\n",
      "No structure parsed for section 1 in CIF.\n",
      "Species occupancies sum to more than 1!\n",
      "  warnings.warn(\"Issues encountered while parsing CIF: \" + \"\\n\".join(self.warnings))\n",
      " 14%|█▍        | 1063/7570 [00:02<00:12, 520.07it/s]/Tmp/dingqian/miniconda3/envs/crystal-llm/lib/python3.8/site-packages/pymatgen/io/cif.py:1009: UserWarning: Some occupancies ([2.0, 1.0, 1.0, 1.0, 1.0, 1.0, 1.0, 1.0, 1.0, 1.0, 1.0, 1.0, 1.0, 1.0, 1.0, 1.0, 1.0, 1.0, 1.0, 1.0]) sum to > 1! If they are within the occupancy_tolerance, they will be rescaled. The current occupancy_tolerance is set to: 1.0\n",
      "  warnings.warn(msg)\n",
      "/Tmp/dingqian/miniconda3/envs/crystal-llm/lib/python3.8/site-packages/pymatgen/io/cif.py:1168: UserWarning: Issues encountered while parsing CIF: Some occupancies ([2.0, 1.0, 1.0, 1.0, 1.0, 1.0, 1.0, 1.0, 1.0, 1.0, 1.0, 1.0, 1.0, 1.0, 1.0, 1.0, 1.0, 1.0, 1.0, 1.0]) sum to > 1! If they are within the occupancy_tolerance, they will be rescaled. The current occupancy_tolerance is set to: 1.0\n",
      "No structure parsed for section 1 in CIF.\n",
      "Species occupancies sum to more than 1!\n",
      "  warnings.warn(\"Issues encountered while parsing CIF: \" + \"\\n\".join(self.warnings))\n",
      "/Tmp/dingqian/miniconda3/envs/crystal-llm/lib/python3.8/site-packages/pymatgen/io/cif.py:1009: UserWarning: Some occupancies ([1.0, 1.0, 1.0, 1.0, 1.0, 1.0, 2.0, 1.0, 1.0, 1.0, 1.0, 1.0, 1.0, 1.0, 1.0, 1.0, 1.0, 1.0]) sum to > 1! If they are within the occupancy_tolerance, they will be rescaled. The current occupancy_tolerance is set to: 1.0\n",
      "  warnings.warn(msg)\n",
      "/Tmp/dingqian/miniconda3/envs/crystal-llm/lib/python3.8/site-packages/pymatgen/io/cif.py:1168: UserWarning: Issues encountered while parsing CIF: Some occupancies ([1.0, 1.0, 1.0, 1.0, 1.0, 1.0, 2.0, 1.0, 1.0, 1.0, 1.0, 1.0, 1.0, 1.0, 1.0, 1.0, 1.0, 1.0]) sum to > 1! If they are within the occupancy_tolerance, they will be rescaled. The current occupancy_tolerance is set to: 1.0\n",
      "No structure parsed for section 1 in CIF.\n",
      "Species occupancies sum to more than 1!\n",
      "  warnings.warn(\"Issues encountered while parsing CIF: \" + \"\\n\".join(self.warnings))\n",
      "/Tmp/dingqian/miniconda3/envs/crystal-llm/lib/python3.8/site-packages/pymatgen/io/cif.py:1009: UserWarning: Some occupancies ([1.0, 1.0, 1.0, 2.0, 2.0, 1.0, 1.0, 2.0, 1.0, 1.0, 1.0, 1.0, 1.0, 1.0, 1.0]) sum to > 1! If they are within the occupancy_tolerance, they will be rescaled. The current occupancy_tolerance is set to: 1.0\n",
      "  warnings.warn(msg)\n",
      "/Tmp/dingqian/miniconda3/envs/crystal-llm/lib/python3.8/site-packages/pymatgen/io/cif.py:1168: UserWarning: Issues encountered while parsing CIF: Some occupancies ([1.0, 1.0, 1.0, 2.0, 2.0, 1.0, 1.0, 2.0, 1.0, 1.0, 1.0, 1.0, 1.0, 1.0, 1.0]) sum to > 1! If they are within the occupancy_tolerance, they will be rescaled. The current occupancy_tolerance is set to: 1.0\n",
      "No structure parsed for section 1 in CIF.\n",
      "Species occupancies sum to more than 1!\n",
      "  warnings.warn(\"Issues encountered while parsing CIF: \" + \"\\n\".join(self.warnings))\n"
     ]
    },
    {
     "name": "stdout",
     "output_type": "stream",
     "text": [
      "Invalid CIF file with no structures!\n",
      "Invalid CIF file with no structures!\n",
      "Invalid CIF file with no structures!\n",
      "list index out of range\n",
      "Invalid CIF file with no structures!\n",
      "Invalid CIF file with no structures!\n",
      "Invalid CIF file with no structures!\n",
      "Invalid CIF file with no structures!\n"
     ]
    },
    {
     "name": "stderr",
     "output_type": "stream",
     "text": [
      " 15%|█▍        | 1116/7570 [00:02<00:12, 508.10it/s]/Tmp/dingqian/miniconda3/envs/crystal-llm/lib/python3.8/site-packages/pymatgen/io/cif.py:1009: UserWarning: Some occupancies ([1.0, 1.0, 1.0, 1.0, 1.0, 1.0, 1.0, 1.0, 1.0, 2.0, 1.0, 1.0, 1.0, 1.0, 1.0, 1.0, 1.0]) sum to > 1! If they are within the occupancy_tolerance, they will be rescaled. The current occupancy_tolerance is set to: 1.0\n",
      "  warnings.warn(msg)\n",
      "/Tmp/dingqian/miniconda3/envs/crystal-llm/lib/python3.8/site-packages/pymatgen/io/cif.py:1168: UserWarning: Issues encountered while parsing CIF: Some occupancies ([1.0, 1.0, 1.0, 1.0, 1.0, 1.0, 1.0, 1.0, 1.0, 2.0, 1.0, 1.0, 1.0, 1.0, 1.0, 1.0, 1.0]) sum to > 1! If they are within the occupancy_tolerance, they will be rescaled. The current occupancy_tolerance is set to: 1.0\n",
      "No structure parsed for section 1 in CIF.\n",
      "Species occupancies sum to more than 1!\n",
      "  warnings.warn(\"Issues encountered while parsing CIF: \" + \"\\n\".join(self.warnings))\n",
      "/Tmp/dingqian/miniconda3/envs/crystal-llm/lib/python3.8/site-packages/pymatgen/io/cif.py:1009: UserWarning: Some occupancies ([29.0]) sum to > 1! If they are within the occupancy_tolerance, they will be rescaled. The current occupancy_tolerance is set to: 1.0\n",
      "  warnings.warn(msg)\n",
      "/Tmp/dingqian/miniconda3/envs/crystal-llm/lib/python3.8/site-packages/pymatgen/io/cif.py:1168: UserWarning: Issues encountered while parsing CIF: Some occupancies ([29.0]) sum to > 1! If they are within the occupancy_tolerance, they will be rescaled. The current occupancy_tolerance is set to: 1.0\n",
      "No structure parsed for section 1 in CIF.\n",
      "Species occupancies sum to more than 1!\n",
      "  warnings.warn(\"Issues encountered while parsing CIF: \" + \"\\n\".join(self.warnings))\n",
      " 15%|█▌        | 1170/7570 [00:02<00:12, 515.93it/s]/Tmp/dingqian/miniconda3/envs/crystal-llm/lib/python3.8/site-packages/pymatgen/io/cif.py:1009: UserWarning: Some occupancies ([1.0, 1.0, 1.0, 2.0, 1.0, 1.0, 1.0, 1.0, 1.0, 1.0, 1.0, 1.0]) sum to > 1! If they are within the occupancy_tolerance, they will be rescaled. The current occupancy_tolerance is set to: 1.0\n",
      "  warnings.warn(msg)\n",
      "/Tmp/dingqian/miniconda3/envs/crystal-llm/lib/python3.8/site-packages/pymatgen/io/cif.py:1168: UserWarning: Issues encountered while parsing CIF: Some occupancies ([1.0, 1.0, 1.0, 2.0, 1.0, 1.0, 1.0, 1.0, 1.0, 1.0, 1.0, 1.0]) sum to > 1! If they are within the occupancy_tolerance, they will be rescaled. The current occupancy_tolerance is set to: 1.0\n",
      "No structure parsed for section 1 in CIF.\n",
      "Species occupancies sum to more than 1!\n",
      "  warnings.warn(\"Issues encountered while parsing CIF: \" + \"\\n\".join(self.warnings))\n",
      " 16%|█▌        | 1224/7570 [00:02<00:12, 519.56it/s]"
     ]
    },
    {
     "name": "stdout",
     "output_type": "stream",
     "text": [
      "Invalid CIF file with no structures!\n",
      "Invalid CIF file with no structures!\n",
      "Invalid CIF file with no structures!\n"
     ]
    },
    {
     "name": "stderr",
     "output_type": "stream",
     "text": [
      "/Tmp/dingqian/miniconda3/envs/crystal-llm/lib/python3.8/site-packages/pymatgen/io/cif.py:1009: UserWarning: Some occupancies ([1.0, 1.0, 1.0, 1.0, 1.0, 2.0, 1.0, 1.0, 2.0, 2.0, 1.0, 1.0, 1.0]) sum to > 1! If they are within the occupancy_tolerance, they will be rescaled. The current occupancy_tolerance is set to: 1.0\n",
      "  warnings.warn(msg)\n",
      "/Tmp/dingqian/miniconda3/envs/crystal-llm/lib/python3.8/site-packages/pymatgen/io/cif.py:1168: UserWarning: Issues encountered while parsing CIF: Some occupancies ([1.0, 1.0, 1.0, 1.0, 1.0, 2.0, 1.0, 1.0, 2.0, 2.0, 1.0, 1.0, 1.0]) sum to > 1! If they are within the occupancy_tolerance, they will be rescaled. The current occupancy_tolerance is set to: 1.0\n",
      "No structure parsed for section 1 in CIF.\n",
      "Species occupancies sum to more than 1!\n",
      "  warnings.warn(\"Issues encountered while parsing CIF: \" + \"\\n\".join(self.warnings))\n",
      " 17%|█▋        | 1277/7570 [00:02<00:12, 520.93it/s]/Tmp/dingqian/miniconda3/envs/crystal-llm/lib/python3.8/site-packages/pymatgen/io/cif.py:1009: UserWarning: Some occupancies ([1.0, 1.0, 2.0, 1.0, 1.0, 1.0, 1.0, 1.0, 1.0, 1.0, 1.0, 1.0, 1.0, 1.0, 1.0, 1.0, 1.0, 1.0, 1.0]) sum to > 1! If they are within the occupancy_tolerance, they will be rescaled. The current occupancy_tolerance is set to: 1.0\n",
      "  warnings.warn(msg)\n",
      "/Tmp/dingqian/miniconda3/envs/crystal-llm/lib/python3.8/site-packages/pymatgen/io/cif.py:1168: UserWarning: Issues encountered while parsing CIF: Some occupancies ([1.0, 1.0, 2.0, 1.0, 1.0, 1.0, 1.0, 1.0, 1.0, 1.0, 1.0, 1.0, 1.0, 1.0, 1.0, 1.0, 1.0, 1.0, 1.0]) sum to > 1! If they are within the occupancy_tolerance, they will be rescaled. The current occupancy_tolerance is set to: 1.0\n",
      "No structure parsed for section 1 in CIF.\n",
      "Species occupancies sum to more than 1!\n",
      "  warnings.warn(\"Issues encountered while parsing CIF: \" + \"\\n\".join(self.warnings))\n",
      "/Tmp/dingqian/miniconda3/envs/crystal-llm/lib/python3.8/site-packages/pymatgen/io/cif.py:1009: UserWarning: Some occupancies ([2.0, 2.0, 2.0, 2.0, 2.0, 2.0, 1.0, 1.0, 1.0, 1.0, 1.0, 1.0, 1.0]) sum to > 1! If they are within the occupancy_tolerance, they will be rescaled. The current occupancy_tolerance is set to: 1.0\n",
      "  warnings.warn(msg)\n",
      "/Tmp/dingqian/miniconda3/envs/crystal-llm/lib/python3.8/site-packages/pymatgen/io/cif.py:1168: UserWarning: Issues encountered while parsing CIF: Some occupancies ([2.0, 2.0, 2.0, 2.0, 2.0, 2.0, 1.0, 1.0, 1.0, 1.0, 1.0, 1.0, 1.0]) sum to > 1! If they are within the occupancy_tolerance, they will be rescaled. The current occupancy_tolerance is set to: 1.0\n",
      "No structure parsed for section 1 in CIF.\n",
      "Species occupancies sum to more than 1!\n",
      "  warnings.warn(\"Issues encountered while parsing CIF: \" + \"\\n\".join(self.warnings))\n",
      "/Tmp/dingqian/miniconda3/envs/crystal-llm/lib/python3.8/site-packages/pymatgen/io/cif.py:1009: UserWarning: Some occupancies ([1.0, 1.0, 1.0, 1.0, 2.0, 1.0, 1.0, 1.0, 1.0, 1.0, 1.0, 1.0, 1.0, 1.0, 1.0, 1.0, 1.0]) sum to > 1! If they are within the occupancy_tolerance, they will be rescaled. The current occupancy_tolerance is set to: 1.0\n",
      "  warnings.warn(msg)\n",
      "/Tmp/dingqian/miniconda3/envs/crystal-llm/lib/python3.8/site-packages/pymatgen/io/cif.py:1168: UserWarning: Issues encountered while parsing CIF: Some occupancies ([1.0, 1.0, 1.0, 1.0, 2.0, 1.0, 1.0, 1.0, 1.0, 1.0, 1.0, 1.0, 1.0, 1.0, 1.0, 1.0, 1.0]) sum to > 1! If they are within the occupancy_tolerance, they will be rescaled. The current occupancy_tolerance is set to: 1.0\n",
      "No structure parsed for section 1 in CIF.\n",
      "Species occupancies sum to more than 1!\n",
      "  warnings.warn(\"Issues encountered while parsing CIF: \" + \"\\n\".join(self.warnings))\n",
      " 18%|█▊        | 1330/7570 [00:02<00:12, 518.08it/s]"
     ]
    },
    {
     "name": "stdout",
     "output_type": "stream",
     "text": [
      "Invalid CIF file with no structures!\n",
      "Invalid CIF file with no structures!\n",
      "Invalid CIF file with no structures!\n",
      "could not convert string to float: 'To'\n",
      "Invalid CIF file with no structures!\n",
      "Invalid CIF file with no structures!\n"
     ]
    },
    {
     "name": "stderr",
     "output_type": "stream",
     "text": [
      "/Tmp/dingqian/miniconda3/envs/crystal-llm/lib/python3.8/site-packages/pymatgen/io/cif.py:1009: UserWarning: Some occupancies ([1.0, 1.0, 1.0, 1.0, 1.0, 1.0, 2.0, 2.0, 1.0, 1.0, 1.0, 1.0, 1.0, 1.0, 1.0, 1.0, 1.0, 1.0, 1.0, 1.0, 1.0, 1.0]) sum to > 1! If they are within the occupancy_tolerance, they will be rescaled. The current occupancy_tolerance is set to: 1.0\n",
      "  warnings.warn(msg)\n",
      "/Tmp/dingqian/miniconda3/envs/crystal-llm/lib/python3.8/site-packages/pymatgen/io/cif.py:1168: UserWarning: Issues encountered while parsing CIF: Some occupancies ([1.0, 1.0, 1.0, 1.0, 1.0, 1.0, 2.0, 2.0, 1.0, 1.0, 1.0, 1.0, 1.0, 1.0, 1.0, 1.0, 1.0, 1.0, 1.0, 1.0, 1.0, 1.0]) sum to > 1! If they are within the occupancy_tolerance, they will be rescaled. The current occupancy_tolerance is set to: 1.0\n",
      "No structure parsed for section 1 in CIF.\n",
      "Species occupancies sum to more than 1!\n",
      "  warnings.warn(\"Issues encountered while parsing CIF: \" + \"\\n\".join(self.warnings))\n",
      " 18%|█▊        | 1382/7570 [00:02<00:12, 511.90it/s]/Tmp/dingqian/miniconda3/envs/crystal-llm/lib/python3.8/site-packages/pymatgen/io/cif.py:1009: UserWarning: Some occupancies ([1.0, 2.0, 1.0, 1.0]) sum to > 1! If they are within the occupancy_tolerance, they will be rescaled. The current occupancy_tolerance is set to: 1.0\n",
      "  warnings.warn(msg)\n",
      "/Tmp/dingqian/miniconda3/envs/crystal-llm/lib/python3.8/site-packages/pymatgen/io/cif.py:1168: UserWarning: Issues encountered while parsing CIF: Some occupancies ([1.0, 2.0, 1.0, 1.0]) sum to > 1! If they are within the occupancy_tolerance, they will be rescaled. The current occupancy_tolerance is set to: 1.0\n",
      "No structure parsed for section 1 in CIF.\n",
      "Species occupancies sum to more than 1!\n",
      "  warnings.warn(\"Issues encountered while parsing CIF: \" + \"\\n\".join(self.warnings))\n",
      " 19%|█▉        | 1434/7570 [00:02<00:12, 506.66it/s]/Tmp/dingqian/miniconda3/envs/crystal-llm/lib/python3.8/site-packages/pymatgen/io/cif.py:1009: UserWarning: Some occupancies ([1.0, 1.0, 1.0, 2.0, 2.0, 2.0, 1.0, 2.0, 1.0]) sum to > 1! If they are within the occupancy_tolerance, they will be rescaled. The current occupancy_tolerance is set to: 1.0\n",
      "  warnings.warn(msg)\n",
      "/Tmp/dingqian/miniconda3/envs/crystal-llm/lib/python3.8/site-packages/pymatgen/io/cif.py:1168: UserWarning: Issues encountered while parsing CIF: Some occupancies ([1.0, 1.0, 1.0, 2.0, 2.0, 2.0, 1.0, 2.0, 1.0]) sum to > 1! If they are within the occupancy_tolerance, they will be rescaled. The current occupancy_tolerance is set to: 1.0\n",
      "No structure parsed for section 1 in CIF.\n",
      "Species occupancies sum to more than 1!\n",
      "  warnings.warn(\"Issues encountered while parsing CIF: \" + \"\\n\".join(self.warnings))\n",
      "/Tmp/dingqian/miniconda3/envs/crystal-llm/lib/python3.8/site-packages/pymatgen/io/cif.py:1009: UserWarning: Some occupancies ([1.0, 2.0, 1.0, 1.0, 1.0, 1.0, 1.0, 1.0, 1.0, 1.0, 1.0, 1.0, 1.0]) sum to > 1! If they are within the occupancy_tolerance, they will be rescaled. The current occupancy_tolerance is set to: 1.0\n",
      "  warnings.warn(msg)\n",
      "/Tmp/dingqian/miniconda3/envs/crystal-llm/lib/python3.8/site-packages/pymatgen/io/cif.py:1168: UserWarning: Issues encountered while parsing CIF: Some occupancies ([1.0, 2.0, 1.0, 1.0, 1.0, 1.0, 1.0, 1.0, 1.0, 1.0, 1.0, 1.0, 1.0]) sum to > 1! If they are within the occupancy_tolerance, they will be rescaled. The current occupancy_tolerance is set to: 1.0\n",
      "No structure parsed for section 1 in CIF.\n",
      "Species occupancies sum to more than 1!\n",
      "  warnings.warn(\"Issues encountered while parsing CIF: \" + \"\\n\".join(self.warnings))\n"
     ]
    },
    {
     "name": "stdout",
     "output_type": "stream",
     "text": [
      "Invalid CIF file with no structures!\n",
      "Invalid CIF file with no structures!\n",
      "Invalid CIF file with no structures!\n",
      "Invalid CIF file with no structures!\n"
     ]
    },
    {
     "name": "stderr",
     "output_type": "stream",
     "text": [
      " 20%|█▉        | 1485/7570 [00:02<00:11, 507.21it/s]/Tmp/dingqian/miniconda3/envs/crystal-llm/lib/python3.8/site-packages/pymatgen/io/cif.py:1009: UserWarning: Some occupancies ([1.0, 1.0, 1.0, 1.0, 2.0, 2.0, 2.0, 2.0, 1.0, 1.0, 1.0, 1.0, 1.0, 1.0, 1.0, 1.0, 1.0, 1.0, 1.0]) sum to > 1! If they are within the occupancy_tolerance, they will be rescaled. The current occupancy_tolerance is set to: 1.0\n",
      "  warnings.warn(msg)\n",
      "/Tmp/dingqian/miniconda3/envs/crystal-llm/lib/python3.8/site-packages/pymatgen/io/cif.py:1168: UserWarning: Issues encountered while parsing CIF: Some occupancies ([1.0, 1.0, 1.0, 1.0, 2.0, 2.0, 2.0, 2.0, 1.0, 1.0, 1.0, 1.0, 1.0, 1.0, 1.0, 1.0, 1.0, 1.0, 1.0]) sum to > 1! If they are within the occupancy_tolerance, they will be rescaled. The current occupancy_tolerance is set to: 1.0\n",
      "No structure parsed for section 1 in CIF.\n",
      "Species occupancies sum to more than 1!\n",
      "  warnings.warn(\"Issues encountered while parsing CIF: \" + \"\\n\".join(self.warnings))\n",
      "/Tmp/dingqian/miniconda3/envs/crystal-llm/lib/python3.8/site-packages/pymatgen/io/cif.py:1009: UserWarning: Some occupancies ([1.0, 1.0, 1.0, 2.0, 1.0, 1.0, 1.0, 1.0, 1.0, 1.0, 1.0, 1.0, 1.0, 1.0, 1.0]) sum to > 1! If they are within the occupancy_tolerance, they will be rescaled. The current occupancy_tolerance is set to: 1.0\n",
      "  warnings.warn(msg)\n",
      "/Tmp/dingqian/miniconda3/envs/crystal-llm/lib/python3.8/site-packages/pymatgen/io/cif.py:1168: UserWarning: Issues encountered while parsing CIF: Some occupancies ([1.0, 1.0, 1.0, 2.0, 1.0, 1.0, 1.0, 1.0, 1.0, 1.0, 1.0, 1.0, 1.0, 1.0, 1.0]) sum to > 1! If they are within the occupancy_tolerance, they will be rescaled. The current occupancy_tolerance is set to: 1.0\n",
      "No structure parsed for section 1 in CIF.\n",
      "Species occupancies sum to more than 1!\n",
      "  warnings.warn(\"Issues encountered while parsing CIF: \" + \"\\n\".join(self.warnings))\n",
      " 20%|██        | 1539/7570 [00:03<00:11, 515.52it/s]/Tmp/dingqian/miniconda3/envs/crystal-llm/lib/python3.8/site-packages/pymatgen/io/cif.py:1009: UserWarning: Some occupancies ([1.0, 1.0, 2.0, 1.0, 1.0, 1.0, 1.0, 1.0, 1.0, 1.0, 1.0, 1.0, 1.0, 1.0, 1.0, 1.0, 1.0]) sum to > 1! If they are within the occupancy_tolerance, they will be rescaled. The current occupancy_tolerance is set to: 1.0\n",
      "  warnings.warn(msg)\n",
      "/Tmp/dingqian/miniconda3/envs/crystal-llm/lib/python3.8/site-packages/pymatgen/io/cif.py:1168: UserWarning: Issues encountered while parsing CIF: Some occupancies ([1.0, 1.0, 2.0, 1.0, 1.0, 1.0, 1.0, 1.0, 1.0, 1.0, 1.0, 1.0, 1.0, 1.0, 1.0, 1.0, 1.0]) sum to > 1! If they are within the occupancy_tolerance, they will be rescaled. The current occupancy_tolerance is set to: 1.0\n",
      "No structure parsed for section 1 in CIF.\n",
      "Species occupancies sum to more than 1!\n",
      "  warnings.warn(\"Issues encountered while parsing CIF: \" + \"\\n\".join(self.warnings))\n",
      " 21%|██        | 1593/7570 [00:03<00:11, 518.43it/s]/Tmp/dingqian/miniconda3/envs/crystal-llm/lib/python3.8/site-packages/pymatgen/io/cif.py:1009: UserWarning: Some occupancies ([1.0, 1.0, 1.0, 1.0, 1.0, 1.0, 1.0, 1.0, 1.0, 1.0, 1.0, 1.0, 1.0, 1.0, 1.0, 2.0, 1.0, 1.0]) sum to > 1! If they are within the occupancy_tolerance, they will be rescaled. The current occupancy_tolerance is set to: 1.0\n",
      "  warnings.warn(msg)\n",
      "/Tmp/dingqian/miniconda3/envs/crystal-llm/lib/python3.8/site-packages/pymatgen/io/cif.py:1168: UserWarning: Issues encountered while parsing CIF: Some occupancies ([1.0, 1.0, 1.0, 1.0, 1.0, 1.0, 1.0, 1.0, 1.0, 1.0, 1.0, 1.0, 1.0, 1.0, 1.0, 2.0, 1.0, 1.0]) sum to > 1! If they are within the occupancy_tolerance, they will be rescaled. The current occupancy_tolerance is set to: 1.0\n",
      "No structure parsed for section 1 in CIF.\n",
      "Species occupancies sum to more than 1!\n",
      "  warnings.warn(\"Issues encountered while parsing CIF: \" + \"\\n\".join(self.warnings))\n",
      "/Tmp/dingqian/miniconda3/envs/crystal-llm/lib/python3.8/site-packages/pymatgen/io/cif.py:1009: UserWarning: Some occupancies ([1.0, 1.0, 1.0, 1.0, 1.0, 1.0, 1.0, 1.0, 1.0, 1.0, 2.0, 1.0, 1.0, 1.0, 1.0, 1.0, 1.0]) sum to > 1! If they are within the occupancy_tolerance, they will be rescaled. The current occupancy_tolerance is set to: 1.0\n",
      "  warnings.warn(msg)\n",
      "/Tmp/dingqian/miniconda3/envs/crystal-llm/lib/python3.8/site-packages/pymatgen/io/cif.py:1168: UserWarning: Issues encountered while parsing CIF: Some occupancies ([1.0, 1.0, 1.0, 1.0, 1.0, 1.0, 1.0, 1.0, 1.0, 1.0, 2.0, 1.0, 1.0, 1.0, 1.0, 1.0, 1.0]) sum to > 1! If they are within the occupancy_tolerance, they will be rescaled. The current occupancy_tolerance is set to: 1.0\n",
      "No structure parsed for section 1 in CIF.\n",
      "Species occupancies sum to more than 1!\n",
      "  warnings.warn(\"Issues encountered while parsing CIF: \" + \"\\n\".join(self.warnings))\n",
      "/Tmp/dingqian/miniconda3/envs/crystal-llm/lib/python3.8/site-packages/pymatgen/io/cif.py:1009: UserWarning: Some occupancies ([1.0, 1.0, 1.0, 1.0, 1.0, 2.0, 1.0, 2.0, 2.0, 1.0, 1.0]) sum to > 1! If they are within the occupancy_tolerance, they will be rescaled. The current occupancy_tolerance is set to: 1.0\n",
      "  warnings.warn(msg)\n",
      "/Tmp/dingqian/miniconda3/envs/crystal-llm/lib/python3.8/site-packages/pymatgen/io/cif.py:1168: UserWarning: Issues encountered while parsing CIF: Some occupancies ([1.0, 1.0, 1.0, 1.0, 1.0, 2.0, 1.0, 2.0, 2.0, 1.0, 1.0]) sum to > 1! If they are within the occupancy_tolerance, they will be rescaled. The current occupancy_tolerance is set to: 1.0\n",
      "No structure parsed for section 1 in CIF.\n",
      "Species occupancies sum to more than 1!\n",
      "  warnings.warn(\"Issues encountered while parsing CIF: \" + \"\\n\".join(self.warnings))\n"
     ]
    },
    {
     "name": "stdout",
     "output_type": "stream",
     "text": [
      "Invalid CIF file with no structures!\n",
      "Invalid CIF file with no structures!\n",
      "Invalid CIF file with no structures!\n",
      "Invalid CIF file with no structures!\n",
      "Invalid CIF file with no structures!\n",
      "Invalid CIF file with no structures!\n",
      "Invalid CIF file with no structures!\n"
     ]
    },
    {
     "name": "stderr",
     "output_type": "stream",
     "text": [
      " 22%|██▏       | 1646/7570 [00:03<00:11, 520.62it/s]/Tmp/dingqian/miniconda3/envs/crystal-llm/lib/python3.8/site-packages/pymatgen/io/cif.py:1009: UserWarning: Some occupancies ([1.0, 1.0, 1.0, 1.0, 1.0, 1.0, 1.0, 1.0, 1.0, 1.0, 1.0, 1.0, 2.0, 2.0, 1.0, 1.0, 1.0]) sum to > 1! If they are within the occupancy_tolerance, they will be rescaled. The current occupancy_tolerance is set to: 1.0\n",
      "  warnings.warn(msg)\n",
      "/Tmp/dingqian/miniconda3/envs/crystal-llm/lib/python3.8/site-packages/pymatgen/io/cif.py:1168: UserWarning: Issues encountered while parsing CIF: Some occupancies ([1.0, 1.0, 1.0, 1.0, 1.0, 1.0, 1.0, 1.0, 1.0, 1.0, 1.0, 1.0, 2.0, 2.0, 1.0, 1.0, 1.0]) sum to > 1! If they are within the occupancy_tolerance, they will be rescaled. The current occupancy_tolerance is set to: 1.0\n",
      "No structure parsed for section 1 in CIF.\n",
      "Species occupancies sum to more than 1!\n",
      "  warnings.warn(\"Issues encountered while parsing CIF: \" + \"\\n\".join(self.warnings))\n",
      "/Tmp/dingqian/miniconda3/envs/crystal-llm/lib/python3.8/site-packages/pymatgen/io/cif.py:1009: UserWarning: Some occupancies ([1.0, 1.0, 1.0, 1.0, 1.0, 2.0, 2.0, 1.0, 2.0]) sum to > 1! If they are within the occupancy_tolerance, they will be rescaled. The current occupancy_tolerance is set to: 1.0\n",
      "  warnings.warn(msg)\n",
      "/Tmp/dingqian/miniconda3/envs/crystal-llm/lib/python3.8/site-packages/pymatgen/io/cif.py:1168: UserWarning: Issues encountered while parsing CIF: Some occupancies ([1.0, 1.0, 1.0, 1.0, 1.0, 2.0, 2.0, 1.0, 2.0]) sum to > 1! If they are within the occupancy_tolerance, they will be rescaled. The current occupancy_tolerance is set to: 1.0\n",
      "No structure parsed for section 1 in CIF.\n",
      "Species occupancies sum to more than 1!\n",
      "  warnings.warn(\"Issues encountered while parsing CIF: \" + \"\\n\".join(self.warnings))\n",
      " 23%|██▎       | 1752/7570 [00:03<00:11, 521.26it/s]"
     ]
    },
    {
     "name": "stdout",
     "output_type": "stream",
     "text": [
      "Invalid CIF file with no structures!\n",
      "Invalid CIF file with no structures!\n"
     ]
    },
    {
     "name": "stderr",
     "output_type": "stream",
     "text": [
      " 24%|██▍       | 1805/7570 [00:03<00:11, 518.38it/s]/Tmp/dingqian/miniconda3/envs/crystal-llm/lib/python3.8/site-packages/pymatgen/io/cif.py:1009: UserWarning: Some occupancies ([1.0, 1.0, 1.0, 1.0, 1.0, 1.0, 1.0, 1.0, 2.0, 1.0, 1.0, 1.0, 1.0, 1.0, 1.0, 1.0, 1.0, 1.0, 1.0]) sum to > 1! If they are within the occupancy_tolerance, they will be rescaled. The current occupancy_tolerance is set to: 1.0\n",
      "  warnings.warn(msg)\n",
      "/Tmp/dingqian/miniconda3/envs/crystal-llm/lib/python3.8/site-packages/pymatgen/io/cif.py:1168: UserWarning: Issues encountered while parsing CIF: Some occupancies ([1.0, 1.0, 1.0, 1.0, 1.0, 1.0, 1.0, 1.0, 2.0, 1.0, 1.0, 1.0, 1.0, 1.0, 1.0, 1.0, 1.0, 1.0, 1.0]) sum to > 1! If they are within the occupancy_tolerance, they will be rescaled. The current occupancy_tolerance is set to: 1.0\n",
      "No structure parsed for section 1 in CIF.\n",
      "Species occupancies sum to more than 1!\n",
      "  warnings.warn(\"Issues encountered while parsing CIF: \" + \"\\n\".join(self.warnings))\n",
      " 25%|██▍       | 1857/7570 [00:03<00:11, 518.39it/s]"
     ]
    },
    {
     "name": "stdout",
     "output_type": "stream",
     "text": [
      "Invalid CIF file with no structures!\n",
      "Invalid CIF file with no structures!\n",
      "Invalid CIF file with no structures!\n",
      "Invalid CIF file with no structures!\n"
     ]
    },
    {
     "name": "stderr",
     "output_type": "stream",
     "text": [
      "/Tmp/dingqian/miniconda3/envs/crystal-llm/lib/python3.8/site-packages/pymatgen/io/cif.py:1009: UserWarning: Some occupancies ([1.0, 1.0, 1.0, 1.0, 2.0, 2.0, 2.0, 2.0, 1.0, 1.0, 1.0, 1.0, 1.0, 1.0, 1.0, 1.0]) sum to > 1! If they are within the occupancy_tolerance, they will be rescaled. The current occupancy_tolerance is set to: 1.0\n",
      "  warnings.warn(msg)\n",
      "/Tmp/dingqian/miniconda3/envs/crystal-llm/lib/python3.8/site-packages/pymatgen/io/cif.py:1168: UserWarning: Issues encountered while parsing CIF: Some occupancies ([1.0, 1.0, 1.0, 1.0, 2.0, 2.0, 2.0, 2.0, 1.0, 1.0, 1.0, 1.0, 1.0, 1.0, 1.0, 1.0]) sum to > 1! If they are within the occupancy_tolerance, they will be rescaled. The current occupancy_tolerance is set to: 1.0\n",
      "No structure parsed for section 1 in CIF.\n",
      "Species occupancies sum to more than 1!\n",
      "  warnings.warn(\"Issues encountered while parsing CIF: \" + \"\\n\".join(self.warnings))\n",
      " 26%|██▌       | 1968/7570 [00:03<00:10, 522.67it/s]/Tmp/dingqian/miniconda3/envs/crystal-llm/lib/python3.8/site-packages/pymatgen/core/periodic_table.py:221: UserWarning: No Pauling electronegativity for Ar. Setting to NaN. This has no physical meaning, and is mainly done to avoid errors caused by the code expecting a float.\n",
      "  warnings.warn(\n",
      " 27%|██▋       | 2021/7570 [00:03<00:10, 518.66it/s]/Tmp/dingqian/miniconda3/envs/crystal-llm/lib/python3.8/site-packages/pymatgen/io/cif.py:1009: UserWarning: Some occupancies ([1.0, 1.0, 1.0, 1.0, 1.0, 1.0, 1.0, 1.0, 1.0, 1.0, 1.0, 1.0, 1.0, 1.0, 1.0, 2.0, 1.0, 1.0, 1.0, 1.0, 1.0, 1.0, 1.0, 1.0]) sum to > 1! If they are within the occupancy_tolerance, they will be rescaled. The current occupancy_tolerance is set to: 1.0\n",
      "  warnings.warn(msg)\n",
      "/Tmp/dingqian/miniconda3/envs/crystal-llm/lib/python3.8/site-packages/pymatgen/io/cif.py:1168: UserWarning: Issues encountered while parsing CIF: Some occupancies ([1.0, 1.0, 1.0, 1.0, 1.0, 1.0, 1.0, 1.0, 1.0, 1.0, 1.0, 1.0, 1.0, 1.0, 1.0, 2.0, 1.0, 1.0, 1.0, 1.0, 1.0, 1.0, 1.0, 1.0]) sum to > 1! If they are within the occupancy_tolerance, they will be rescaled. The current occupancy_tolerance is set to: 1.0\n",
      "No structure parsed for section 1 in CIF.\n",
      "Species occupancies sum to more than 1!\n",
      "  warnings.warn(\"Issues encountered while parsing CIF: \" + \"\\n\".join(self.warnings))\n",
      "/Tmp/dingqian/miniconda3/envs/crystal-llm/lib/python3.8/site-packages/pymatgen/io/cif.py:1009: UserWarning: Some occupancies ([1.0, 1.0, 1.0, 1.0, 1.0, 1.0, 1.0, 1.0, 1.0, 1.0, 2.0, 1.0, 1.0]) sum to > 1! If they are within the occupancy_tolerance, they will be rescaled. The current occupancy_tolerance is set to: 1.0\n",
      "  warnings.warn(msg)\n",
      "/Tmp/dingqian/miniconda3/envs/crystal-llm/lib/python3.8/site-packages/pymatgen/io/cif.py:1168: UserWarning: Issues encountered while parsing CIF: Some occupancies ([1.0, 1.0, 1.0, 1.0, 1.0, 1.0, 1.0, 1.0, 1.0, 1.0, 2.0, 1.0, 1.0]) sum to > 1! If they are within the occupancy_tolerance, they will be rescaled. The current occupancy_tolerance is set to: 1.0\n",
      "No structure parsed for section 1 in CIF.\n",
      "Species occupancies sum to more than 1!\n",
      "  warnings.warn(\"Issues encountered while parsing CIF: \" + \"\\n\".join(self.warnings))\n",
      " 27%|██▋       | 2075/7570 [00:04<00:10, 520.23it/s]/Tmp/dingqian/miniconda3/envs/crystal-llm/lib/python3.8/site-packages/pymatgen/io/cif.py:1009: UserWarning: Some occupancies ([1.0, 2.0, 1.0, 1.0, 1.0, 1.0, 1.0]) sum to > 1! If they are within the occupancy_tolerance, they will be rescaled. The current occupancy_tolerance is set to: 1.0\n",
      "  warnings.warn(msg)\n",
      "/Tmp/dingqian/miniconda3/envs/crystal-llm/lib/python3.8/site-packages/pymatgen/io/cif.py:1168: UserWarning: Issues encountered while parsing CIF: Some occupancies ([1.0, 2.0, 1.0, 1.0, 1.0, 1.0, 1.0]) sum to > 1! If they are within the occupancy_tolerance, they will be rescaled. The current occupancy_tolerance is set to: 1.0\n",
      "No structure parsed for section 1 in CIF.\n",
      "Species occupancies sum to more than 1!\n",
      "  warnings.warn(\"Issues encountered while parsing CIF: \" + \"\\n\".join(self.warnings))\n",
      "/Tmp/dingqian/miniconda3/envs/crystal-llm/lib/python3.8/site-packages/pymatgen/io/cif.py:1009: UserWarning: Some occupancies ([1.0, 1.0, 1.0, 1.0, 1.0, 2.0, 1.0, 1.0, 1.0, 1.0, 1.0, 1.0, 1.0]) sum to > 1! If they are within the occupancy_tolerance, they will be rescaled. The current occupancy_tolerance is set to: 1.0\n",
      "  warnings.warn(msg)\n",
      "/Tmp/dingqian/miniconda3/envs/crystal-llm/lib/python3.8/site-packages/pymatgen/io/cif.py:1168: UserWarning: Issues encountered while parsing CIF: Some occupancies ([1.0, 1.0, 1.0, 1.0, 1.0, 2.0, 1.0, 1.0, 1.0, 1.0, 1.0, 1.0, 1.0]) sum to > 1! If they are within the occupancy_tolerance, they will be rescaled. The current occupancy_tolerance is set to: 1.0\n",
      "No structure parsed for section 1 in CIF.\n",
      "Species occupancies sum to more than 1!\n",
      "  warnings.warn(\"Issues encountered while parsing CIF: \" + \"\\n\".join(self.warnings))\n",
      "/Tmp/dingqian/miniconda3/envs/crystal-llm/lib/python3.8/site-packages/pymatgen/io/cif.py:1009: UserWarning: Some occupancies ([1.0, 1.0, 1.0, 1.0, 1.0, 2.0, 1.0, 1.0, 1.0, 1.0, 1.0, 1.0, 1.0, 1.0, 1.0, 1.0, 1.0]) sum to > 1! If they are within the occupancy_tolerance, they will be rescaled. The current occupancy_tolerance is set to: 1.0\n",
      "  warnings.warn(msg)\n",
      "/Tmp/dingqian/miniconda3/envs/crystal-llm/lib/python3.8/site-packages/pymatgen/io/cif.py:1168: UserWarning: Issues encountered while parsing CIF: Some occupancies ([1.0, 1.0, 1.0, 1.0, 1.0, 2.0, 1.0, 1.0, 1.0, 1.0, 1.0, 1.0, 1.0, 1.0, 1.0, 1.0, 1.0]) sum to > 1! If they are within the occupancy_tolerance, they will be rescaled. The current occupancy_tolerance is set to: 1.0\n",
      "No structure parsed for section 1 in CIF.\n",
      "Species occupancies sum to more than 1!\n",
      "  warnings.warn(\"Issues encountered while parsing CIF: \" + \"\\n\".join(self.warnings))\n",
      " 28%|██▊       | 2133/7570 [00:04<00:10, 535.60it/s]"
     ]
    },
    {
     "name": "stdout",
     "output_type": "stream",
     "text": [
      "Invalid CIF file with no structures!\n",
      "Invalid CIF file with no structures!\n",
      "could not convert string to float: 'To'\n",
      "Invalid CIF file with no structures!\n",
      "Invalid CIF file with no structures!\n",
      "Invalid CIF file with no structures!\n",
      "could not convert string to float: 'To'\n"
     ]
    },
    {
     "name": "stderr",
     "output_type": "stream",
     "text": [
      "/Tmp/dingqian/miniconda3/envs/crystal-llm/lib/python3.8/site-packages/pymatgen/io/cif.py:1009: UserWarning: Some occupancies ([1.0, 1.0, 1.0, 1.0, 1.0, 1.0, 2.0, 1.0, 1.0, 1.0, 1.0, 1.0, 1.0, 1.0, 1.0]) sum to > 1! If they are within the occupancy_tolerance, they will be rescaled. The current occupancy_tolerance is set to: 1.0\n",
      "  warnings.warn(msg)\n",
      "/Tmp/dingqian/miniconda3/envs/crystal-llm/lib/python3.8/site-packages/pymatgen/io/cif.py:1168: UserWarning: Issues encountered while parsing CIF: Some occupancies ([1.0, 1.0, 1.0, 1.0, 1.0, 1.0, 2.0, 1.0, 1.0, 1.0, 1.0, 1.0, 1.0, 1.0, 1.0]) sum to > 1! If they are within the occupancy_tolerance, they will be rescaled. The current occupancy_tolerance is set to: 1.0\n",
      "No structure parsed for section 1 in CIF.\n",
      "Species occupancies sum to more than 1!\n",
      "  warnings.warn(\"Issues encountered while parsing CIF: \" + \"\\n\".join(self.warnings))\n",
      " 30%|██▉       | 2245/7570 [00:04<00:09, 540.97it/s]/Tmp/dingqian/miniconda3/envs/crystal-llm/lib/python3.8/site-packages/pymatgen/io/cif.py:1009: UserWarning: Some occupancies ([1.0, 1.0, 1.0, 1.0, 1.0, 1.0, 1.0, 2.0, 1.0, 2.0, 1.0, 1.0]) sum to > 1! If they are within the occupancy_tolerance, they will be rescaled. The current occupancy_tolerance is set to: 1.0\n",
      "  warnings.warn(msg)\n",
      "/Tmp/dingqian/miniconda3/envs/crystal-llm/lib/python3.8/site-packages/pymatgen/io/cif.py:1168: UserWarning: Issues encountered while parsing CIF: Some occupancies ([1.0, 1.0, 1.0, 1.0, 1.0, 1.0, 1.0, 2.0, 1.0, 2.0, 1.0, 1.0]) sum to > 1! If they are within the occupancy_tolerance, they will be rescaled. The current occupancy_tolerance is set to: 1.0\n",
      "No structure parsed for section 1 in CIF.\n",
      "Species occupancies sum to more than 1!\n",
      "  warnings.warn(\"Issues encountered while parsing CIF: \" + \"\\n\".join(self.warnings))\n",
      "/Tmp/dingqian/miniconda3/envs/crystal-llm/lib/python3.8/site-packages/pymatgen/io/cif.py:1009: UserWarning: Some occupancies ([1.0, 1.0, 1.0, 1.0, 1.0, 1.0, 2.0, 1.0, 1.0]) sum to > 1! If they are within the occupancy_tolerance, they will be rescaled. The current occupancy_tolerance is set to: 1.0\n",
      "  warnings.warn(msg)\n",
      "/Tmp/dingqian/miniconda3/envs/crystal-llm/lib/python3.8/site-packages/pymatgen/io/cif.py:1168: UserWarning: Issues encountered while parsing CIF: Some occupancies ([1.0, 1.0, 1.0, 1.0, 1.0, 1.0, 2.0, 1.0, 1.0]) sum to > 1! If they are within the occupancy_tolerance, they will be rescaled. The current occupancy_tolerance is set to: 1.0\n",
      "No structure parsed for section 1 in CIF.\n",
      "Species occupancies sum to more than 1!\n",
      "  warnings.warn(\"Issues encountered while parsing CIF: \" + \"\\n\".join(self.warnings))\n",
      "/Tmp/dingqian/miniconda3/envs/crystal-llm/lib/python3.8/site-packages/pymatgen/io/cif.py:1009: UserWarning: Some occupancies ([2.0, 1.0, 1.0, 1.0, 2.0, 1.0, 1.0, 1.0, 1.0, 1.0, 1.0, 1.0, 1.0, 1.0, 1.0, 1.0, 1.0, 1.0]) sum to > 1! If they are within the occupancy_tolerance, they will be rescaled. The current occupancy_tolerance is set to: 1.0\n",
      "  warnings.warn(msg)\n",
      "/Tmp/dingqian/miniconda3/envs/crystal-llm/lib/python3.8/site-packages/pymatgen/io/cif.py:1168: UserWarning: Issues encountered while parsing CIF: Some occupancies ([2.0, 1.0, 1.0, 1.0, 2.0, 1.0, 1.0, 1.0, 1.0, 1.0, 1.0, 1.0, 1.0, 1.0, 1.0, 1.0, 1.0, 1.0]) sum to > 1! If they are within the occupancy_tolerance, they will be rescaled. The current occupancy_tolerance is set to: 1.0\n",
      "No structure parsed for section 1 in CIF.\n",
      "Species occupancies sum to more than 1!\n",
      "  warnings.warn(\"Issues encountered while parsing CIF: \" + \"\\n\".join(self.warnings))\n"
     ]
    },
    {
     "name": "stdout",
     "output_type": "stream",
     "text": [
      "Invalid CIF file with no structures!\n",
      "Invalid CIF file with no structures!\n",
      "Invalid CIF file with no structures!\n",
      "Invalid CIF file with no structures!\n",
      "Invalid CIF file with no structures!\n"
     ]
    },
    {
     "name": "stderr",
     "output_type": "stream",
     "text": [
      " 30%|███       | 2300/7570 [00:04<00:09, 533.48it/s]/Tmp/dingqian/miniconda3/envs/crystal-llm/lib/python3.8/site-packages/pymatgen/io/cif.py:1009: UserWarning: Some occupancies ([1.0, 1.0, 1.0, 1.0, 1.0, 1.0, 1.0, 1.0, 1.0, 1.0, 1.0, 1.0, 1.0, 2.0, 1.0, 1.0]) sum to > 1! If they are within the occupancy_tolerance, they will be rescaled. The current occupancy_tolerance is set to: 1.0\n",
      "  warnings.warn(msg)\n",
      "/Tmp/dingqian/miniconda3/envs/crystal-llm/lib/python3.8/site-packages/pymatgen/io/cif.py:1168: UserWarning: Issues encountered while parsing CIF: Some occupancies ([1.0, 1.0, 1.0, 1.0, 1.0, 1.0, 1.0, 1.0, 1.0, 1.0, 1.0, 1.0, 1.0, 2.0, 1.0, 1.0]) sum to > 1! If they are within the occupancy_tolerance, they will be rescaled. The current occupancy_tolerance is set to: 1.0\n",
      "No structure parsed for section 1 in CIF.\n",
      "Species occupancies sum to more than 1!\n",
      "  warnings.warn(\"Issues encountered while parsing CIF: \" + \"\\n\".join(self.warnings))\n",
      " 31%|███       | 2354/7570 [00:04<00:09, 526.20it/s]/Tmp/dingqian/miniconda3/envs/crystal-llm/lib/python3.8/site-packages/pymatgen/io/cif.py:1009: UserWarning: Some occupancies ([1.0, 1.0, 2.0, 1.0, 1.0, 2.0, 1.0, 1.0, 1.0]) sum to > 1! If they are within the occupancy_tolerance, they will be rescaled. The current occupancy_tolerance is set to: 1.0\n",
      "  warnings.warn(msg)\n",
      "/Tmp/dingqian/miniconda3/envs/crystal-llm/lib/python3.8/site-packages/pymatgen/io/cif.py:1168: UserWarning: Issues encountered while parsing CIF: Some occupancies ([1.0, 1.0, 2.0, 1.0, 1.0, 2.0, 1.0, 1.0, 1.0]) sum to > 1! If they are within the occupancy_tolerance, they will be rescaled. The current occupancy_tolerance is set to: 1.0\n",
      "No structure parsed for section 1 in CIF.\n",
      "Species occupancies sum to more than 1!\n",
      "  warnings.warn(\"Issues encountered while parsing CIF: \" + \"\\n\".join(self.warnings))\n",
      " 32%|███▏      | 2408/7570 [00:04<00:09, 529.80it/s]"
     ]
    },
    {
     "name": "stdout",
     "output_type": "stream",
     "text": [
      "Invalid CIF file with no structures!\n",
      "Invalid CIF file with no structures!\n",
      "Invalid CIF file with no structures!\n"
     ]
    },
    {
     "name": "stderr",
     "output_type": "stream",
     "text": [
      " 33%|███▎      | 2468/7570 [00:04<00:09, 548.55it/s]/Tmp/dingqian/miniconda3/envs/crystal-llm/lib/python3.8/site-packages/pymatgen/io/cif.py:1009: UserWarning: Some occupancies ([1.0, 1.0, 1.0, 2.0, 1.0, 1.0, 1.0, 1.0]) sum to > 1! If they are within the occupancy_tolerance, they will be rescaled. The current occupancy_tolerance is set to: 1.0\n",
      "  warnings.warn(msg)\n",
      "/Tmp/dingqian/miniconda3/envs/crystal-llm/lib/python3.8/site-packages/pymatgen/io/cif.py:1168: UserWarning: Issues encountered while parsing CIF: Some occupancies ([1.0, 1.0, 1.0, 2.0, 1.0, 1.0, 1.0, 1.0]) sum to > 1! If they are within the occupancy_tolerance, they will be rescaled. The current occupancy_tolerance is set to: 1.0\n",
      "No structure parsed for section 1 in CIF.\n",
      "Species occupancies sum to more than 1!\n",
      "  warnings.warn(\"Issues encountered while parsing CIF: \" + \"\\n\".join(self.warnings))\n",
      "/Tmp/dingqian/miniconda3/envs/crystal-llm/lib/python3.8/site-packages/pymatgen/io/cif.py:1009: UserWarning: Some occupancies ([2.0, 2.0, 1.0, 1.0, 1.0, 1.0, 1.0, 1.0, 1.0, 1.0, 1.0, 1.0, 1.0, 1.0]) sum to > 1! If they are within the occupancy_tolerance, they will be rescaled. The current occupancy_tolerance is set to: 1.0\n",
      "  warnings.warn(msg)\n",
      "/Tmp/dingqian/miniconda3/envs/crystal-llm/lib/python3.8/site-packages/pymatgen/io/cif.py:1168: UserWarning: Issues encountered while parsing CIF: Some occupancies ([2.0, 2.0, 1.0, 1.0, 1.0, 1.0, 1.0, 1.0, 1.0, 1.0, 1.0, 1.0, 1.0, 1.0]) sum to > 1! If they are within the occupancy_tolerance, they will be rescaled. The current occupancy_tolerance is set to: 1.0\n",
      "No structure parsed for section 1 in CIF.\n",
      "Species occupancies sum to more than 1!\n",
      "  warnings.warn(\"Issues encountered while parsing CIF: \" + \"\\n\".join(self.warnings))\n",
      "/Tmp/dingqian/miniconda3/envs/crystal-llm/lib/python3.8/site-packages/pymatgen/io/cif.py:1009: UserWarning: Some occupancies ([2.0, 2.0, 2.0, 2.0, 1.0, 1.0, 1.0, 1.0, 1.0, 1.0, 1.0, 1.0, 1.0, 1.0, 1.0, 1.0]) sum to > 1! If they are within the occupancy_tolerance, they will be rescaled. The current occupancy_tolerance is set to: 1.0\n",
      "  warnings.warn(msg)\n",
      "/Tmp/dingqian/miniconda3/envs/crystal-llm/lib/python3.8/site-packages/pymatgen/io/cif.py:1168: UserWarning: Issues encountered while parsing CIF: Some occupancies ([2.0, 2.0, 2.0, 2.0, 1.0, 1.0, 1.0, 1.0, 1.0, 1.0, 1.0, 1.0, 1.0, 1.0, 1.0, 1.0]) sum to > 1! If they are within the occupancy_tolerance, they will be rescaled. The current occupancy_tolerance is set to: 1.0\n",
      "No structure parsed for section 1 in CIF.\n",
      "Species occupancies sum to more than 1!\n",
      "  warnings.warn(\"Issues encountered while parsing CIF: \" + \"\\n\".join(self.warnings))\n",
      "/Tmp/dingqian/miniconda3/envs/crystal-llm/lib/python3.8/site-packages/pymatgen/io/cif.py:1009: UserWarning: Some occupancies ([1.0, 1.0, 1.0, 1.0, 1.0, 1.0, 1.0, 1.0, 1.0, 2.0, 1.0, 2.0]) sum to > 1! If they are within the occupancy_tolerance, they will be rescaled. The current occupancy_tolerance is set to: 1.0\n",
      "  warnings.warn(msg)\n",
      "/Tmp/dingqian/miniconda3/envs/crystal-llm/lib/python3.8/site-packages/pymatgen/io/cif.py:1168: UserWarning: Issues encountered while parsing CIF: Some occupancies ([1.0, 1.0, 1.0, 1.0, 1.0, 1.0, 1.0, 1.0, 1.0, 2.0, 1.0, 2.0]) sum to > 1! If they are within the occupancy_tolerance, they will be rescaled. The current occupancy_tolerance is set to: 1.0\n",
      "No structure parsed for section 1 in CIF.\n",
      "Species occupancies sum to more than 1!\n",
      "  warnings.warn(\"Issues encountered while parsing CIF: \" + \"\\n\".join(self.warnings))\n",
      "/Tmp/dingqian/miniconda3/envs/crystal-llm/lib/python3.8/site-packages/pymatgen/io/cif.py:1009: UserWarning: Some occupancies ([1.0, 1.0, 2.0, 1.0, 1.0, 1.0, 1.0, 1.0, 1.0, 1.0, 1.0, 1.0, 1.0, 1.0]) sum to > 1! If they are within the occupancy_tolerance, they will be rescaled. The current occupancy_tolerance is set to: 1.0\n",
      "  warnings.warn(msg)\n",
      "/Tmp/dingqian/miniconda3/envs/crystal-llm/lib/python3.8/site-packages/pymatgen/io/cif.py:1168: UserWarning: Issues encountered while parsing CIF: Some occupancies ([1.0, 1.0, 2.0, 1.0, 1.0, 1.0, 1.0, 1.0, 1.0, 1.0, 1.0, 1.0, 1.0, 1.0]) sum to > 1! If they are within the occupancy_tolerance, they will be rescaled. The current occupancy_tolerance is set to: 1.0\n",
      "No structure parsed for section 1 in CIF.\n",
      "Species occupancies sum to more than 1!\n",
      "  warnings.warn(\"Issues encountered while parsing CIF: \" + \"\\n\".join(self.warnings))\n",
      " 33%|███▎      | 2523/7570 [00:04<00:09, 548.80it/s]"
     ]
    },
    {
     "name": "stdout",
     "output_type": "stream",
     "text": [
      "could not convert string to float: 'To'\n",
      "Invalid CIF file with no structures!\n",
      "Invalid CIF file with no structures!\n",
      "Invalid CIF file with no structures!\n",
      "Invalid CIF file with no structures!\n",
      "Invalid CIF file with no structures!\n"
     ]
    },
    {
     "name": "stderr",
     "output_type": "stream",
     "text": [
      " 34%|███▍      | 2578/7570 [00:04<00:09, 516.54it/s]/Tmp/dingqian/miniconda3/envs/crystal-llm/lib/python3.8/site-packages/pymatgen/io/cif.py:1009: UserWarning: Some occupancies ([1.0, 1.0, 1.0, 1.0, 1.0, 1.0, 1.0, 1.0, 1.0, 1.0, 1.0, 1.0, 1.0, 2.0, 1.0, 1.0, 1.0, 1.0, 1.0]) sum to > 1! If they are within the occupancy_tolerance, they will be rescaled. The current occupancy_tolerance is set to: 1.0\n",
      "  warnings.warn(msg)\n",
      "/Tmp/dingqian/miniconda3/envs/crystal-llm/lib/python3.8/site-packages/pymatgen/io/cif.py:1168: UserWarning: Issues encountered while parsing CIF: Some occupancies ([1.0, 1.0, 1.0, 1.0, 1.0, 1.0, 1.0, 1.0, 1.0, 1.0, 1.0, 1.0, 1.0, 2.0, 1.0, 1.0, 1.0, 1.0, 1.0]) sum to > 1! If they are within the occupancy_tolerance, they will be rescaled. The current occupancy_tolerance is set to: 1.0\n",
      "No structure parsed for section 1 in CIF.\n",
      "Species occupancies sum to more than 1!\n",
      "  warnings.warn(\"Issues encountered while parsing CIF: \" + \"\\n\".join(self.warnings))\n",
      "/Tmp/dingqian/miniconda3/envs/crystal-llm/lib/python3.8/site-packages/pymatgen/io/cif.py:1009: UserWarning: Some occupancies ([1.0, 1.0, 2.0, 2.0, 2.0, 2.0, 1.0, 1.0, 1.0, 1.0, 1.0, 1.0, 1.0, 1.0]) sum to > 1! If they are within the occupancy_tolerance, they will be rescaled. The current occupancy_tolerance is set to: 1.0\n",
      "  warnings.warn(msg)\n",
      "/Tmp/dingqian/miniconda3/envs/crystal-llm/lib/python3.8/site-packages/pymatgen/io/cif.py:1168: UserWarning: Issues encountered while parsing CIF: Some occupancies ([1.0, 1.0, 2.0, 2.0, 2.0, 2.0, 1.0, 1.0, 1.0, 1.0, 1.0, 1.0, 1.0, 1.0]) sum to > 1! If they are within the occupancy_tolerance, they will be rescaled. The current occupancy_tolerance is set to: 1.0\n",
      "No structure parsed for section 1 in CIF.\n",
      "Species occupancies sum to more than 1!\n",
      "  warnings.warn(\"Issues encountered while parsing CIF: \" + \"\\n\".join(self.warnings))\n",
      "/Tmp/dingqian/miniconda3/envs/crystal-llm/lib/python3.8/site-packages/pymatgen/io/cif.py:1009: UserWarning: Some occupancies ([2.0, 1.0, 1.0, 1.0, 1.0, 1.0, 1.0, 1.0, 1.0, 1.0, 1.0]) sum to > 1! If they are within the occupancy_tolerance, they will be rescaled. The current occupancy_tolerance is set to: 1.0\n",
      "  warnings.warn(msg)\n",
      "/Tmp/dingqian/miniconda3/envs/crystal-llm/lib/python3.8/site-packages/pymatgen/io/cif.py:1168: UserWarning: Issues encountered while parsing CIF: Some occupancies ([2.0, 1.0, 1.0, 1.0, 1.0, 1.0, 1.0, 1.0, 1.0, 1.0, 1.0]) sum to > 1! If they are within the occupancy_tolerance, they will be rescaled. The current occupancy_tolerance is set to: 1.0\n",
      "No structure parsed for section 1 in CIF.\n",
      "Species occupancies sum to more than 1!\n",
      "  warnings.warn(\"Issues encountered while parsing CIF: \" + \"\\n\".join(self.warnings))\n",
      " 35%|███▌      | 2684/7570 [00:05<00:09, 516.76it/s]"
     ]
    },
    {
     "name": "stdout",
     "output_type": "stream",
     "text": [
      "Invalid CIF file with no structures!\n",
      "Invalid CIF file with no structures!\n",
      "Invalid CIF file with no structures!\n",
      "Invalid CIF file with no structures!\n",
      "could not convert string to float: 'To'\n"
     ]
    },
    {
     "name": "stderr",
     "output_type": "stream",
     "text": [
      "/Tmp/dingqian/miniconda3/envs/crystal-llm/lib/python3.8/site-packages/pymatgen/io/cif.py:1009: UserWarning: Some occupancies ([1.0, 1.0, 1.0, 1.0, 1.0, 2.0, 1.0, 1.0, 1.0]) sum to > 1! If they are within the occupancy_tolerance, they will be rescaled. The current occupancy_tolerance is set to: 1.0\n",
      "  warnings.warn(msg)\n",
      "/Tmp/dingqian/miniconda3/envs/crystal-llm/lib/python3.8/site-packages/pymatgen/io/cif.py:1168: UserWarning: Issues encountered while parsing CIF: Some occupancies ([1.0, 1.0, 1.0, 1.0, 1.0, 2.0, 1.0, 1.0, 1.0]) sum to > 1! If they are within the occupancy_tolerance, they will be rescaled. The current occupancy_tolerance is set to: 1.0\n",
      "No structure parsed for section 1 in CIF.\n",
      "Species occupancies sum to more than 1!\n",
      "  warnings.warn(\"Issues encountered while parsing CIF: \" + \"\\n\".join(self.warnings))\n",
      " 37%|███▋      | 2792/7570 [00:05<00:09, 515.68it/s]/Tmp/dingqian/miniconda3/envs/crystal-llm/lib/python3.8/site-packages/pymatgen/io/cif.py:1009: UserWarning: Some occupancies ([1.0, 1.0, 1.0, 1.0, 1.0, 1.0, 2.0, 2.0, 1.0, 1.0, 1.0, 1.0]) sum to > 1! If they are within the occupancy_tolerance, they will be rescaled. The current occupancy_tolerance is set to: 1.0\n",
      "  warnings.warn(msg)\n",
      "/Tmp/dingqian/miniconda3/envs/crystal-llm/lib/python3.8/site-packages/pymatgen/io/cif.py:1168: UserWarning: Issues encountered while parsing CIF: Some occupancies ([1.0, 1.0, 1.0, 1.0, 1.0, 1.0, 2.0, 2.0, 1.0, 1.0, 1.0, 1.0]) sum to > 1! If they are within the occupancy_tolerance, they will be rescaled. The current occupancy_tolerance is set to: 1.0\n",
      "No structure parsed for section 1 in CIF.\n",
      "Species occupancies sum to more than 1!\n",
      "  warnings.warn(\"Issues encountered while parsing CIF: \" + \"\\n\".join(self.warnings))\n",
      "/Tmp/dingqian/miniconda3/envs/crystal-llm/lib/python3.8/site-packages/pymatgen/io/cif.py:1009: UserWarning: Some occupancies ([2.0, 2.0, 1.0, 1.0, 1.0, 1.0, 1.0, 1.0, 1.0, 1.0, 1.0, 1.0, 1.0, 1.0, 1.0, 1.0]) sum to > 1! If they are within the occupancy_tolerance, they will be rescaled. The current occupancy_tolerance is set to: 1.0\n",
      "  warnings.warn(msg)\n",
      "/Tmp/dingqian/miniconda3/envs/crystal-llm/lib/python3.8/site-packages/pymatgen/io/cif.py:1168: UserWarning: Issues encountered while parsing CIF: Some occupancies ([2.0, 2.0, 1.0, 1.0, 1.0, 1.0, 1.0, 1.0, 1.0, 1.0, 1.0, 1.0, 1.0, 1.0, 1.0, 1.0]) sum to > 1! If they are within the occupancy_tolerance, they will be rescaled. The current occupancy_tolerance is set to: 1.0\n",
      "No structure parsed for section 1 in CIF.\n",
      "Species occupancies sum to more than 1!\n",
      "  warnings.warn(\"Issues encountered while parsing CIF: \" + \"\\n\".join(self.warnings))\n"
     ]
    },
    {
     "name": "stdout",
     "output_type": "stream",
     "text": [
      "Invalid CIF file with no structures!\n",
      "Invalid CIF file with no structures!\n",
      "Invalid CIF file with no structures!\n"
     ]
    },
    {
     "name": "stderr",
     "output_type": "stream",
     "text": [
      "/Tmp/dingqian/miniconda3/envs/crystal-llm/lib/python3.8/site-packages/pymatgen/io/cif.py:1009: UserWarning: Some occupancies ([1.0, 1.0, 1.0, 1.0, 2.0, 2.0, 1.0, 1.0]) sum to > 1! If they are within the occupancy_tolerance, they will be rescaled. The current occupancy_tolerance is set to: 1.0\n",
      "  warnings.warn(msg)\n",
      "/Tmp/dingqian/miniconda3/envs/crystal-llm/lib/python3.8/site-packages/pymatgen/io/cif.py:1168: UserWarning: Issues encountered while parsing CIF: Some occupancies ([1.0, 1.0, 1.0, 1.0, 2.0, 2.0, 1.0, 1.0]) sum to > 1! If they are within the occupancy_tolerance, they will be rescaled. The current occupancy_tolerance is set to: 1.0\n",
      "No structure parsed for section 1 in CIF.\n",
      "Species occupancies sum to more than 1!\n",
      "  warnings.warn(\"Issues encountered while parsing CIF: \" + \"\\n\".join(self.warnings))\n",
      " 38%|███▊      | 2846/7570 [00:05<00:09, 521.82it/s]/Tmp/dingqian/miniconda3/envs/crystal-llm/lib/python3.8/site-packages/pymatgen/io/cif.py:1009: UserWarning: Some occupancies ([1.0, 1.0, 1.0, 1.0, 1.0, 1.0, 2.0, 1.0, 1.0, 1.0, 1.0, 1.0]) sum to > 1! If they are within the occupancy_tolerance, they will be rescaled. The current occupancy_tolerance is set to: 1.0\n",
      "  warnings.warn(msg)\n",
      "/Tmp/dingqian/miniconda3/envs/crystal-llm/lib/python3.8/site-packages/pymatgen/io/cif.py:1168: UserWarning: Issues encountered while parsing CIF: Some occupancies ([1.0, 1.0, 1.0, 1.0, 1.0, 1.0, 2.0, 1.0, 1.0, 1.0, 1.0, 1.0]) sum to > 1! If they are within the occupancy_tolerance, they will be rescaled. The current occupancy_tolerance is set to: 1.0\n",
      "No structure parsed for section 1 in CIF.\n",
      "Species occupancies sum to more than 1!\n",
      "  warnings.warn(\"Issues encountered while parsing CIF: \" + \"\\n\".join(self.warnings))\n",
      " 38%|███▊      | 2899/7570 [00:05<00:09, 509.17it/s]"
     ]
    },
    {
     "name": "stdout",
     "output_type": "stream",
     "text": [
      "could not convert string to float: 'To'\n",
      "Invalid CIF file with no structures!\n",
      "Invalid CIF file with no structures!\n",
      "could not convert string to float: 'To'\n"
     ]
    },
    {
     "name": "stderr",
     "output_type": "stream",
     "text": [
      "/Tmp/dingqian/miniconda3/envs/crystal-llm/lib/python3.8/site-packages/pymatgen/io/cif.py:1009: UserWarning: Some occupancies ([1.0, 1.0, 1.0, 1.0, 2.0, 1.0, 1.0]) sum to > 1! If they are within the occupancy_tolerance, they will be rescaled. The current occupancy_tolerance is set to: 1.0\n",
      "  warnings.warn(msg)\n",
      "/Tmp/dingqian/miniconda3/envs/crystal-llm/lib/python3.8/site-packages/pymatgen/io/cif.py:1168: UserWarning: Issues encountered while parsing CIF: Some occupancies ([1.0, 1.0, 1.0, 1.0, 2.0, 1.0, 1.0]) sum to > 1! If they are within the occupancy_tolerance, they will be rescaled. The current occupancy_tolerance is set to: 1.0\n",
      "No structure parsed for section 1 in CIF.\n",
      "Species occupancies sum to more than 1!\n",
      "  warnings.warn(\"Issues encountered while parsing CIF: \" + \"\\n\".join(self.warnings))\n",
      "/Tmp/dingqian/miniconda3/envs/crystal-llm/lib/python3.8/site-packages/pymatgen/io/cif.py:1009: UserWarning: Some occupancies ([1.0, 1.0, 1.0, 2.0, 1.0, 1.0, 1.0, 1.0, 1.0, 1.0, 1.0, 1.0, 1.0]) sum to > 1! If they are within the occupancy_tolerance, they will be rescaled. The current occupancy_tolerance is set to: 1.0\n",
      "  warnings.warn(msg)\n",
      "/Tmp/dingqian/miniconda3/envs/crystal-llm/lib/python3.8/site-packages/pymatgen/io/cif.py:1168: UserWarning: Issues encountered while parsing CIF: Some occupancies ([1.0, 1.0, 1.0, 2.0, 1.0, 1.0, 1.0, 1.0, 1.0, 1.0, 1.0, 1.0, 1.0]) sum to > 1! If they are within the occupancy_tolerance, they will be rescaled. The current occupancy_tolerance is set to: 1.0\n",
      "No structure parsed for section 1 in CIF.\n",
      "Species occupancies sum to more than 1!\n",
      "  warnings.warn(\"Issues encountered while parsing CIF: \" + \"\\n\".join(self.warnings))\n",
      "/Tmp/dingqian/miniconda3/envs/crystal-llm/lib/python3.8/site-packages/pymatgen/io/cif.py:1009: UserWarning: Some occupancies ([1.0, 2.0, 2.0, 1.0, 1.0, 1.0, 1.0, 1.0, 1.0, 1.0, 1.0, 1.0, 1.0, 1.0, 1.0, 1.0, 1.0, 1.0]) sum to > 1! If they are within the occupancy_tolerance, they will be rescaled. The current occupancy_tolerance is set to: 1.0\n",
      "  warnings.warn(msg)\n",
      "/Tmp/dingqian/miniconda3/envs/crystal-llm/lib/python3.8/site-packages/pymatgen/io/cif.py:1168: UserWarning: Issues encountered while parsing CIF: Some occupancies ([1.0, 2.0, 2.0, 1.0, 1.0, 1.0, 1.0, 1.0, 1.0, 1.0, 1.0, 1.0, 1.0, 1.0, 1.0, 1.0, 1.0, 1.0]) sum to > 1! If they are within the occupancy_tolerance, they will be rescaled. The current occupancy_tolerance is set to: 1.0\n",
      "No structure parsed for section 1 in CIF.\n",
      "Species occupancies sum to more than 1!\n",
      "  warnings.warn(\"Issues encountered while parsing CIF: \" + \"\\n\".join(self.warnings))\n",
      " 39%|███▉      | 2951/7570 [00:05<00:09, 504.26it/s]/Tmp/dingqian/miniconda3/envs/crystal-llm/lib/python3.8/site-packages/pymatgen/io/cif.py:1009: UserWarning: Some occupancies ([1.0, 1.0, 1.0, 2.0, 2.0, 1.0, 1.0, 1.0, 1.0, 1.0, 1.0, 1.0, 1.0, 1.0, 1.0, 1.0, 1.0]) sum to > 1! If they are within the occupancy_tolerance, they will be rescaled. The current occupancy_tolerance is set to: 1.0\n",
      "  warnings.warn(msg)\n",
      "/Tmp/dingqian/miniconda3/envs/crystal-llm/lib/python3.8/site-packages/pymatgen/io/cif.py:1168: UserWarning: Issues encountered while parsing CIF: Some occupancies ([1.0, 1.0, 1.0, 2.0, 2.0, 1.0, 1.0, 1.0, 1.0, 1.0, 1.0, 1.0, 1.0, 1.0, 1.0, 1.0, 1.0]) sum to > 1! If they are within the occupancy_tolerance, they will be rescaled. The current occupancy_tolerance is set to: 1.0\n",
      "No structure parsed for section 1 in CIF.\n",
      "Species occupancies sum to more than 1!\n",
      "  warnings.warn(\"Issues encountered while parsing CIF: \" + \"\\n\".join(self.warnings))\n",
      " 40%|███▉      | 3006/7570 [00:05<00:08, 514.61it/s]/Tmp/dingqian/miniconda3/envs/crystal-llm/lib/python3.8/site-packages/pymatgen/io/cif.py:1009: UserWarning: Some occupancies ([1.0, 2.0, 1.0, 1.0, 1.0, 1.0, 1.0, 1.0, 1.0, 1.0, 1.0, 1.0, 1.0, 1.0]) sum to > 1! If they are within the occupancy_tolerance, they will be rescaled. The current occupancy_tolerance is set to: 1.0\n",
      "  warnings.warn(msg)\n",
      "/Tmp/dingqian/miniconda3/envs/crystal-llm/lib/python3.8/site-packages/pymatgen/io/cif.py:1168: UserWarning: Issues encountered while parsing CIF: Some occupancies ([1.0, 2.0, 1.0, 1.0, 1.0, 1.0, 1.0, 1.0, 1.0, 1.0, 1.0, 1.0, 1.0, 1.0]) sum to > 1! If they are within the occupancy_tolerance, they will be rescaled. The current occupancy_tolerance is set to: 1.0\n",
      "No structure parsed for section 1 in CIF.\n",
      "Species occupancies sum to more than 1!\n",
      "  warnings.warn(\"Issues encountered while parsing CIF: \" + \"\\n\".join(self.warnings))\n",
      "/Tmp/dingqian/miniconda3/envs/crystal-llm/lib/python3.8/site-packages/pymatgen/io/cif.py:1009: UserWarning: Some occupancies ([1.0, 1.0, 1.0, 2.0, 1.0, 1.0, 1.0, 1.0, 1.0, 1.0, 1.0, 1.0, 1.0, 1.0, 1.0, 1.0, 1.0, 1.0, 1.0]) sum to > 1! If they are within the occupancy_tolerance, they will be rescaled. The current occupancy_tolerance is set to: 1.0\n",
      "  warnings.warn(msg)\n",
      "/Tmp/dingqian/miniconda3/envs/crystal-llm/lib/python3.8/site-packages/pymatgen/io/cif.py:1168: UserWarning: Issues encountered while parsing CIF: Some occupancies ([1.0, 1.0, 1.0, 2.0, 1.0, 1.0, 1.0, 1.0, 1.0, 1.0, 1.0, 1.0, 1.0, 1.0, 1.0, 1.0, 1.0, 1.0, 1.0]) sum to > 1! If they are within the occupancy_tolerance, they will be rescaled. The current occupancy_tolerance is set to: 1.0\n",
      "No structure parsed for section 1 in CIF.\n",
      "Species occupancies sum to more than 1!\n",
      "  warnings.warn(\"Issues encountered while parsing CIF: \" + \"\\n\".join(self.warnings))\n"
     ]
    },
    {
     "name": "stdout",
     "output_type": "stream",
     "text": [
      "Invalid CIF file with no structures!\n",
      "Invalid CIF file with no structures!\n",
      "Invalid CIF file with no structures!\n",
      "Invalid CIF file with no structures!\n",
      "Invalid CIF file with no structures!\n",
      "Invalid CIF file with no structures!\n",
      "Invalid CIF file with no structures!\n"
     ]
    },
    {
     "name": "stderr",
     "output_type": "stream",
     "text": [
      " 40%|████      | 3058/7570 [00:05<00:08, 513.86it/s]/Tmp/dingqian/miniconda3/envs/crystal-llm/lib/python3.8/site-packages/pymatgen/io/cif.py:1009: UserWarning: Some occupancies ([2.0, 1.0, 1.0, 1.0, 1.0, 1.0, 1.0]) sum to > 1! If they are within the occupancy_tolerance, they will be rescaled. The current occupancy_tolerance is set to: 1.0\n",
      "  warnings.warn(msg)\n",
      "/Tmp/dingqian/miniconda3/envs/crystal-llm/lib/python3.8/site-packages/pymatgen/io/cif.py:1168: UserWarning: Issues encountered while parsing CIF: Some occupancies ([2.0, 1.0, 1.0, 1.0, 1.0, 1.0, 1.0]) sum to > 1! If they are within the occupancy_tolerance, they will be rescaled. The current occupancy_tolerance is set to: 1.0\n",
      "No structure parsed for section 1 in CIF.\n",
      "Species occupancies sum to more than 1!\n",
      "  warnings.warn(\"Issues encountered while parsing CIF: \" + \"\\n\".join(self.warnings))\n",
      "/Tmp/dingqian/miniconda3/envs/crystal-llm/lib/python3.8/site-packages/pymatgen/io/cif.py:1009: UserWarning: Some occupancies ([3.0, 2.0, 1.0, 1.0, 1.0, 2.0, 1.0, 2.0, 1.0, 1.0, 1.0, 1.0, 1.0]) sum to > 1! If they are within the occupancy_tolerance, they will be rescaled. The current occupancy_tolerance is set to: 1.0\n",
      "  warnings.warn(msg)\n",
      "/Tmp/dingqian/miniconda3/envs/crystal-llm/lib/python3.8/site-packages/pymatgen/io/cif.py:1168: UserWarning: Issues encountered while parsing CIF: Some occupancies ([3.0, 2.0, 1.0, 1.0, 1.0, 2.0, 1.0, 2.0, 1.0, 1.0, 1.0, 1.0, 1.0]) sum to > 1! If they are within the occupancy_tolerance, they will be rescaled. The current occupancy_tolerance is set to: 1.0\n",
      "No structure parsed for section 1 in CIF.\n",
      "Species occupancies sum to more than 1!\n",
      "  warnings.warn(\"Issues encountered while parsing CIF: \" + \"\\n\".join(self.warnings))\n",
      "/Tmp/dingqian/miniconda3/envs/crystal-llm/lib/python3.8/site-packages/pymatgen/io/cif.py:1009: UserWarning: Some occupancies ([1.0, 1.0, 1.0, 1.0, 1.0, 1.0, 1.0, 1.0, 1.0, 1.0, 2.0, 2.0, 1.0, 1.0, 1.0, 2.0, 1.0]) sum to > 1! If they are within the occupancy_tolerance, they will be rescaled. The current occupancy_tolerance is set to: 1.0\n",
      "  warnings.warn(msg)\n",
      "/Tmp/dingqian/miniconda3/envs/crystal-llm/lib/python3.8/site-packages/pymatgen/io/cif.py:1168: UserWarning: Issues encountered while parsing CIF: Some occupancies ([1.0, 1.0, 1.0, 1.0, 1.0, 1.0, 1.0, 1.0, 1.0, 1.0, 2.0, 2.0, 1.0, 1.0, 1.0, 2.0, 1.0]) sum to > 1! If they are within the occupancy_tolerance, they will be rescaled. The current occupancy_tolerance is set to: 1.0\n",
      "No structure parsed for section 1 in CIF.\n",
      "Species occupancies sum to more than 1!\n",
      "  warnings.warn(\"Issues encountered while parsing CIF: \" + \"\\n\".join(self.warnings))\n",
      " 41%|████      | 3117/7570 [00:06<00:08, 531.08it/s]/Tmp/dingqian/miniconda3/envs/crystal-llm/lib/python3.8/site-packages/pymatgen/io/cif.py:1009: UserWarning: Some occupancies ([1.0, 1.0, 1.0, 1.0, 2.0, 1.0, 1.0, 1.0, 1.0, 2.0, 1.0, 1.0, 1.0, 1.0, 1.0, 1.0, 1.0, 1.0]) sum to > 1! If they are within the occupancy_tolerance, they will be rescaled. The current occupancy_tolerance is set to: 1.0\n",
      "  warnings.warn(msg)\n",
      "/Tmp/dingqian/miniconda3/envs/crystal-llm/lib/python3.8/site-packages/pymatgen/io/cif.py:1168: UserWarning: Issues encountered while parsing CIF: Some occupancies ([1.0, 1.0, 1.0, 1.0, 2.0, 1.0, 1.0, 1.0, 1.0, 2.0, 1.0, 1.0, 1.0, 1.0, 1.0, 1.0, 1.0, 1.0]) sum to > 1! If they are within the occupancy_tolerance, they will be rescaled. The current occupancy_tolerance is set to: 1.0\n",
      "No structure parsed for section 1 in CIF.\n",
      "Species occupancies sum to more than 1!\n",
      "  warnings.warn(\"Issues encountered while parsing CIF: \" + \"\\n\".join(self.warnings))\n",
      " 42%|████▏     | 3171/7570 [00:06<00:08, 517.87it/s]/Tmp/dingqian/miniconda3/envs/crystal-llm/lib/python3.8/site-packages/pymatgen/io/cif.py:1009: UserWarning: Some occupancies ([1.0, 1.0, 1.0, 1.0, 1.0, 1.0, 1.0, 1.0, 1.0, 1.0, 2.0, 2.0, 1.0, 1.0]) sum to > 1! If they are within the occupancy_tolerance, they will be rescaled. The current occupancy_tolerance is set to: 1.0\n",
      "  warnings.warn(msg)\n",
      "/Tmp/dingqian/miniconda3/envs/crystal-llm/lib/python3.8/site-packages/pymatgen/io/cif.py:1168: UserWarning: Issues encountered while parsing CIF: Some occupancies ([1.0, 1.0, 1.0, 1.0, 1.0, 1.0, 1.0, 1.0, 1.0, 1.0, 2.0, 2.0, 1.0, 1.0]) sum to > 1! If they are within the occupancy_tolerance, they will be rescaled. The current occupancy_tolerance is set to: 1.0\n",
      "No structure parsed for section 1 in CIF.\n",
      "Species occupancies sum to more than 1!\n",
      "  warnings.warn(\"Issues encountered while parsing CIF: \" + \"\\n\".join(self.warnings))\n"
     ]
    },
    {
     "name": "stdout",
     "output_type": "stream",
     "text": [
      "Invalid CIF file with no structures!\n",
      "Invalid CIF file with no structures!\n",
      "Invalid CIF file with no structures!\n",
      "Invalid CIF file with no structures!\n",
      "could not convert string to float: ''\n",
      "Invalid CIF file with no structures!\n",
      "Invalid CIF file with no structures!\n",
      "Invalid CIF file with no structures!\n"
     ]
    },
    {
     "name": "stderr",
     "output_type": "stream",
     "text": [
      "/Tmp/dingqian/miniconda3/envs/crystal-llm/lib/python3.8/site-packages/pymatgen/io/cif.py:1009: UserWarning: Some occupancies ([1.0, 1.0, 1.0, 1.0, 1.0, 1.0, 2.0, 2.0, 1.0, 2.0, 1.0]) sum to > 1! If they are within the occupancy_tolerance, they will be rescaled. The current occupancy_tolerance is set to: 1.0\n",
      "  warnings.warn(msg)\n",
      "/Tmp/dingqian/miniconda3/envs/crystal-llm/lib/python3.8/site-packages/pymatgen/io/cif.py:1168: UserWarning: Issues encountered while parsing CIF: Some occupancies ([1.0, 1.0, 1.0, 1.0, 1.0, 1.0, 2.0, 2.0, 1.0, 2.0, 1.0]) sum to > 1! If they are within the occupancy_tolerance, they will be rescaled. The current occupancy_tolerance is set to: 1.0\n",
      "No structure parsed for section 1 in CIF.\n",
      "Species occupancies sum to more than 1!\n",
      "  warnings.warn(\"Issues encountered while parsing CIF: \" + \"\\n\".join(self.warnings))\n",
      " 43%|████▎     | 3223/7570 [00:06<00:08, 508.66it/s]/Tmp/dingqian/miniconda3/envs/crystal-llm/lib/python3.8/site-packages/pymatgen/io/cif.py:1009: UserWarning: Some occupancies ([1.0, 1.0, 1.0, 2.0, 1.0, 1.0, 1.0, 1.0, 1.0, 1.0, 1.0, 1.0, 1.0, 1.0]) sum to > 1! If they are within the occupancy_tolerance, they will be rescaled. The current occupancy_tolerance is set to: 1.0\n",
      "  warnings.warn(msg)\n",
      "/Tmp/dingqian/miniconda3/envs/crystal-llm/lib/python3.8/site-packages/pymatgen/io/cif.py:1168: UserWarning: Issues encountered while parsing CIF: Some occupancies ([1.0, 1.0, 1.0, 2.0, 1.0, 1.0, 1.0, 1.0, 1.0, 1.0, 1.0, 1.0, 1.0, 1.0]) sum to > 1! If they are within the occupancy_tolerance, they will be rescaled. The current occupancy_tolerance is set to: 1.0\n",
      "No structure parsed for section 1 in CIF.\n",
      "Species occupancies sum to more than 1!\n",
      "  warnings.warn(\"Issues encountered while parsing CIF: \" + \"\\n\".join(self.warnings))\n",
      " 43%|████▎     | 3277/7570 [00:06<00:08, 517.41it/s]"
     ]
    },
    {
     "name": "stdout",
     "output_type": "stream",
     "text": [
      "Invalid CIF file with no structures!\n",
      "Invalid CIF file with no structures!\n"
     ]
    },
    {
     "name": "stderr",
     "output_type": "stream",
     "text": [
      "/Tmp/dingqian/miniconda3/envs/crystal-llm/lib/python3.8/site-packages/pymatgen/io/cif.py:1009: UserWarning: Some occupancies ([2.0, 2.0, 1.0, 2.0, 2.0, 2.0, 1.0, 1.0]) sum to > 1! If they are within the occupancy_tolerance, they will be rescaled. The current occupancy_tolerance is set to: 1.0\n",
      "  warnings.warn(msg)\n",
      "/Tmp/dingqian/miniconda3/envs/crystal-llm/lib/python3.8/site-packages/pymatgen/io/cif.py:1168: UserWarning: Issues encountered while parsing CIF: Some occupancies ([2.0, 2.0, 1.0, 2.0, 2.0, 2.0, 1.0, 1.0]) sum to > 1! If they are within the occupancy_tolerance, they will be rescaled. The current occupancy_tolerance is set to: 1.0\n",
      "No structure parsed for section 1 in CIF.\n",
      "Species occupancies sum to more than 1!\n",
      "  warnings.warn(\"Issues encountered while parsing CIF: \" + \"\\n\".join(self.warnings))\n",
      " 45%|████▍     | 3383/7570 [00:06<00:08, 520.41it/s]/Tmp/dingqian/miniconda3/envs/crystal-llm/lib/python3.8/site-packages/pymatgen/io/cif.py:1009: UserWarning: Some occupancies ([1.0, 2.0, 1.0, 1.0, 1.0, 2.0, 1.0, 1.0, 1.0, 1.0, 1.0, 1.0, 1.0, 1.0, 1.0]) sum to > 1! If they are within the occupancy_tolerance, they will be rescaled. The current occupancy_tolerance is set to: 1.0\n",
      "  warnings.warn(msg)\n",
      "/Tmp/dingqian/miniconda3/envs/crystal-llm/lib/python3.8/site-packages/pymatgen/io/cif.py:1168: UserWarning: Issues encountered while parsing CIF: Some occupancies ([1.0, 2.0, 1.0, 1.0, 1.0, 2.0, 1.0, 1.0, 1.0, 1.0, 1.0, 1.0, 1.0, 1.0, 1.0]) sum to > 1! If they are within the occupancy_tolerance, they will be rescaled. The current occupancy_tolerance is set to: 1.0\n",
      "No structure parsed for section 1 in CIF.\n",
      "Species occupancies sum to more than 1!\n",
      "  warnings.warn(\"Issues encountered while parsing CIF: \" + \"\\n\".join(self.warnings))\n",
      "/Tmp/dingqian/miniconda3/envs/crystal-llm/lib/python3.8/site-packages/pymatgen/io/cif.py:1009: UserWarning: Some occupancies ([2.0, 1.0, 1.0, 1.0, 1.0, 1.0, 1.0, 1.0, 1.0, 1.0, 1.0, 1.0, 1.0, 1.0, 1.0, 1.0, 1.0, 1.0, 1.0, 1.0, 1.0, 1.0]) sum to > 1! If they are within the occupancy_tolerance, they will be rescaled. The current occupancy_tolerance is set to: 1.0\n",
      "  warnings.warn(msg)\n",
      "/Tmp/dingqian/miniconda3/envs/crystal-llm/lib/python3.8/site-packages/pymatgen/io/cif.py:1168: UserWarning: Issues encountered while parsing CIF: Some occupancies ([2.0, 1.0, 1.0, 1.0, 1.0, 1.0, 1.0, 1.0, 1.0, 1.0, 1.0, 1.0, 1.0, 1.0, 1.0, 1.0, 1.0, 1.0, 1.0, 1.0, 1.0, 1.0]) sum to > 1! If they are within the occupancy_tolerance, they will be rescaled. The current occupancy_tolerance is set to: 1.0\n",
      "No structure parsed for section 1 in CIF.\n",
      "Species occupancies sum to more than 1!\n",
      "  warnings.warn(\"Issues encountered while parsing CIF: \" + \"\\n\".join(self.warnings))\n"
     ]
    },
    {
     "name": "stdout",
     "output_type": "stream",
     "text": [
      "Invalid CIF file with no structures!\n",
      "Invalid CIF file with no structures!\n",
      "Invalid CIF file with no structures!\n",
      "Invalid CIF file with no structures!\n"
     ]
    },
    {
     "name": "stderr",
     "output_type": "stream",
     "text": [
      " 45%|████▌     | 3436/7570 [00:06<00:08, 504.98it/s]/Tmp/dingqian/miniconda3/envs/crystal-llm/lib/python3.8/site-packages/pymatgen/io/cif.py:1009: UserWarning: Some occupancies ([1.0, 1.0, 1.0, 1.0, 2.0, 2.0, 1.0, 1.0, 1.0, 1.0, 1.0, 1.0, 1.0, 1.0]) sum to > 1! If they are within the occupancy_tolerance, they will be rescaled. The current occupancy_tolerance is set to: 1.0\n",
      "  warnings.warn(msg)\n",
      "/Tmp/dingqian/miniconda3/envs/crystal-llm/lib/python3.8/site-packages/pymatgen/io/cif.py:1168: UserWarning: Issues encountered while parsing CIF: Some occupancies ([1.0, 1.0, 1.0, 1.0, 2.0, 2.0, 1.0, 1.0, 1.0, 1.0, 1.0, 1.0, 1.0, 1.0]) sum to > 1! If they are within the occupancy_tolerance, they will be rescaled. The current occupancy_tolerance is set to: 1.0\n",
      "No structure parsed for section 1 in CIF.\n",
      "Species occupancies sum to more than 1!\n",
      "  warnings.warn(\"Issues encountered while parsing CIF: \" + \"\\n\".join(self.warnings))\n",
      "/Tmp/dingqian/miniconda3/envs/crystal-llm/lib/python3.8/site-packages/pymatgen/io/cif.py:1009: UserWarning: Some occupancies ([1.0, 1.0, 1.0, 1.0, 1.0, 1.0, 1.0, 2.0, 1.0, 1.0, 1.0, 1.0, 1.0, 1.0]) sum to > 1! If they are within the occupancy_tolerance, they will be rescaled. The current occupancy_tolerance is set to: 1.0\n",
      "  warnings.warn(msg)\n",
      "/Tmp/dingqian/miniconda3/envs/crystal-llm/lib/python3.8/site-packages/pymatgen/io/cif.py:1168: UserWarning: Issues encountered while parsing CIF: Some occupancies ([1.0, 1.0, 1.0, 1.0, 1.0, 1.0, 1.0, 2.0, 1.0, 1.0, 1.0, 1.0, 1.0, 1.0]) sum to > 1! If they are within the occupancy_tolerance, they will be rescaled. The current occupancy_tolerance is set to: 1.0\n",
      "No structure parsed for section 1 in CIF.\n",
      "Species occupancies sum to more than 1!\n",
      "  warnings.warn(\"Issues encountered while parsing CIF: \" + \"\\n\".join(self.warnings))\n",
      " 47%|████▋     | 3539/7570 [00:06<00:07, 507.17it/s]"
     ]
    },
    {
     "name": "stdout",
     "output_type": "stream",
     "text": [
      "Invalid CIF file with no structures!\n",
      "Invalid CIF file with no structures!\n",
      "Invalid CIF file with no structures!\n",
      "Invalid CIF file with no structures!\n"
     ]
    },
    {
     "name": "stderr",
     "output_type": "stream",
     "text": [
      "/Tmp/dingqian/miniconda3/envs/crystal-llm/lib/python3.8/site-packages/pymatgen/io/cif.py:1009: UserWarning: Some occupancies ([1.0, 1.0, 2.0, 2.0, 1.0, 1.0, 1.0, 1.0, 1.0, 1.0]) sum to > 1! If they are within the occupancy_tolerance, they will be rescaled. The current occupancy_tolerance is set to: 1.0\n",
      "  warnings.warn(msg)\n",
      "/Tmp/dingqian/miniconda3/envs/crystal-llm/lib/python3.8/site-packages/pymatgen/io/cif.py:1168: UserWarning: Issues encountered while parsing CIF: Some occupancies ([1.0, 1.0, 2.0, 2.0, 1.0, 1.0, 1.0, 1.0, 1.0, 1.0]) sum to > 1! If they are within the occupancy_tolerance, they will be rescaled. The current occupancy_tolerance is set to: 1.0\n",
      "No structure parsed for section 1 in CIF.\n",
      "Species occupancies sum to more than 1!\n",
      "  warnings.warn(\"Issues encountered while parsing CIF: \" + \"\\n\".join(self.warnings))\n",
      " 48%|████▊     | 3644/7570 [00:07<00:07, 513.17it/s]"
     ]
    },
    {
     "name": "stdout",
     "output_type": "stream",
     "text": [
      "Invalid CIF file with no structures!\n",
      "could not convert string to float: 'To'\n",
      "Invalid CIF file with no structures!\n",
      "Invalid CIF file with no structures!\n",
      "Invalid CIF file with no structures!\n"
     ]
    },
    {
     "name": "stderr",
     "output_type": "stream",
     "text": [
      "/Tmp/dingqian/miniconda3/envs/crystal-llm/lib/python3.8/site-packages/pymatgen/io/cif.py:1009: UserWarning: Some occupancies ([1.0, 2.0, 1.0, 1.0, 1.0, 1.0, 1.0, 1.0, 1.0, 1.0, 1.0, 1.0, 1.0, 1.0, 1.0]) sum to > 1! If they are within the occupancy_tolerance, they will be rescaled. The current occupancy_tolerance is set to: 1.0\n",
      "  warnings.warn(msg)\n",
      "/Tmp/dingqian/miniconda3/envs/crystal-llm/lib/python3.8/site-packages/pymatgen/io/cif.py:1168: UserWarning: Issues encountered while parsing CIF: Some occupancies ([1.0, 2.0, 1.0, 1.0, 1.0, 1.0, 1.0, 1.0, 1.0, 1.0, 1.0, 1.0, 1.0, 1.0, 1.0]) sum to > 1! If they are within the occupancy_tolerance, they will be rescaled. The current occupancy_tolerance is set to: 1.0\n",
      "No structure parsed for section 1 in CIF.\n",
      "Species occupancies sum to more than 1!\n",
      "  warnings.warn(\"Issues encountered while parsing CIF: \" + \"\\n\".join(self.warnings))\n",
      " 50%|████▉     | 3751/7570 [00:07<00:07, 521.99it/s]/Tmp/dingqian/miniconda3/envs/crystal-llm/lib/python3.8/site-packages/pymatgen/io/cif.py:1009: UserWarning: Some occupancies ([1.0, 1.0, 2.0, 1.0, 1.0, 1.0, 1.0, 1.0]) sum to > 1! If they are within the occupancy_tolerance, they will be rescaled. The current occupancy_tolerance is set to: 1.0\n",
      "  warnings.warn(msg)\n",
      "/Tmp/dingqian/miniconda3/envs/crystal-llm/lib/python3.8/site-packages/pymatgen/io/cif.py:1168: UserWarning: Issues encountered while parsing CIF: Some occupancies ([1.0, 1.0, 2.0, 1.0, 1.0, 1.0, 1.0, 1.0]) sum to > 1! If they are within the occupancy_tolerance, they will be rescaled. The current occupancy_tolerance is set to: 1.0\n",
      "No structure parsed for section 1 in CIF.\n",
      "Species occupancies sum to more than 1!\n",
      "  warnings.warn(\"Issues encountered while parsing CIF: \" + \"\\n\".join(self.warnings))\n",
      "/Tmp/dingqian/miniconda3/envs/crystal-llm/lib/python3.8/site-packages/pymatgen/io/cif.py:1009: UserWarning: Some occupancies ([1.0, 1.0, 1.0, 1.0, 1.0, 1.0, 1.0, 2.0, 1.0, 1.0, 1.0, 1.0, 1.0, 1.0, 1.0, 1.0, 1.0]) sum to > 1! If they are within the occupancy_tolerance, they will be rescaled. The current occupancy_tolerance is set to: 1.0\n",
      "  warnings.warn(msg)\n",
      "/Tmp/dingqian/miniconda3/envs/crystal-llm/lib/python3.8/site-packages/pymatgen/io/cif.py:1168: UserWarning: Issues encountered while parsing CIF: Some occupancies ([1.0, 1.0, 1.0, 1.0, 1.0, 1.0, 1.0, 2.0, 1.0, 1.0, 1.0, 1.0, 1.0, 1.0, 1.0, 1.0, 1.0]) sum to > 1! If they are within the occupancy_tolerance, they will be rescaled. The current occupancy_tolerance is set to: 1.0\n",
      "No structure parsed for section 1 in CIF.\n",
      "Species occupancies sum to more than 1!\n",
      "  warnings.warn(\"Issues encountered while parsing CIF: \" + \"\\n\".join(self.warnings))\n",
      "/Tmp/dingqian/miniconda3/envs/crystal-llm/lib/python3.8/site-packages/pymatgen/io/cif.py:1009: UserWarning: Some occupancies ([1.0, 1.0, 1.0, 1.0, 1.0, 1.0, 1.0, 1.0, 1.0, 1.0, 1.0, 1.0, 2.0, 1.0, 1.0]) sum to > 1! If they are within the occupancy_tolerance, they will be rescaled. The current occupancy_tolerance is set to: 1.0\n",
      "  warnings.warn(msg)\n",
      "/Tmp/dingqian/miniconda3/envs/crystal-llm/lib/python3.8/site-packages/pymatgen/io/cif.py:1168: UserWarning: Issues encountered while parsing CIF: Some occupancies ([1.0, 1.0, 1.0, 1.0, 1.0, 1.0, 1.0, 1.0, 1.0, 1.0, 1.0, 1.0, 2.0, 1.0, 1.0]) sum to > 1! If they are within the occupancy_tolerance, they will be rescaled. The current occupancy_tolerance is set to: 1.0\n",
      "No structure parsed for section 1 in CIF.\n",
      "Species occupancies sum to more than 1!\n",
      "  warnings.warn(\"Issues encountered while parsing CIF: \" + \"\\n\".join(self.warnings))\n",
      " 50%|█████     | 3804/7570 [00:07<00:07, 507.96it/s]/Tmp/dingqian/miniconda3/envs/crystal-llm/lib/python3.8/site-packages/pymatgen/io/cif.py:1009: UserWarning: Some occupancies ([2.0, 2.0, 1.0, 1.0, 1.0, 1.0, 1.0, 1.0, 1.0, 1.0, 1.0, 1.0, 1.0, 1.0, 1.0, 1.0, 1.0, 1.0]) sum to > 1! If they are within the occupancy_tolerance, they will be rescaled. The current occupancy_tolerance is set to: 1.0\n",
      "  warnings.warn(msg)\n",
      "/Tmp/dingqian/miniconda3/envs/crystal-llm/lib/python3.8/site-packages/pymatgen/io/cif.py:1168: UserWarning: Issues encountered while parsing CIF: Some occupancies ([2.0, 2.0, 1.0, 1.0, 1.0, 1.0, 1.0, 1.0, 1.0, 1.0, 1.0, 1.0, 1.0, 1.0, 1.0, 1.0, 1.0, 1.0]) sum to > 1! If they are within the occupancy_tolerance, they will be rescaled. The current occupancy_tolerance is set to: 1.0\n",
      "No structure parsed for section 1 in CIF.\n",
      "Species occupancies sum to more than 1!\n",
      "  warnings.warn(\"Issues encountered while parsing CIF: \" + \"\\n\".join(self.warnings))\n",
      "/Tmp/dingqian/miniconda3/envs/crystal-llm/lib/python3.8/site-packages/pymatgen/io/cif.py:1009: UserWarning: Some occupancies ([2.0, 1.0, 1.0, 1.0, 1.0, 1.0, 1.0, 1.0, 1.0, 1.0, 1.0, 1.0, 1.0, 1.0, 1.0, 1.0, 1.0]) sum to > 1! If they are within the occupancy_tolerance, they will be rescaled. The current occupancy_tolerance is set to: 1.0\n",
      "  warnings.warn(msg)\n",
      "/Tmp/dingqian/miniconda3/envs/crystal-llm/lib/python3.8/site-packages/pymatgen/io/cif.py:1168: UserWarning: Issues encountered while parsing CIF: Some occupancies ([2.0, 1.0, 1.0, 1.0, 1.0, 1.0, 1.0, 1.0, 1.0, 1.0, 1.0, 1.0, 1.0, 1.0, 1.0, 1.0, 1.0]) sum to > 1! If they are within the occupancy_tolerance, they will be rescaled. The current occupancy_tolerance is set to: 1.0\n",
      "No structure parsed for section 1 in CIF.\n",
      "Species occupancies sum to more than 1!\n",
      "  warnings.warn(\"Issues encountered while parsing CIF: \" + \"\\n\".join(self.warnings))\n",
      "/Tmp/dingqian/miniconda3/envs/crystal-llm/lib/python3.8/site-packages/pymatgen/io/cif.py:1009: UserWarning: Some occupancies ([1.0, 2.0, 1.0, 1.0, 1.0, 1.0, 1.0, 1.0, 1.0, 1.0, 1.0, 1.0]) sum to > 1! If they are within the occupancy_tolerance, they will be rescaled. The current occupancy_tolerance is set to: 1.0\n",
      "  warnings.warn(msg)\n",
      "/Tmp/dingqian/miniconda3/envs/crystal-llm/lib/python3.8/site-packages/pymatgen/io/cif.py:1168: UserWarning: Issues encountered while parsing CIF: Some occupancies ([1.0, 2.0, 1.0, 1.0, 1.0, 1.0, 1.0, 1.0, 1.0, 1.0, 1.0, 1.0]) sum to > 1! If they are within the occupancy_tolerance, they will be rescaled. The current occupancy_tolerance is set to: 1.0\n",
      "No structure parsed for section 1 in CIF.\n",
      "Species occupancies sum to more than 1!\n",
      "  warnings.warn(\"Issues encountered while parsing CIF: \" + \"\\n\".join(self.warnings))\n",
      " 51%|█████     | 3859/7570 [00:07<00:07, 519.40it/s]"
     ]
    },
    {
     "name": "stdout",
     "output_type": "stream",
     "text": [
      "Invalid CIF file with no structures!\n",
      "Invalid CIF file with no structures!\n",
      "Invalid CIF file with no structures!\n",
      "Invalid CIF file with no structures!\n",
      "Invalid CIF file with no structures!\n",
      "Invalid CIF file with no structures!\n",
      "Invalid CIF file with no structures!\n",
      "Invalid CIF file with no structures!\n"
     ]
    },
    {
     "name": "stderr",
     "output_type": "stream",
     "text": [
      "/Tmp/dingqian/miniconda3/envs/crystal-llm/lib/python3.8/site-packages/pymatgen/io/cif.py:1009: UserWarning: Some occupancies ([1.0, 1.0, 1.0, 1.0, 1.0, 1.0, 1.0, 1.0, 2.0, 1.0]) sum to > 1! If they are within the occupancy_tolerance, they will be rescaled. The current occupancy_tolerance is set to: 1.0\n",
      "  warnings.warn(msg)\n",
      "/Tmp/dingqian/miniconda3/envs/crystal-llm/lib/python3.8/site-packages/pymatgen/io/cif.py:1168: UserWarning: Issues encountered while parsing CIF: Some occupancies ([1.0, 1.0, 1.0, 1.0, 1.0, 1.0, 1.0, 1.0, 2.0, 1.0]) sum to > 1! If they are within the occupancy_tolerance, they will be rescaled. The current occupancy_tolerance is set to: 1.0\n",
      "No structure parsed for section 1 in CIF.\n",
      "Species occupancies sum to more than 1!\n",
      "  warnings.warn(\"Issues encountered while parsing CIF: \" + \"\\n\".join(self.warnings))\n",
      " 52%|█████▏    | 3912/7570 [00:07<00:07, 516.53it/s]/Tmp/dingqian/miniconda3/envs/crystal-llm/lib/python3.8/site-packages/pymatgen/io/cif.py:1009: UserWarning: Some occupancies ([1.0, 1.0, 1.0, 2.0, 1.0, 1.0, 1.0, 1.0, 1.0, 1.0, 1.0, 1.0, 1.0, 1.0, 1.0, 1.0, 1.0, 1.0]) sum to > 1! If they are within the occupancy_tolerance, they will be rescaled. The current occupancy_tolerance is set to: 1.0\n",
      "  warnings.warn(msg)\n",
      "/Tmp/dingqian/miniconda3/envs/crystal-llm/lib/python3.8/site-packages/pymatgen/io/cif.py:1168: UserWarning: Issues encountered while parsing CIF: Some occupancies ([1.0, 1.0, 1.0, 2.0, 1.0, 1.0, 1.0, 1.0, 1.0, 1.0, 1.0, 1.0, 1.0, 1.0, 1.0, 1.0, 1.0, 1.0]) sum to > 1! If they are within the occupancy_tolerance, they will be rescaled. The current occupancy_tolerance is set to: 1.0\n",
      "No structure parsed for section 1 in CIF.\n",
      "Species occupancies sum to more than 1!\n",
      "  warnings.warn(\"Issues encountered while parsing CIF: \" + \"\\n\".join(self.warnings))\n",
      "/Tmp/dingqian/miniconda3/envs/crystal-llm/lib/python3.8/site-packages/pymatgen/io/cif.py:1009: UserWarning: Some occupancies ([1.0, 1.0, 1.0, 2.0, 1.0, 1.0, 2.0, 1.0, 1.0, 1.0]) sum to > 1! If they are within the occupancy_tolerance, they will be rescaled. The current occupancy_tolerance is set to: 1.0\n",
      "  warnings.warn(msg)\n",
      "/Tmp/dingqian/miniconda3/envs/crystal-llm/lib/python3.8/site-packages/pymatgen/io/cif.py:1168: UserWarning: Issues encountered while parsing CIF: Some occupancies ([1.0, 1.0, 1.0, 2.0, 1.0, 1.0, 2.0, 1.0, 1.0, 1.0]) sum to > 1! If they are within the occupancy_tolerance, they will be rescaled. The current occupancy_tolerance is set to: 1.0\n",
      "No structure parsed for section 1 in CIF.\n",
      "Species occupancies sum to more than 1!\n",
      "  warnings.warn(\"Issues encountered while parsing CIF: \" + \"\\n\".join(self.warnings))\n",
      " 52%|█████▏    | 3966/7570 [00:07<00:06, 522.21it/s]"
     ]
    },
    {
     "name": "stdout",
     "output_type": "stream",
     "text": [
      "Invalid CIF file with no structures!\n",
      "Invalid CIF file with no structures!\n",
      "could not convert string to float: '0.80,'\n",
      "Invalid CIF file with no structures!\n",
      "Invalid CIF file with no structures!\n"
     ]
    },
    {
     "name": "stderr",
     "output_type": "stream",
     "text": [
      " 54%|█████▍    | 4078/7570 [00:07<00:06, 537.89it/s]"
     ]
    },
    {
     "name": "stdout",
     "output_type": "stream",
     "text": [
      "Invalid CIF file with no structures!\n",
      "Invalid CIF file with no structures!\n",
      "Invalid CIF file with no structures!\n",
      "Invalid CIF file with no structures!\n",
      "Invalid CIF file with no structures!\n"
     ]
    },
    {
     "name": "stderr",
     "output_type": "stream",
     "text": [
      "/Tmp/dingqian/miniconda3/envs/crystal-llm/lib/python3.8/site-packages/pymatgen/io/cif.py:1009: UserWarning: Some occupancies ([2.0, 1.0, 1.0, 1.0, 1.0, 1.0, 2.0, 1.0, 1.0, 1.0]) sum to > 1! If they are within the occupancy_tolerance, they will be rescaled. The current occupancy_tolerance is set to: 1.0\n",
      "  warnings.warn(msg)\n",
      "/Tmp/dingqian/miniconda3/envs/crystal-llm/lib/python3.8/site-packages/pymatgen/io/cif.py:1168: UserWarning: Issues encountered while parsing CIF: Some occupancies ([2.0, 1.0, 1.0, 1.0, 1.0, 1.0, 2.0, 1.0, 1.0, 1.0]) sum to > 1! If they are within the occupancy_tolerance, they will be rescaled. The current occupancy_tolerance is set to: 1.0\n",
      "No structure parsed for section 1 in CIF.\n",
      "Species occupancies sum to more than 1!\n",
      "  warnings.warn(\"Issues encountered while parsing CIF: \" + \"\\n\".join(self.warnings))\n",
      "/Tmp/dingqian/miniconda3/envs/crystal-llm/lib/python3.8/site-packages/pymatgen/io/cif.py:1009: UserWarning: Some occupancies ([2.0, 1.0, 1.0, 2.0, 1.0, 1.0, 2.0, 1.0, 1.0, 1.0, 1.0, 2.0, 1.0, 1.0, 1.0, 1.0]) sum to > 1! If they are within the occupancy_tolerance, they will be rescaled. The current occupancy_tolerance is set to: 1.0\n",
      "  warnings.warn(msg)\n",
      "/Tmp/dingqian/miniconda3/envs/crystal-llm/lib/python3.8/site-packages/pymatgen/io/cif.py:1168: UserWarning: Issues encountered while parsing CIF: Some occupancies ([2.0, 1.0, 1.0, 2.0, 1.0, 1.0, 2.0, 1.0, 1.0, 1.0, 1.0, 2.0, 1.0, 1.0, 1.0, 1.0]) sum to > 1! If they are within the occupancy_tolerance, they will be rescaled. The current occupancy_tolerance is set to: 1.0\n",
      "No structure parsed for section 1 in CIF.\n",
      "Species occupancies sum to more than 1!\n",
      "  warnings.warn(\"Issues encountered while parsing CIF: \" + \"\\n\".join(self.warnings))\n",
      " 55%|█████▍    | 4132/7570 [00:07<00:06, 530.27it/s]/Tmp/dingqian/miniconda3/envs/crystal-llm/lib/python3.8/site-packages/pymatgen/io/cif.py:1009: UserWarning: Some occupancies ([1.0, 1.0, 1.0, 1.0, 1.0, 2.0, 2.0, 2.0, 1.0, 1.0, 1.0]) sum to > 1! If they are within the occupancy_tolerance, they will be rescaled. The current occupancy_tolerance is set to: 1.0\n",
      "  warnings.warn(msg)\n",
      "/Tmp/dingqian/miniconda3/envs/crystal-llm/lib/python3.8/site-packages/pymatgen/io/cif.py:1168: UserWarning: Issues encountered while parsing CIF: Some occupancies ([1.0, 1.0, 1.0, 1.0, 1.0, 2.0, 2.0, 2.0, 1.0, 1.0, 1.0]) sum to > 1! If they are within the occupancy_tolerance, they will be rescaled. The current occupancy_tolerance is set to: 1.0\n",
      "No structure parsed for section 1 in CIF.\n",
      "Species occupancies sum to more than 1!\n",
      "  warnings.warn(\"Issues encountered while parsing CIF: \" + \"\\n\".join(self.warnings))\n",
      " 55%|█████▌    | 4186/7570 [00:08<00:06, 517.80it/s]"
     ]
    },
    {
     "name": "stdout",
     "output_type": "stream",
     "text": [
      "Invalid CIF file with no structures!\n",
      "Invalid CIF file with no structures!\n",
      "could not convert string to float: 'To'\n"
     ]
    },
    {
     "name": "stderr",
     "output_type": "stream",
     "text": [
      " 56%|█████▌    | 4238/7570 [00:08<00:06, 510.31it/s]/Tmp/dingqian/miniconda3/envs/crystal-llm/lib/python3.8/site-packages/pymatgen/io/cif.py:1009: UserWarning: Some occupancies ([1.0, 1.0, 1.0, 2.0, 1.0, 1.0, 1.0, 2.0, 1.0, 1.0, 1.0, 2.0, 1.0, 1.0, 1.0, 1.0]) sum to > 1! If they are within the occupancy_tolerance, they will be rescaled. The current occupancy_tolerance is set to: 1.0\n",
      "  warnings.warn(msg)\n",
      "/Tmp/dingqian/miniconda3/envs/crystal-llm/lib/python3.8/site-packages/pymatgen/io/cif.py:1168: UserWarning: Issues encountered while parsing CIF: Some occupancies ([1.0, 1.0, 1.0, 2.0, 1.0, 1.0, 1.0, 2.0, 1.0, 1.0, 1.0, 2.0, 1.0, 1.0, 1.0, 1.0]) sum to > 1! If they are within the occupancy_tolerance, they will be rescaled. The current occupancy_tolerance is set to: 1.0\n",
      "No structure parsed for section 1 in CIF.\n",
      "Species occupancies sum to more than 1!\n",
      "  warnings.warn(\"Issues encountered while parsing CIF: \" + \"\\n\".join(self.warnings))\n",
      " 57%|█████▋    | 4293/7570 [00:08<00:06, 520.32it/s]/Tmp/dingqian/miniconda3/envs/crystal-llm/lib/python3.8/site-packages/pymatgen/io/cif.py:1009: UserWarning: Some occupancies ([1.0, 1.0, 1.0, 1.0, 1.0, 1.0, 1.0, 1.0, 1.0, 2.0, 1.0, 1.0, 1.0, 1.0, 1.0, 1.0]) sum to > 1! If they are within the occupancy_tolerance, they will be rescaled. The current occupancy_tolerance is set to: 1.0\n",
      "  warnings.warn(msg)\n",
      "/Tmp/dingqian/miniconda3/envs/crystal-llm/lib/python3.8/site-packages/pymatgen/io/cif.py:1168: UserWarning: Issues encountered while parsing CIF: Some occupancies ([1.0, 1.0, 1.0, 1.0, 1.0, 1.0, 1.0, 1.0, 1.0, 2.0, 1.0, 1.0, 1.0, 1.0, 1.0, 1.0]) sum to > 1! If they are within the occupancy_tolerance, they will be rescaled. The current occupancy_tolerance is set to: 1.0\n",
      "No structure parsed for section 1 in CIF.\n",
      "Species occupancies sum to more than 1!\n",
      "  warnings.warn(\"Issues encountered while parsing CIF: \" + \"\\n\".join(self.warnings))\n",
      " 57%|█████▋    | 4346/7570 [00:08<00:06, 521.53it/s]"
     ]
    },
    {
     "name": "stdout",
     "output_type": "stream",
     "text": [
      "Invalid CIF file with no structures!\n",
      "Invalid CIF file with no structures!\n",
      "Invalid CIF file with no structures!\n",
      "Invalid CIF file with no structures!\n"
     ]
    },
    {
     "name": "stderr",
     "output_type": "stream",
     "text": [
      " 59%|█████▉    | 4503/7570 [00:08<00:06, 504.26it/s]/Tmp/dingqian/miniconda3/envs/crystal-llm/lib/python3.8/site-packages/pymatgen/io/cif.py:1009: UserWarning: Some occupancies ([1.0, 1.0, 1.0, 1.0, 2.0, 1.0, 1.0, 1.0, 1.0, 1.0, 1.0, 1.0, 1.0, 1.0, 1.0, 1.0, 1.0, 1.0, 1.0, 1.0, 1.0, 1.0, 1.0]) sum to > 1! If they are within the occupancy_tolerance, they will be rescaled. The current occupancy_tolerance is set to: 1.0\n",
      "  warnings.warn(msg)\n",
      "/Tmp/dingqian/miniconda3/envs/crystal-llm/lib/python3.8/site-packages/pymatgen/io/cif.py:1168: UserWarning: Issues encountered while parsing CIF: Some occupancies ([1.0, 1.0, 1.0, 1.0, 2.0, 1.0, 1.0, 1.0, 1.0, 1.0, 1.0, 1.0, 1.0, 1.0, 1.0, 1.0, 1.0, 1.0, 1.0, 1.0, 1.0, 1.0, 1.0]) sum to > 1! If they are within the occupancy_tolerance, they will be rescaled. The current occupancy_tolerance is set to: 1.0\n",
      "No structure parsed for section 1 in CIF.\n",
      "Species occupancies sum to more than 1!\n",
      "  warnings.warn(\"Issues encountered while parsing CIF: \" + \"\\n\".join(self.warnings))\n",
      " 60%|██████    | 4554/7570 [00:08<00:06, 493.03it/s]/Tmp/dingqian/miniconda3/envs/crystal-llm/lib/python3.8/site-packages/pymatgen/io/cif.py:1009: UserWarning: Some occupancies ([2.0, 1.0, 1.0, 1.0, 2.0, 1.0, 2.0, 1.0, 1.0, 1.0, 1.0, 1.0]) sum to > 1! If they are within the occupancy_tolerance, they will be rescaled. The current occupancy_tolerance is set to: 1.0\n",
      "  warnings.warn(msg)\n",
      "/Tmp/dingqian/miniconda3/envs/crystal-llm/lib/python3.8/site-packages/pymatgen/io/cif.py:1168: UserWarning: Issues encountered while parsing CIF: Some occupancies ([2.0, 1.0, 1.0, 1.0, 2.0, 1.0, 2.0, 1.0, 1.0, 1.0, 1.0, 1.0]) sum to > 1! If they are within the occupancy_tolerance, they will be rescaled. The current occupancy_tolerance is set to: 1.0\n",
      "No structure parsed for section 1 in CIF.\n",
      "Species occupancies sum to more than 1!\n",
      "  warnings.warn(\"Issues encountered while parsing CIF: \" + \"\\n\".join(self.warnings))\n",
      "/Tmp/dingqian/miniconda3/envs/crystal-llm/lib/python3.8/site-packages/pymatgen/io/cif.py:1009: UserWarning: Some occupancies ([1.0, 1.0, 1.0, 1.0, 1.0, 2.0, 2.0, 1.0, 1.0, 1.0, 1.0, 1.0, 1.0, 1.0, 1.0, 1.0, 1.0, 1.0]) sum to > 1! If they are within the occupancy_tolerance, they will be rescaled. The current occupancy_tolerance is set to: 1.0\n",
      "  warnings.warn(msg)\n",
      "/Tmp/dingqian/miniconda3/envs/crystal-llm/lib/python3.8/site-packages/pymatgen/io/cif.py:1168: UserWarning: Issues encountered while parsing CIF: Some occupancies ([1.0, 1.0, 1.0, 1.0, 1.0, 2.0, 2.0, 1.0, 1.0, 1.0, 1.0, 1.0, 1.0, 1.0, 1.0, 1.0, 1.0, 1.0]) sum to > 1! If they are within the occupancy_tolerance, they will be rescaled. The current occupancy_tolerance is set to: 1.0\n",
      "No structure parsed for section 1 in CIF.\n",
      "Species occupancies sum to more than 1!\n",
      "  warnings.warn(\"Issues encountered while parsing CIF: \" + \"\\n\".join(self.warnings))\n",
      " 61%|██████    | 4604/7570 [00:08<00:05, 494.90it/s]/Tmp/dingqian/miniconda3/envs/crystal-llm/lib/python3.8/site-packages/pymatgen/io/cif.py:1009: UserWarning: Some occupancies ([1.0, 1.0, 1.0, 1.0, 1.0, 2.0, 1.0, 1.0, 1.0, 1.0, 1.0, 1.0, 1.0, 1.0, 1.0, 1.0, 1.0, 1.0, 1.0]) sum to > 1! If they are within the occupancy_tolerance, they will be rescaled. The current occupancy_tolerance is set to: 1.0\n",
      "  warnings.warn(msg)\n",
      "/Tmp/dingqian/miniconda3/envs/crystal-llm/lib/python3.8/site-packages/pymatgen/io/cif.py:1168: UserWarning: Issues encountered while parsing CIF: Some occupancies ([1.0, 1.0, 1.0, 1.0, 1.0, 2.0, 1.0, 1.0, 1.0, 1.0, 1.0, 1.0, 1.0, 1.0, 1.0, 1.0, 1.0, 1.0, 1.0]) sum to > 1! If they are within the occupancy_tolerance, they will be rescaled. The current occupancy_tolerance is set to: 1.0\n",
      "No structure parsed for section 1 in CIF.\n",
      "Species occupancies sum to more than 1!\n",
      "  warnings.warn(\"Issues encountered while parsing CIF: \" + \"\\n\".join(self.warnings))\n"
     ]
    },
    {
     "name": "stdout",
     "output_type": "stream",
     "text": [
      "Invalid CIF file with no structures!\n",
      "Invalid CIF file with no structures!\n",
      "Invalid CIF file with no structures!\n",
      "Invalid CIF file with no structures!\n",
      "Invalid CIF file with no structures!\n"
     ]
    },
    {
     "name": "stderr",
     "output_type": "stream",
     "text": [
      " 62%|██████▏   | 4657/7570 [00:09<00:05, 503.98it/s]/Tmp/dingqian/miniconda3/envs/crystal-llm/lib/python3.8/site-packages/pymatgen/io/cif.py:1009: UserWarning: Some occupancies ([1.0, 1.0, 1.0, 2.0, 1.0, 1.0, 1.0, 1.0, 1.0, 1.0, 1.0, 1.0, 1.0, 1.0, 1.0, 1.0, 1.0]) sum to > 1! If they are within the occupancy_tolerance, they will be rescaled. The current occupancy_tolerance is set to: 1.0\n",
      "  warnings.warn(msg)\n",
      "/Tmp/dingqian/miniconda3/envs/crystal-llm/lib/python3.8/site-packages/pymatgen/io/cif.py:1168: UserWarning: Issues encountered while parsing CIF: Some occupancies ([1.0, 1.0, 1.0, 2.0, 1.0, 1.0, 1.0, 1.0, 1.0, 1.0, 1.0, 1.0, 1.0, 1.0, 1.0, 1.0, 1.0]) sum to > 1! If they are within the occupancy_tolerance, they will be rescaled. The current occupancy_tolerance is set to: 1.0\n",
      "No structure parsed for section 1 in CIF.\n",
      "Species occupancies sum to more than 1!\n",
      "  warnings.warn(\"Issues encountered while parsing CIF: \" + \"\\n\".join(self.warnings))\n",
      "/Tmp/dingqian/miniconda3/envs/crystal-llm/lib/python3.8/site-packages/pymatgen/io/cif.py:1009: UserWarning: Some occupancies ([1.0, 1.0, 2.0, 2.0, 1.0, 1.0, 1.0, 1.0, 1.0, 1.0, 1.0, 1.0, 1.0, 1.0, 1.0, 1.0]) sum to > 1! If they are within the occupancy_tolerance, they will be rescaled. The current occupancy_tolerance is set to: 1.0\n",
      "  warnings.warn(msg)\n",
      "/Tmp/dingqian/miniconda3/envs/crystal-llm/lib/python3.8/site-packages/pymatgen/io/cif.py:1168: UserWarning: Issues encountered while parsing CIF: Some occupancies ([1.0, 1.0, 2.0, 2.0, 1.0, 1.0, 1.0, 1.0, 1.0, 1.0, 1.0, 1.0, 1.0, 1.0, 1.0, 1.0]) sum to > 1! If they are within the occupancy_tolerance, they will be rescaled. The current occupancy_tolerance is set to: 1.0\n",
      "No structure parsed for section 1 in CIF.\n",
      "Species occupancies sum to more than 1!\n",
      "  warnings.warn(\"Issues encountered while parsing CIF: \" + \"\\n\".join(self.warnings))\n",
      "/Tmp/dingqian/miniconda3/envs/crystal-llm/lib/python3.8/site-packages/pymatgen/io/cif.py:1009: UserWarning: Some occupancies ([1.0, 1.0, 2.0, 1.0, 2.0, 2.0, 1.0, 1.0, 1.0, 1.0, 1.0, 1.0, 1.0, 1.0, 1.0]) sum to > 1! If they are within the occupancy_tolerance, they will be rescaled. The current occupancy_tolerance is set to: 1.0\n",
      "  warnings.warn(msg)\n",
      "/Tmp/dingqian/miniconda3/envs/crystal-llm/lib/python3.8/site-packages/pymatgen/io/cif.py:1168: UserWarning: Issues encountered while parsing CIF: Some occupancies ([1.0, 1.0, 2.0, 1.0, 2.0, 2.0, 1.0, 1.0, 1.0, 1.0, 1.0, 1.0, 1.0, 1.0, 1.0]) sum to > 1! If they are within the occupancy_tolerance, they will be rescaled. The current occupancy_tolerance is set to: 1.0\n",
      "No structure parsed for section 1 in CIF.\n",
      "Species occupancies sum to more than 1!\n",
      "  warnings.warn(\"Issues encountered while parsing CIF: \" + \"\\n\".join(self.warnings))\n",
      " 62%|██████▏   | 4711/7570 [00:09<00:05, 512.51it/s]/Tmp/dingqian/miniconda3/envs/crystal-llm/lib/python3.8/site-packages/pymatgen/io/cif.py:1009: UserWarning: Some occupancies ([2.0, 1.0, 1.0, 1.0, 1.0]) sum to > 1! If they are within the occupancy_tolerance, they will be rescaled. The current occupancy_tolerance is set to: 1.0\n",
      "  warnings.warn(msg)\n",
      "/Tmp/dingqian/miniconda3/envs/crystal-llm/lib/python3.8/site-packages/pymatgen/io/cif.py:1168: UserWarning: Issues encountered while parsing CIF: Some occupancies ([2.0, 1.0, 1.0, 1.0, 1.0]) sum to > 1! If they are within the occupancy_tolerance, they will be rescaled. The current occupancy_tolerance is set to: 1.0\n",
      "No structure parsed for section 1 in CIF.\n",
      "Species occupancies sum to more than 1!\n",
      "  warnings.warn(\"Issues encountered while parsing CIF: \" + \"\\n\".join(self.warnings))\n",
      " 63%|██████▎   | 4768/7570 [00:09<00:05, 527.36it/s]/Tmp/dingqian/miniconda3/envs/crystal-llm/lib/python3.8/site-packages/pymatgen/io/cif.py:1009: UserWarning: Some occupancies ([1.0, 2.0, 1.0, 1.0, 1.0, 1.0, 1.0, 1.0, 1.0, 1.0, 1.0, 1.0, 1.0, 1.0, 1.0, 1.0, 1.0, 1.0, 1.0]) sum to > 1! If they are within the occupancy_tolerance, they will be rescaled. The current occupancy_tolerance is set to: 1.0\n",
      "  warnings.warn(msg)\n",
      "/Tmp/dingqian/miniconda3/envs/crystal-llm/lib/python3.8/site-packages/pymatgen/io/cif.py:1168: UserWarning: Issues encountered while parsing CIF: Some occupancies ([1.0, 2.0, 1.0, 1.0, 1.0, 1.0, 1.0, 1.0, 1.0, 1.0, 1.0, 1.0, 1.0, 1.0, 1.0, 1.0, 1.0, 1.0, 1.0]) sum to > 1! If they are within the occupancy_tolerance, they will be rescaled. The current occupancy_tolerance is set to: 1.0\n",
      "No structure parsed for section 1 in CIF.\n",
      "Species occupancies sum to more than 1!\n",
      "  warnings.warn(\"Issues encountered while parsing CIF: \" + \"\\n\".join(self.warnings))\n"
     ]
    },
    {
     "name": "stdout",
     "output_type": "stream",
     "text": [
      "Invalid CIF file with no structures!\n",
      "Invalid CIF file with no structures!\n",
      "Invalid CIF file with no structures!\n",
      "Invalid CIF file with no structures!\n",
      "could not convert string to float: 'To'\n",
      "Invalid CIF file with no structures!\n",
      "Invalid CIF file with no structures!\n"
     ]
    },
    {
     "name": "stderr",
     "output_type": "stream",
     "text": [
      " 64%|██████▎   | 4825/7570 [00:09<00:05, 539.06it/s]/Tmp/dingqian/miniconda3/envs/crystal-llm/lib/python3.8/site-packages/pymatgen/io/cif.py:1009: UserWarning: Some occupancies ([1.0, 2.0, 1.0, 2.0, 1.0, 1.0, 1.0, 1.0, 1.0, 1.0, 1.0, 1.0, 1.0, 1.0, 1.0, 1.0]) sum to > 1! If they are within the occupancy_tolerance, they will be rescaled. The current occupancy_tolerance is set to: 1.0\n",
      "  warnings.warn(msg)\n",
      "/Tmp/dingqian/miniconda3/envs/crystal-llm/lib/python3.8/site-packages/pymatgen/io/cif.py:1168: UserWarning: Issues encountered while parsing CIF: Some occupancies ([1.0, 2.0, 1.0, 2.0, 1.0, 1.0, 1.0, 1.0, 1.0, 1.0, 1.0, 1.0, 1.0, 1.0, 1.0, 1.0]) sum to > 1! If they are within the occupancy_tolerance, they will be rescaled. The current occupancy_tolerance is set to: 1.0\n",
      "No structure parsed for section 1 in CIF.\n",
      "Species occupancies sum to more than 1!\n",
      "  warnings.warn(\"Issues encountered while parsing CIF: \" + \"\\n\".join(self.warnings))\n",
      " 64%|██████▍   | 4880/7570 [00:09<00:04, 542.18it/s]"
     ]
    },
    {
     "name": "stdout",
     "output_type": "stream",
     "text": [
      "Invalid CIF file with no structures!\n",
      "Invalid CIF file with no structures!\n",
      "Invalid CIF file with no structures!\n",
      "Invalid CIF file with no structures!\n",
      "Invalid CIF file with no structures!\n"
     ]
    },
    {
     "name": "stderr",
     "output_type": "stream",
     "text": [
      "/Tmp/dingqian/miniconda3/envs/crystal-llm/lib/python3.8/site-packages/pymatgen/io/cif.py:1009: UserWarning: Some occupancies ([1.0, 2.0, 1.0, 1.0, 1.0, 1.0, 1.0, 1.0, 1.0]) sum to > 1! If they are within the occupancy_tolerance, they will be rescaled. The current occupancy_tolerance is set to: 1.0\n",
      "  warnings.warn(msg)\n",
      "/Tmp/dingqian/miniconda3/envs/crystal-llm/lib/python3.8/site-packages/pymatgen/io/cif.py:1168: UserWarning: Issues encountered while parsing CIF: Some occupancies ([1.0, 2.0, 1.0, 1.0, 1.0, 1.0, 1.0, 1.0, 1.0]) sum to > 1! If they are within the occupancy_tolerance, they will be rescaled. The current occupancy_tolerance is set to: 1.0\n",
      "No structure parsed for section 1 in CIF.\n",
      "Species occupancies sum to more than 1!\n",
      "  warnings.warn(\"Issues encountered while parsing CIF: \" + \"\\n\".join(self.warnings))\n",
      "/Tmp/dingqian/miniconda3/envs/crystal-llm/lib/python3.8/site-packages/pymatgen/io/cif.py:1009: UserWarning: Some occupancies ([1.0, 1.0, 2.0, 2.0, 2.0, 2.0, 1.0, 1.0]) sum to > 1! If they are within the occupancy_tolerance, they will be rescaled. The current occupancy_tolerance is set to: 1.0\n",
      "  warnings.warn(msg)\n",
      "/Tmp/dingqian/miniconda3/envs/crystal-llm/lib/python3.8/site-packages/pymatgen/io/cif.py:1168: UserWarning: Issues encountered while parsing CIF: Some occupancies ([1.0, 1.0, 2.0, 2.0, 2.0, 2.0, 1.0, 1.0]) sum to > 1! If they are within the occupancy_tolerance, they will be rescaled. The current occupancy_tolerance is set to: 1.0\n",
      "No structure parsed for section 1 in CIF.\n",
      "Species occupancies sum to more than 1!\n",
      "  warnings.warn(\"Issues encountered while parsing CIF: \" + \"\\n\".join(self.warnings))\n",
      " 65%|██████▌   | 4935/7570 [00:09<00:05, 516.23it/s]/Tmp/dingqian/miniconda3/envs/crystal-llm/lib/python3.8/site-packages/pymatgen/io/cif.py:1009: UserWarning: Some occupancies ([1.0, 1.0, 2.0, 1.0, 1.0, 1.0, 1.0]) sum to > 1! If they are within the occupancy_tolerance, they will be rescaled. The current occupancy_tolerance is set to: 1.0\n",
      "  warnings.warn(msg)\n",
      "/Tmp/dingqian/miniconda3/envs/crystal-llm/lib/python3.8/site-packages/pymatgen/io/cif.py:1168: UserWarning: Issues encountered while parsing CIF: Some occupancies ([1.0, 1.0, 2.0, 1.0, 1.0, 1.0, 1.0]) sum to > 1! If they are within the occupancy_tolerance, they will be rescaled. The current occupancy_tolerance is set to: 1.0\n",
      "No structure parsed for section 1 in CIF.\n",
      "Species occupancies sum to more than 1!\n",
      "  warnings.warn(\"Issues encountered while parsing CIF: \" + \"\\n\".join(self.warnings))\n",
      " 66%|██████▌   | 4996/7570 [00:09<00:04, 542.46it/s]"
     ]
    },
    {
     "name": "stdout",
     "output_type": "stream",
     "text": [
      "Invalid CIF file with no structures!\n",
      "Invalid CIF file with no structures!\n",
      "Invalid CIF file with no structures!\n"
     ]
    },
    {
     "name": "stderr",
     "output_type": "stream",
     "text": [
      "/Tmp/dingqian/miniconda3/envs/crystal-llm/lib/python3.8/site-packages/pymatgen/io/cif.py:1009: UserWarning: Some occupancies ([1.0, 3.0, 1.0, 1.0, 2.0, 1.0, 1.0, 1.0, 1.0, 1.0, 1.0, 1.0, 1.0, 1.0, 1.0, 1.0, 1.0]) sum to > 1! If they are within the occupancy_tolerance, they will be rescaled. The current occupancy_tolerance is set to: 1.0\n",
      "  warnings.warn(msg)\n",
      "/Tmp/dingqian/miniconda3/envs/crystal-llm/lib/python3.8/site-packages/pymatgen/io/cif.py:1168: UserWarning: Issues encountered while parsing CIF: Some occupancies ([1.0, 3.0, 1.0, 1.0, 2.0, 1.0, 1.0, 1.0, 1.0, 1.0, 1.0, 1.0, 1.0, 1.0, 1.0, 1.0, 1.0]) sum to > 1! If they are within the occupancy_tolerance, they will be rescaled. The current occupancy_tolerance is set to: 1.0\n",
      "No structure parsed for section 1 in CIF.\n",
      "Species occupancies sum to more than 1!\n",
      "  warnings.warn(\"Issues encountered while parsing CIF: \" + \"\\n\".join(self.warnings))\n",
      " 67%|██████▋   | 5051/7570 [00:09<00:04, 522.88it/s]/Tmp/dingqian/miniconda3/envs/crystal-llm/lib/python3.8/site-packages/pymatgen/io/cif.py:1009: UserWarning: Some occupancies ([1.0, 1.0, 2.0, 2.0, 1.0, 1.0, 1.0, 1.0, 1.0, 1.0, 1.0, 1.0, 1.0, 1.0, 1.0, 1.0, 1.0]) sum to > 1! If they are within the occupancy_tolerance, they will be rescaled. The current occupancy_tolerance is set to: 1.0\n",
      "  warnings.warn(msg)\n",
      "/Tmp/dingqian/miniconda3/envs/crystal-llm/lib/python3.8/site-packages/pymatgen/io/cif.py:1168: UserWarning: Issues encountered while parsing CIF: Some occupancies ([1.0, 1.0, 2.0, 2.0, 1.0, 1.0, 1.0, 1.0, 1.0, 1.0, 1.0, 1.0, 1.0, 1.0, 1.0, 1.0, 1.0]) sum to > 1! If they are within the occupancy_tolerance, they will be rescaled. The current occupancy_tolerance is set to: 1.0\n",
      "No structure parsed for section 1 in CIF.\n",
      "Species occupancies sum to more than 1!\n",
      "  warnings.warn(\"Issues encountered while parsing CIF: \" + \"\\n\".join(self.warnings))\n",
      "/Tmp/dingqian/miniconda3/envs/crystal-llm/lib/python3.8/site-packages/pymatgen/io/cif.py:1009: UserWarning: Some occupancies ([1.0, 1.0, 1.0, 2.0, 1.0]) sum to > 1! If they are within the occupancy_tolerance, they will be rescaled. The current occupancy_tolerance is set to: 1.0\n",
      "  warnings.warn(msg)\n",
      "/Tmp/dingqian/miniconda3/envs/crystal-llm/lib/python3.8/site-packages/pymatgen/io/cif.py:1168: UserWarning: Issues encountered while parsing CIF: Some occupancies ([1.0, 1.0, 1.0, 2.0, 1.0]) sum to > 1! If they are within the occupancy_tolerance, they will be rescaled. The current occupancy_tolerance is set to: 1.0\n",
      "No structure parsed for section 1 in CIF.\n",
      "Species occupancies sum to more than 1!\n",
      "  warnings.warn(\"Issues encountered while parsing CIF: \" + \"\\n\".join(self.warnings))\n",
      " 67%|██████▋   | 5106/7570 [00:09<00:04, 528.70it/s]/Tmp/dingqian/miniconda3/envs/crystal-llm/lib/python3.8/site-packages/pymatgen/io/cif.py:1009: UserWarning: Some occupancies ([1.0, 1.0, 1.0, 2.0, 2.0, 2.0]) sum to > 1! If they are within the occupancy_tolerance, they will be rescaled. The current occupancy_tolerance is set to: 1.0\n",
      "  warnings.warn(msg)\n",
      "/Tmp/dingqian/miniconda3/envs/crystal-llm/lib/python3.8/site-packages/pymatgen/io/cif.py:1168: UserWarning: Issues encountered while parsing CIF: Some occupancies ([1.0, 1.0, 1.0, 2.0, 2.0, 2.0]) sum to > 1! If they are within the occupancy_tolerance, they will be rescaled. The current occupancy_tolerance is set to: 1.0\n",
      "No structure parsed for section 1 in CIF.\n",
      "Species occupancies sum to more than 1!\n",
      "  warnings.warn(\"Issues encountered while parsing CIF: \" + \"\\n\".join(self.warnings))\n"
     ]
    },
    {
     "name": "stdout",
     "output_type": "stream",
     "text": [
      "Invalid CIF file with no structures!\n",
      "Invalid CIF file with no structures!\n",
      "could not convert string to float: 'To'\n",
      "Invalid CIF file with no structures!\n",
      "Invalid CIF file with no structures!\n"
     ]
    },
    {
     "name": "stderr",
     "output_type": "stream",
     "text": [
      " 68%|██████▊   | 5161/7570 [00:09<00:04, 529.92it/s]/Tmp/dingqian/miniconda3/envs/crystal-llm/lib/python3.8/site-packages/pymatgen/io/cif.py:1009: UserWarning: Some occupancies ([2.0, 1.0, 1.0, 1.0, 1.0, 1.0, 1.0, 1.0, 1.0, 1.0, 1.0, 1.0, 1.0, 1.0]) sum to > 1! If they are within the occupancy_tolerance, they will be rescaled. The current occupancy_tolerance is set to: 1.0\n",
      "  warnings.warn(msg)\n",
      "/Tmp/dingqian/miniconda3/envs/crystal-llm/lib/python3.8/site-packages/pymatgen/io/cif.py:1168: UserWarning: Issues encountered while parsing CIF: Some occupancies ([2.0, 1.0, 1.0, 1.0, 1.0, 1.0, 1.0, 1.0, 1.0, 1.0, 1.0, 1.0, 1.0, 1.0]) sum to > 1! If they are within the occupancy_tolerance, they will be rescaled. The current occupancy_tolerance is set to: 1.0\n",
      "No structure parsed for section 1 in CIF.\n",
      "Species occupancies sum to more than 1!\n",
      "  warnings.warn(\"Issues encountered while parsing CIF: \" + \"\\n\".join(self.warnings))\n",
      " 70%|██████▉   | 5271/7570 [00:10<00:04, 533.24it/s]/Tmp/dingqian/miniconda3/envs/crystal-llm/lib/python3.8/site-packages/pymatgen/io/cif.py:1009: UserWarning: Some occupancies ([1.0, 1.0, 1.0, 1.0, 1.0, 2.0, 2.0, 2.0, 2.0, 2.0, 1.0]) sum to > 1! If they are within the occupancy_tolerance, they will be rescaled. The current occupancy_tolerance is set to: 1.0\n",
      "  warnings.warn(msg)\n",
      "/Tmp/dingqian/miniconda3/envs/crystal-llm/lib/python3.8/site-packages/pymatgen/io/cif.py:1168: UserWarning: Issues encountered while parsing CIF: Some occupancies ([1.0, 1.0, 1.0, 1.0, 1.0, 2.0, 2.0, 2.0, 2.0, 2.0, 1.0]) sum to > 1! If they are within the occupancy_tolerance, they will be rescaled. The current occupancy_tolerance is set to: 1.0\n",
      "No structure parsed for section 1 in CIF.\n",
      "Species occupancies sum to more than 1!\n",
      "  warnings.warn(\"Issues encountered while parsing CIF: \" + \"\\n\".join(self.warnings))\n"
     ]
    },
    {
     "name": "stdout",
     "output_type": "stream",
     "text": [
      "Invalid CIF file with no structures!\n",
      "Invalid CIF file with no structures!\n",
      "Invalid CIF file with no structures!\n",
      "Invalid CIF file with no structures!\n"
     ]
    },
    {
     "name": "stderr",
     "output_type": "stream",
     "text": [
      " 70%|███████   | 5326/7570 [00:10<00:04, 535.21it/s]/Tmp/dingqian/miniconda3/envs/crystal-llm/lib/python3.8/site-packages/pymatgen/io/cif.py:1009: UserWarning: Some occupancies ([1.0, 1.0, 1.0, 1.0, 1.0, 1.0, 1.0, 2.0, 1.0, 2.0, 2.0, 2.0, 2.0, 1.0]) sum to > 1! If they are within the occupancy_tolerance, they will be rescaled. The current occupancy_tolerance is set to: 1.0\n",
      "  warnings.warn(msg)\n",
      "/Tmp/dingqian/miniconda3/envs/crystal-llm/lib/python3.8/site-packages/pymatgen/io/cif.py:1168: UserWarning: Issues encountered while parsing CIF: Some occupancies ([1.0, 1.0, 1.0, 1.0, 1.0, 1.0, 1.0, 2.0, 1.0, 2.0, 2.0, 2.0, 2.0, 1.0]) sum to > 1! If they are within the occupancy_tolerance, they will be rescaled. The current occupancy_tolerance is set to: 1.0\n",
      "No structure parsed for section 1 in CIF.\n",
      "Species occupancies sum to more than 1!\n",
      "  warnings.warn(\"Issues encountered while parsing CIF: \" + \"\\n\".join(self.warnings))\n",
      "/Tmp/dingqian/miniconda3/envs/crystal-llm/lib/python3.8/site-packages/pymatgen/io/cif.py:1009: UserWarning: Some occupancies ([1.0, 1.0, 1.0, 1.0, 1.0, 1.0, 1.0, 1.0, 1.0, 1.0, 1.0, 1.0, 1.0, 1.0, 2.0, 2.0, 1.0, 1.0]) sum to > 1! If they are within the occupancy_tolerance, they will be rescaled. The current occupancy_tolerance is set to: 1.0\n",
      "  warnings.warn(msg)\n",
      "/Tmp/dingqian/miniconda3/envs/crystal-llm/lib/python3.8/site-packages/pymatgen/io/cif.py:1168: UserWarning: Issues encountered while parsing CIF: Some occupancies ([1.0, 1.0, 1.0, 1.0, 1.0, 1.0, 1.0, 1.0, 1.0, 1.0, 1.0, 1.0, 1.0, 1.0, 2.0, 2.0, 1.0, 1.0]) sum to > 1! If they are within the occupancy_tolerance, they will be rescaled. The current occupancy_tolerance is set to: 1.0\n",
      "No structure parsed for section 1 in CIF.\n",
      "Species occupancies sum to more than 1!\n",
      "  warnings.warn(\"Issues encountered while parsing CIF: \" + \"\\n\".join(self.warnings))\n",
      " 71%|███████   | 5381/7570 [00:10<00:04, 534.97it/s]/Tmp/dingqian/miniconda3/envs/crystal-llm/lib/python3.8/site-packages/pymatgen/io/cif.py:1009: UserWarning: Some occupancies ([1.0, 1.0, 2.0, 2.0, 1.0, 1.0, 1.0, 1.0, 1.0, 1.0, 1.0, 1.0, 1.0, 1.0, 1.0, 1.0, 1.0, 1.0]) sum to > 1! If they are within the occupancy_tolerance, they will be rescaled. The current occupancy_tolerance is set to: 1.0\n",
      "  warnings.warn(msg)\n",
      "/Tmp/dingqian/miniconda3/envs/crystal-llm/lib/python3.8/site-packages/pymatgen/io/cif.py:1168: UserWarning: Issues encountered while parsing CIF: Some occupancies ([1.0, 1.0, 2.0, 2.0, 1.0, 1.0, 1.0, 1.0, 1.0, 1.0, 1.0, 1.0, 1.0, 1.0, 1.0, 1.0, 1.0, 1.0]) sum to > 1! If they are within the occupancy_tolerance, they will be rescaled. The current occupancy_tolerance is set to: 1.0\n",
      "No structure parsed for section 1 in CIF.\n",
      "Species occupancies sum to more than 1!\n",
      "  warnings.warn(\"Issues encountered while parsing CIF: \" + \"\\n\".join(self.warnings))\n",
      " 72%|███████▏  | 5437/7570 [00:10<00:03, 541.20it/s]/Tmp/dingqian/miniconda3/envs/crystal-llm/lib/python3.8/site-packages/pymatgen/io/cif.py:1009: UserWarning: Some occupancies ([1.0, 1.0, 1.0, 1.0, 1.0, 1.0, 1.0, 1.0, 2.0, 2.0, 2.0, 2.0, 1.0, 1.0, 1.0, 1.0]) sum to > 1! If they are within the occupancy_tolerance, they will be rescaled. The current occupancy_tolerance is set to: 1.0\n",
      "  warnings.warn(msg)\n",
      "/Tmp/dingqian/miniconda3/envs/crystal-llm/lib/python3.8/site-packages/pymatgen/io/cif.py:1168: UserWarning: Issues encountered while parsing CIF: Some occupancies ([1.0, 1.0, 1.0, 1.0, 1.0, 1.0, 1.0, 1.0, 2.0, 2.0, 2.0, 2.0, 1.0, 1.0, 1.0, 1.0]) sum to > 1! If they are within the occupancy_tolerance, they will be rescaled. The current occupancy_tolerance is set to: 1.0\n",
      "No structure parsed for section 1 in CIF.\n",
      "Species occupancies sum to more than 1!\n",
      "  warnings.warn(\"Issues encountered while parsing CIF: \" + \"\\n\".join(self.warnings))\n"
     ]
    },
    {
     "name": "stdout",
     "output_type": "stream",
     "text": [
      "Invalid CIF file with no structures!\n",
      "list index out of range\n",
      "Invalid CIF file with no structures!\n",
      "Invalid CIF file with no structures!\n",
      "could not convert string to float: 'To'\n",
      "could not convert string to float: '0.34.91'\n",
      "Invalid CIF file with no structures!\n",
      "Invalid CIF file with no structures!\n"
     ]
    },
    {
     "name": "stderr",
     "output_type": "stream",
     "text": [
      " 73%|███████▎  | 5492/7570 [00:10<00:03, 528.06it/s]/Tmp/dingqian/miniconda3/envs/crystal-llm/lib/python3.8/site-packages/pymatgen/io/cif.py:1009: UserWarning: Some occupancies ([2.0, 2.0, 2.0, 2.0, 2.0, 1.0, 1.0, 1.0, 1.0, 1.0]) sum to > 1! If they are within the occupancy_tolerance, they will be rescaled. The current occupancy_tolerance is set to: 1.0\n",
      "  warnings.warn(msg)\n",
      "/Tmp/dingqian/miniconda3/envs/crystal-llm/lib/python3.8/site-packages/pymatgen/io/cif.py:1168: UserWarning: Issues encountered while parsing CIF: Some occupancies ([2.0, 2.0, 2.0, 2.0, 2.0, 1.0, 1.0, 1.0, 1.0, 1.0]) sum to > 1! If they are within the occupancy_tolerance, they will be rescaled. The current occupancy_tolerance is set to: 1.0\n",
      "No structure parsed for section 1 in CIF.\n",
      "Species occupancies sum to more than 1!\n",
      "  warnings.warn(\"Issues encountered while parsing CIF: \" + \"\\n\".join(self.warnings))\n",
      " 74%|███████▍  | 5602/7570 [00:10<00:03, 532.17it/s]"
     ]
    },
    {
     "name": "stdout",
     "output_type": "stream",
     "text": [
      "Invalid CIF file with no structures!\n",
      "Invalid CIF file with no structures!\n",
      "could not convert string to float: 'Cd'\n",
      "Invalid CIF file with no structures!\n"
     ]
    },
    {
     "name": "stderr",
     "output_type": "stream",
     "text": [
      "/Tmp/dingqian/miniconda3/envs/crystal-llm/lib/python3.8/site-packages/pymatgen/io/cif.py:1009: UserWarning: Some occupancies ([1.0, 2.0, 2.0, 1.0, 1.0, 1.0, 1.0, 1.0, 1.0, 1.0, 1.0, 1.0, 1.0, 1.0]) sum to > 1! If they are within the occupancy_tolerance, they will be rescaled. The current occupancy_tolerance is set to: 1.0\n",
      "  warnings.warn(msg)\n",
      "/Tmp/dingqian/miniconda3/envs/crystal-llm/lib/python3.8/site-packages/pymatgen/io/cif.py:1168: UserWarning: Issues encountered while parsing CIF: Some occupancies ([1.0, 2.0, 2.0, 1.0, 1.0, 1.0, 1.0, 1.0, 1.0, 1.0, 1.0, 1.0, 1.0, 1.0]) sum to > 1! If they are within the occupancy_tolerance, they will be rescaled. The current occupancy_tolerance is set to: 1.0\n",
      "No structure parsed for section 1 in CIF.\n",
      "Species occupancies sum to more than 1!\n",
      "  warnings.warn(\"Issues encountered while parsing CIF: \" + \"\\n\".join(self.warnings))\n",
      " 75%|███████▍  | 5656/7570 [00:10<00:03, 533.36it/s]/Tmp/dingqian/miniconda3/envs/crystal-llm/lib/python3.8/site-packages/pymatgen/io/cif.py:1009: UserWarning: Some occupancies ([1.0, 1.0, 1.0, 1.0, 1.0, 2.0, 2.0, 1.0, 1.0, 1.0]) sum to > 1! If they are within the occupancy_tolerance, they will be rescaled. The current occupancy_tolerance is set to: 1.0\n",
      "  warnings.warn(msg)\n",
      "/Tmp/dingqian/miniconda3/envs/crystal-llm/lib/python3.8/site-packages/pymatgen/io/cif.py:1168: UserWarning: Issues encountered while parsing CIF: Some occupancies ([1.0, 1.0, 1.0, 1.0, 1.0, 2.0, 2.0, 1.0, 1.0, 1.0]) sum to > 1! If they are within the occupancy_tolerance, they will be rescaled. The current occupancy_tolerance is set to: 1.0\n",
      "No structure parsed for section 1 in CIF.\n",
      "Species occupancies sum to more than 1!\n",
      "  warnings.warn(\"Issues encountered while parsing CIF: \" + \"\\n\".join(self.warnings))\n",
      " 75%|███████▌  | 5710/7570 [00:11<00:03, 518.90it/s]/Tmp/dingqian/miniconda3/envs/crystal-llm/lib/python3.8/site-packages/pymatgen/io/cif.py:1009: UserWarning: Some occupancies ([2.0, 1.0, 2.0, 1.0, 1.0, 1.0, 1.0, 1.0, 1.0, 1.0, 1.0, 1.0, 1.0, 1.0]) sum to > 1! If they are within the occupancy_tolerance, they will be rescaled. The current occupancy_tolerance is set to: 1.0\n",
      "  warnings.warn(msg)\n",
      "/Tmp/dingqian/miniconda3/envs/crystal-llm/lib/python3.8/site-packages/pymatgen/io/cif.py:1168: UserWarning: Issues encountered while parsing CIF: Some occupancies ([2.0, 1.0, 2.0, 1.0, 1.0, 1.0, 1.0, 1.0, 1.0, 1.0, 1.0, 1.0, 1.0, 1.0]) sum to > 1! If they are within the occupancy_tolerance, they will be rescaled. The current occupancy_tolerance is set to: 1.0\n",
      "No structure parsed for section 1 in CIF.\n",
      "Species occupancies sum to more than 1!\n",
      "  warnings.warn(\"Issues encountered while parsing CIF: \" + \"\\n\".join(self.warnings))\n"
     ]
    },
    {
     "name": "stdout",
     "output_type": "stream",
     "text": [
      "Invalid CIF file with no structures!\n",
      "Invalid CIF file with no structures!\n",
      "could not convert string to float: 'To'\n",
      "Invalid CIF file with no structures!\n",
      "could not convert string to float: 'To'\n",
      "Invalid CIF file with no structures!\n"
     ]
    },
    {
     "name": "stderr",
     "output_type": "stream",
     "text": [
      " 76%|███████▌  | 5763/7570 [00:11<00:03, 507.03it/s]/Tmp/dingqian/miniconda3/envs/crystal-llm/lib/python3.8/site-packages/pymatgen/io/cif.py:1009: UserWarning: Some occupancies ([2.0, 1.0, 1.0, 1.0, 1.0, 1.0, 1.0, 1.0, 1.0, 1.0, 1.0, 1.0, 1.0]) sum to > 1! If they are within the occupancy_tolerance, they will be rescaled. The current occupancy_tolerance is set to: 1.0\n",
      "  warnings.warn(msg)\n",
      "/Tmp/dingqian/miniconda3/envs/crystal-llm/lib/python3.8/site-packages/pymatgen/io/cif.py:1168: UserWarning: Issues encountered while parsing CIF: Some occupancies ([2.0, 1.0, 1.0, 1.0, 1.0, 1.0, 1.0, 1.0, 1.0, 1.0, 1.0, 1.0, 1.0]) sum to > 1! If they are within the occupancy_tolerance, they will be rescaled. The current occupancy_tolerance is set to: 1.0\n",
      "No structure parsed for section 1 in CIF.\n",
      "Species occupancies sum to more than 1!\n",
      "  warnings.warn(\"Issues encountered while parsing CIF: \" + \"\\n\".join(self.warnings))\n",
      " 78%|███████▊  | 5871/7570 [00:11<00:03, 510.33it/s]"
     ]
    },
    {
     "name": "stdout",
     "output_type": "stream",
     "text": [
      "Invalid CIF file with no structures!\n",
      "Invalid CIF file with no structures!\n",
      "Invalid CIF file with no structures!\n",
      "Invalid CIF file with no structures!\n"
     ]
    },
    {
     "name": "stderr",
     "output_type": "stream",
     "text": [
      "/Tmp/dingqian/miniconda3/envs/crystal-llm/lib/python3.8/site-packages/pymatgen/io/cif.py:1009: UserWarning: Some occupancies ([1.0, 1.0, 1.0, 1.0, 1.0, 1.0, 1.0, 1.0, 1.0, 1.0, 1.0, 1.0, 1.0, 1.0, 1.0, 1.0, 1.0, 2.0, 1.0]) sum to > 1! If they are within the occupancy_tolerance, they will be rescaled. The current occupancy_tolerance is set to: 1.0\n",
      "  warnings.warn(msg)\n",
      "/Tmp/dingqian/miniconda3/envs/crystal-llm/lib/python3.8/site-packages/pymatgen/io/cif.py:1168: UserWarning: Issues encountered while parsing CIF: Some occupancies ([1.0, 1.0, 1.0, 1.0, 1.0, 1.0, 1.0, 1.0, 1.0, 1.0, 1.0, 1.0, 1.0, 1.0, 1.0, 1.0, 1.0, 2.0, 1.0]) sum to > 1! If they are within the occupancy_tolerance, they will be rescaled. The current occupancy_tolerance is set to: 1.0\n",
      "No structure parsed for section 1 in CIF.\n",
      "Species occupancies sum to more than 1!\n",
      "  warnings.warn(\"Issues encountered while parsing CIF: \" + \"\\n\".join(self.warnings))\n",
      " 79%|███████▉  | 5975/7570 [00:11<00:03, 510.40it/s]"
     ]
    },
    {
     "name": "stdout",
     "output_type": "stream",
     "text": [
      "Invalid CIF file with no structures!\n",
      "could not convert string to float: 'To'\n",
      "Invalid CIF file with no structures!\n",
      "Invalid CIF file with no structures!\n"
     ]
    },
    {
     "name": "stderr",
     "output_type": "stream",
     "text": [
      " 80%|████████  | 6081/7570 [00:11<00:02, 512.79it/s]"
     ]
    },
    {
     "name": "stdout",
     "output_type": "stream",
     "text": [
      "Invalid CIF file with no structures!\n",
      "Invalid CIF file with no structures!\n",
      "Invalid CIF file with no structures!\n",
      "Invalid CIF file with no structures!\n"
     ]
    },
    {
     "name": "stderr",
     "output_type": "stream",
     "text": [
      "/Tmp/dingqian/miniconda3/envs/crystal-llm/lib/python3.8/site-packages/pymatgen/io/cif.py:1009: UserWarning: Some occupancies ([1.0, 1.0, 1.0, 2.0, 1.0, 1.0, 1.0, 1.0, 1.0, 1.0, 1.0, 1.0, 1.0, 2.0, 1.0]) sum to > 1! If they are within the occupancy_tolerance, they will be rescaled. The current occupancy_tolerance is set to: 1.0\n",
      "  warnings.warn(msg)\n",
      "/Tmp/dingqian/miniconda3/envs/crystal-llm/lib/python3.8/site-packages/pymatgen/io/cif.py:1168: UserWarning: Issues encountered while parsing CIF: Some occupancies ([1.0, 1.0, 1.0, 2.0, 1.0, 1.0, 1.0, 1.0, 1.0, 1.0, 1.0, 1.0, 1.0, 2.0, 1.0]) sum to > 1! If they are within the occupancy_tolerance, they will be rescaled. The current occupancy_tolerance is set to: 1.0\n",
      "No structure parsed for section 1 in CIF.\n",
      "Species occupancies sum to more than 1!\n",
      "  warnings.warn(\"Issues encountered while parsing CIF: \" + \"\\n\".join(self.warnings))\n",
      " 81%|████████  | 6139/7570 [00:11<00:02, 531.90it/s]/Tmp/dingqian/miniconda3/envs/crystal-llm/lib/python3.8/site-packages/pymatgen/io/cif.py:1009: UserWarning: Some occupancies ([1.0, 1.0, 1.0, 1.0, 2.0, 1.0, 1.0, 1.0, 1.0, 1.0, 1.0, 1.0, 1.0, 1.0, 1.0, 1.0, 1.0, 1.0, 1.0, 1.0, 1.0]) sum to > 1! If they are within the occupancy_tolerance, they will be rescaled. The current occupancy_tolerance is set to: 1.0\n",
      "  warnings.warn(msg)\n",
      "/Tmp/dingqian/miniconda3/envs/crystal-llm/lib/python3.8/site-packages/pymatgen/io/cif.py:1168: UserWarning: Issues encountered while parsing CIF: Some occupancies ([1.0, 1.0, 1.0, 1.0, 2.0, 1.0, 1.0, 1.0, 1.0, 1.0, 1.0, 1.0, 1.0, 1.0, 1.0, 1.0, 1.0, 1.0, 1.0, 1.0, 1.0]) sum to > 1! If they are within the occupancy_tolerance, they will be rescaled. The current occupancy_tolerance is set to: 1.0\n",
      "No structure parsed for section 1 in CIF.\n",
      "Species occupancies sum to more than 1!\n",
      "  warnings.warn(\"Issues encountered while parsing CIF: \" + \"\\n\".join(self.warnings))\n",
      "/Tmp/dingqian/miniconda3/envs/crystal-llm/lib/python3.8/site-packages/pymatgen/io/cif.py:1009: UserWarning: Some occupancies ([2.0, 1.0, 1.0, 1.0, 1.0, 1.0, 1.0, 2.0, 2.0, 1.0, 1.0, 1.0, 1.0, 1.0]) sum to > 1! If they are within the occupancy_tolerance, they will be rescaled. The current occupancy_tolerance is set to: 1.0\n",
      "  warnings.warn(msg)\n",
      "/Tmp/dingqian/miniconda3/envs/crystal-llm/lib/python3.8/site-packages/pymatgen/io/cif.py:1168: UserWarning: Issues encountered while parsing CIF: Some occupancies ([2.0, 1.0, 1.0, 1.0, 1.0, 1.0, 1.0, 2.0, 2.0, 1.0, 1.0, 1.0, 1.0, 1.0]) sum to > 1! If they are within the occupancy_tolerance, they will be rescaled. The current occupancy_tolerance is set to: 1.0\n",
      "No structure parsed for section 1 in CIF.\n",
      "Species occupancies sum to more than 1!\n",
      "  warnings.warn(\"Issues encountered while parsing CIF: \" + \"\\n\".join(self.warnings))\n",
      "/Tmp/dingqian/miniconda3/envs/crystal-llm/lib/python3.8/site-packages/pymatgen/io/cif.py:1009: UserWarning: Some occupancies ([1.0, 2.0, 1.0, 2.0, 2.0, 1.0, 1.0, 1.0, 1.0, 1.0, 1.0, 1.0, 1.0, 1.0, 1.0, 1.0, 1.0]) sum to > 1! If they are within the occupancy_tolerance, they will be rescaled. The current occupancy_tolerance is set to: 1.0\n",
      "  warnings.warn(msg)\n",
      "/Tmp/dingqian/miniconda3/envs/crystal-llm/lib/python3.8/site-packages/pymatgen/io/cif.py:1168: UserWarning: Issues encountered while parsing CIF: Some occupancies ([1.0, 2.0, 1.0, 2.0, 2.0, 1.0, 1.0, 1.0, 1.0, 1.0, 1.0, 1.0, 1.0, 1.0, 1.0, 1.0, 1.0]) sum to > 1! If they are within the occupancy_tolerance, they will be rescaled. The current occupancy_tolerance is set to: 1.0\n",
      "No structure parsed for section 1 in CIF.\n",
      "Species occupancies sum to more than 1!\n",
      "  warnings.warn(\"Issues encountered while parsing CIF: \" + \"\\n\".join(self.warnings))\n",
      " 82%|████████▏ | 6193/7570 [00:11<00:02, 500.42it/s]/Tmp/dingqian/miniconda3/envs/crystal-llm/lib/python3.8/site-packages/pymatgen/io/cif.py:1009: UserWarning: Some occupancies ([1.0, 1.0, 1.0, 1.0, 1.0, 1.0, 1.0, 1.0, 1.0, 2.0, 1.0, 1.0]) sum to > 1! If they are within the occupancy_tolerance, they will be rescaled. The current occupancy_tolerance is set to: 1.0\n",
      "  warnings.warn(msg)\n",
      "/Tmp/dingqian/miniconda3/envs/crystal-llm/lib/python3.8/site-packages/pymatgen/io/cif.py:1168: UserWarning: Issues encountered while parsing CIF: Some occupancies ([1.0, 1.0, 1.0, 1.0, 1.0, 1.0, 1.0, 1.0, 1.0, 2.0, 1.0, 1.0]) sum to > 1! If they are within the occupancy_tolerance, they will be rescaled. The current occupancy_tolerance is set to: 1.0\n",
      "No structure parsed for section 1 in CIF.\n",
      "Species occupancies sum to more than 1!\n",
      "  warnings.warn(\"Issues encountered while parsing CIF: \" + \"\\n\".join(self.warnings))\n",
      " 83%|████████▎ | 6246/7570 [00:12<00:02, 506.36it/s]"
     ]
    },
    {
     "name": "stdout",
     "output_type": "stream",
     "text": [
      "Invalid CIF file with no structures!\n",
      "Invalid CIF file with no structures!\n",
      "Invalid CIF file with no structures!\n",
      "Invalid CIF file with no structures!\n",
      "Invalid CIF file with no structures!\n",
      "Invalid CIF file with no structures!\n",
      "Invalid CIF file with no structures!\n"
     ]
    },
    {
     "name": "stderr",
     "output_type": "stream",
     "text": [
      "/Tmp/dingqian/miniconda3/envs/crystal-llm/lib/python3.8/site-packages/pymatgen/io/cif.py:1009: UserWarning: Some occupancies ([1.0, 1.0, 1.0, 1.0, 1.0, 1.0, 1.0, 1.0, 1.0, 1.0, 1.0, 1.0, 2.0, 1.0, 1.0, 1.0, 1.0]) sum to > 1! If they are within the occupancy_tolerance, they will be rescaled. The current occupancy_tolerance is set to: 1.0\n",
      "  warnings.warn(msg)\n",
      "/Tmp/dingqian/miniconda3/envs/crystal-llm/lib/python3.8/site-packages/pymatgen/io/cif.py:1168: UserWarning: Issues encountered while parsing CIF: Some occupancies ([1.0, 1.0, 1.0, 1.0, 1.0, 1.0, 1.0, 1.0, 1.0, 1.0, 1.0, 1.0, 2.0, 1.0, 1.0, 1.0, 1.0]) sum to > 1! If they are within the occupancy_tolerance, they will be rescaled. The current occupancy_tolerance is set to: 1.0\n",
      "No structure parsed for section 1 in CIF.\n",
      "Species occupancies sum to more than 1!\n",
      "  warnings.warn(\"Issues encountered while parsing CIF: \" + \"\\n\".join(self.warnings))\n",
      " 83%|████████▎ | 6297/7570 [00:12<00:02, 502.47it/s]/Tmp/dingqian/miniconda3/envs/crystal-llm/lib/python3.8/site-packages/pymatgen/io/cif.py:1009: UserWarning: Some occupancies ([2.0, 2.0, 1.0, 1.0, 1.0, 1.0, 1.0, 1.0, 1.0, 1.0, 1.0, 1.0, 1.0, 1.0, 1.0, 1.0, 1.0, 1.0, 1.0, 1.0]) sum to > 1! If they are within the occupancy_tolerance, they will be rescaled. The current occupancy_tolerance is set to: 1.0\n",
      "  warnings.warn(msg)\n",
      "/Tmp/dingqian/miniconda3/envs/crystal-llm/lib/python3.8/site-packages/pymatgen/io/cif.py:1168: UserWarning: Issues encountered while parsing CIF: Some occupancies ([2.0, 2.0, 1.0, 1.0, 1.0, 1.0, 1.0, 1.0, 1.0, 1.0, 1.0, 1.0, 1.0, 1.0, 1.0, 1.0, 1.0, 1.0, 1.0, 1.0]) sum to > 1! If they are within the occupancy_tolerance, they will be rescaled. The current occupancy_tolerance is set to: 1.0\n",
      "No structure parsed for section 1 in CIF.\n",
      "Species occupancies sum to more than 1!\n",
      "  warnings.warn(\"Issues encountered while parsing CIF: \" + \"\\n\".join(self.warnings))\n",
      " 84%|████████▍ | 6354/7570 [00:12<00:02, 516.96it/s]"
     ]
    },
    {
     "name": "stdout",
     "output_type": "stream",
     "text": [
      "Invalid CIF file with no structures!\n",
      "Invalid CIF file with no structures!\n",
      "Invalid CIF file with no structures!\n"
     ]
    },
    {
     "name": "stderr",
     "output_type": "stream",
     "text": [
      "/Tmp/dingqian/miniconda3/envs/crystal-llm/lib/python3.8/site-packages/pymatgen/io/cif.py:1009: UserWarning: Some occupancies ([1.0, 1.0, 1.0, 1.0, 1.0, 1.0, 1.0, 1.0, 1.0, 2.0, 2.0, 2.0, 2.0, 1.0, 1.0, 1.0, 1.0]) sum to > 1! If they are within the occupancy_tolerance, they will be rescaled. The current occupancy_tolerance is set to: 1.0\n",
      "  warnings.warn(msg)\n",
      "/Tmp/dingqian/miniconda3/envs/crystal-llm/lib/python3.8/site-packages/pymatgen/io/cif.py:1168: UserWarning: Issues encountered while parsing CIF: Some occupancies ([1.0, 1.0, 1.0, 1.0, 1.0, 1.0, 1.0, 1.0, 1.0, 2.0, 2.0, 2.0, 2.0, 1.0, 1.0, 1.0, 1.0]) sum to > 1! If they are within the occupancy_tolerance, they will be rescaled. The current occupancy_tolerance is set to: 1.0\n",
      "No structure parsed for section 1 in CIF.\n",
      "Species occupancies sum to more than 1!\n",
      "  warnings.warn(\"Issues encountered while parsing CIF: \" + \"\\n\".join(self.warnings))\n",
      "/Tmp/dingqian/miniconda3/envs/crystal-llm/lib/python3.8/site-packages/pymatgen/io/cif.py:1009: UserWarning: Some occupancies ([1.0, 1.0, 2.0, 1.0, 1.0, 1.0, 1.0, 1.0, 1.0, 1.0, 2.0, 2.0, 1.0, 1.0, 1.0, 1.0, 1.0]) sum to > 1! If they are within the occupancy_tolerance, they will be rescaled. The current occupancy_tolerance is set to: 1.0\n",
      "  warnings.warn(msg)\n",
      "/Tmp/dingqian/miniconda3/envs/crystal-llm/lib/python3.8/site-packages/pymatgen/io/cif.py:1168: UserWarning: Issues encountered while parsing CIF: Some occupancies ([1.0, 1.0, 2.0, 1.0, 1.0, 1.0, 1.0, 1.0, 1.0, 1.0, 2.0, 2.0, 1.0, 1.0, 1.0, 1.0, 1.0]) sum to > 1! If they are within the occupancy_tolerance, they will be rescaled. The current occupancy_tolerance is set to: 1.0\n",
      "No structure parsed for section 1 in CIF.\n",
      "Species occupancies sum to more than 1!\n",
      "  warnings.warn(\"Issues encountered while parsing CIF: \" + \"\\n\".join(self.warnings))\n",
      " 85%|████████▍ | 6408/7570 [00:12<00:02, 523.42it/s]/Tmp/dingqian/miniconda3/envs/crystal-llm/lib/python3.8/site-packages/pymatgen/io/cif.py:1009: UserWarning: Some occupancies ([1.0, 1.0, 1.0, 1.0, 2.0, 2.0, 1.0, 1.0, 1.0, 1.0, 1.0, 1.0]) sum to > 1! If they are within the occupancy_tolerance, they will be rescaled. The current occupancy_tolerance is set to: 1.0\n",
      "  warnings.warn(msg)\n",
      "/Tmp/dingqian/miniconda3/envs/crystal-llm/lib/python3.8/site-packages/pymatgen/io/cif.py:1168: UserWarning: Issues encountered while parsing CIF: Some occupancies ([1.0, 1.0, 1.0, 1.0, 2.0, 2.0, 1.0, 1.0, 1.0, 1.0, 1.0, 1.0]) sum to > 1! If they are within the occupancy_tolerance, they will be rescaled. The current occupancy_tolerance is set to: 1.0\n",
      "No structure parsed for section 1 in CIF.\n",
      "Species occupancies sum to more than 1!\n",
      "  warnings.warn(\"Issues encountered while parsing CIF: \" + \"\\n\".join(self.warnings))\n",
      " 85%|████████▌ | 6464/7570 [00:12<00:02, 530.87it/s]"
     ]
    },
    {
     "name": "stdout",
     "output_type": "stream",
     "text": [
      "Invalid CIF file with no structures!\n",
      "Invalid CIF file with no structures!\n",
      "Invalid CIF file with no structures!\n",
      "Invalid CIF file with no structures!\n"
     ]
    },
    {
     "name": "stderr",
     "output_type": "stream",
     "text": [
      " 86%|████████▌ | 6518/7570 [00:12<00:02, 510.81it/s]/Tmp/dingqian/miniconda3/envs/crystal-llm/lib/python3.8/site-packages/pymatgen/io/cif.py:1009: UserWarning: Some occupancies ([1.0, 1.0, 1.0, 1.0, 1.0, 1.0, 2.0, 2.0, 1.0, 1.0, 1.0, 2.0, 1.0, 1.0, 1.0]) sum to > 1! If they are within the occupancy_tolerance, they will be rescaled. The current occupancy_tolerance is set to: 1.0\n",
      "  warnings.warn(msg)\n",
      "/Tmp/dingqian/miniconda3/envs/crystal-llm/lib/python3.8/site-packages/pymatgen/io/cif.py:1168: UserWarning: Issues encountered while parsing CIF: Some occupancies ([1.0, 1.0, 1.0, 1.0, 1.0, 1.0, 2.0, 2.0, 1.0, 1.0, 1.0, 2.0, 1.0, 1.0, 1.0]) sum to > 1! If they are within the occupancy_tolerance, they will be rescaled. The current occupancy_tolerance is set to: 1.0\n",
      "No structure parsed for section 1 in CIF.\n",
      "Species occupancies sum to more than 1!\n",
      "  warnings.warn(\"Issues encountered while parsing CIF: \" + \"\\n\".join(self.warnings))\n",
      " 87%|████████▋ | 6572/7570 [00:12<00:01, 518.65it/s]"
     ]
    },
    {
     "name": "stdout",
     "output_type": "stream",
     "text": [
      "could not convert string to float: 'To'\n",
      "Invalid CIF file with no structures!\n",
      "Invalid CIF file with no structures!\n"
     ]
    },
    {
     "name": "stderr",
     "output_type": "stream",
     "text": [
      "/Tmp/dingqian/miniconda3/envs/crystal-llm/lib/python3.8/site-packages/pymatgen/io/cif.py:1009: UserWarning: Some occupancies ([2.0, 1.0, 1.0, 1.0, 1.0, 1.0, 1.0, 1.0]) sum to > 1! If they are within the occupancy_tolerance, they will be rescaled. The current occupancy_tolerance is set to: 1.0\n",
      "  warnings.warn(msg)\n",
      "/Tmp/dingqian/miniconda3/envs/crystal-llm/lib/python3.8/site-packages/pymatgen/io/cif.py:1168: UserWarning: Issues encountered while parsing CIF: Some occupancies ([2.0, 1.0, 1.0, 1.0, 1.0, 1.0, 1.0, 1.0]) sum to > 1! If they are within the occupancy_tolerance, they will be rescaled. The current occupancy_tolerance is set to: 1.0\n",
      "No structure parsed for section 1 in CIF.\n",
      "Species occupancies sum to more than 1!\n",
      "  warnings.warn(\"Issues encountered while parsing CIF: \" + \"\\n\".join(self.warnings))\n",
      " 88%|████████▊ | 6625/7570 [00:12<00:01, 516.53it/s]/Tmp/dingqian/miniconda3/envs/crystal-llm/lib/python3.8/site-packages/pymatgen/io/cif.py:1009: UserWarning: Some occupancies ([1.0, 1.0, 1.0, 1.0, 1.0, 1.0, 1.0, 1.0, 1.0, 1.0, 1.0, 2.0]) sum to > 1! If they are within the occupancy_tolerance, they will be rescaled. The current occupancy_tolerance is set to: 1.0\n",
      "  warnings.warn(msg)\n",
      "/Tmp/dingqian/miniconda3/envs/crystal-llm/lib/python3.8/site-packages/pymatgen/io/cif.py:1168: UserWarning: Issues encountered while parsing CIF: Some occupancies ([1.0, 1.0, 1.0, 1.0, 1.0, 1.0, 1.0, 1.0, 1.0, 1.0, 1.0, 2.0]) sum to > 1! If they are within the occupancy_tolerance, they will be rescaled. The current occupancy_tolerance is set to: 1.0\n",
      "No structure parsed for section 1 in CIF.\n",
      "Species occupancies sum to more than 1!\n",
      "  warnings.warn(\"Issues encountered while parsing CIF: \" + \"\\n\".join(self.warnings))\n",
      " 88%|████████▊ | 6684/7570 [00:12<00:01, 537.30it/s]/Tmp/dingqian/miniconda3/envs/crystal-llm/lib/python3.8/site-packages/pymatgen/io/cif.py:1009: UserWarning: Some occupancies ([1.0, 1.0, 1.0, 1.0, 1.0, 1.0, 1.0, 1.0, 2.0, 2.0, 1.0, 1.0]) sum to > 1! If they are within the occupancy_tolerance, they will be rescaled. The current occupancy_tolerance is set to: 1.0\n",
      "  warnings.warn(msg)\n",
      "/Tmp/dingqian/miniconda3/envs/crystal-llm/lib/python3.8/site-packages/pymatgen/io/cif.py:1168: UserWarning: Issues encountered while parsing CIF: Some occupancies ([1.0, 1.0, 1.0, 1.0, 1.0, 1.0, 1.0, 1.0, 2.0, 2.0, 1.0, 1.0]) sum to > 1! If they are within the occupancy_tolerance, they will be rescaled. The current occupancy_tolerance is set to: 1.0\n",
      "No structure parsed for section 1 in CIF.\n",
      "Species occupancies sum to more than 1!\n",
      "  warnings.warn(\"Issues encountered while parsing CIF: \" + \"\\n\".join(self.warnings))\n",
      "/Tmp/dingqian/miniconda3/envs/crystal-llm/lib/python3.8/site-packages/pymatgen/io/cif.py:1009: UserWarning: Some occupancies ([1.0, 1.0, 1.0, 1.0, 1.0, 1.0, 1.0, 1.0, 1.0, 1.0, 1.0, 2.0, 1.0, 1.0, 1.0]) sum to > 1! If they are within the occupancy_tolerance, they will be rescaled. The current occupancy_tolerance is set to: 1.0\n",
      "  warnings.warn(msg)\n",
      "/Tmp/dingqian/miniconda3/envs/crystal-llm/lib/python3.8/site-packages/pymatgen/io/cif.py:1168: UserWarning: Issues encountered while parsing CIF: Some occupancies ([1.0, 1.0, 1.0, 1.0, 1.0, 1.0, 1.0, 1.0, 1.0, 1.0, 1.0, 2.0, 1.0, 1.0, 1.0]) sum to > 1! If they are within the occupancy_tolerance, they will be rescaled. The current occupancy_tolerance is set to: 1.0\n",
      "No structure parsed for section 1 in CIF.\n",
      "Species occupancies sum to more than 1!\n",
      "  warnings.warn(\"Issues encountered while parsing CIF: \" + \"\\n\".join(self.warnings))\n",
      " 89%|████████▉ | 6742/7570 [00:12<00:01, 546.69it/s]"
     ]
    },
    {
     "name": "stdout",
     "output_type": "stream",
     "text": [
      "Invalid CIF file with no structures!\n",
      "Invalid CIF file with no structures!\n",
      "could not convert string to float: 'I'\n",
      "Invalid CIF file with no structures!\n",
      "Invalid CIF file with no structures!\n"
     ]
    },
    {
     "name": "stderr",
     "output_type": "stream",
     "text": [
      "/Tmp/dingqian/miniconda3/envs/crystal-llm/lib/python3.8/site-packages/pymatgen/io/cif.py:1009: UserWarning: Some occupancies ([1.0, 1.0, 1.0, 1.0, 1.0, 1.0, 1.0, 1.0, 1.0, 1.0, 1.0, 1.0, 2.0, 1.0, 1.0, 1.0, 1.0, 1.0]) sum to > 1! If they are within the occupancy_tolerance, they will be rescaled. The current occupancy_tolerance is set to: 1.0\n",
      "  warnings.warn(msg)\n",
      "/Tmp/dingqian/miniconda3/envs/crystal-llm/lib/python3.8/site-packages/pymatgen/io/cif.py:1168: UserWarning: Issues encountered while parsing CIF: Some occupancies ([1.0, 1.0, 1.0, 1.0, 1.0, 1.0, 1.0, 1.0, 1.0, 1.0, 1.0, 1.0, 2.0, 1.0, 1.0, 1.0, 1.0, 1.0]) sum to > 1! If they are within the occupancy_tolerance, they will be rescaled. The current occupancy_tolerance is set to: 1.0\n",
      "No structure parsed for section 1 in CIF.\n",
      "Species occupancies sum to more than 1!\n",
      "  warnings.warn(\"Issues encountered while parsing CIF: \" + \"\\n\".join(self.warnings))\n",
      " 90%|████████▉ | 6797/7570 [00:13<00:01, 542.32it/s]/Tmp/dingqian/miniconda3/envs/crystal-llm/lib/python3.8/site-packages/pymatgen/io/cif.py:1009: UserWarning: Some occupancies ([2.0, 1.0, 2.0, 1.0, 1.0, 1.0, 1.0, 1.0, 1.0, 1.0, 1.0, 1.0, 1.0, 1.0, 1.0, 1.0, 1.0, 1.0]) sum to > 1! If they are within the occupancy_tolerance, they will be rescaled. The current occupancy_tolerance is set to: 1.0\n",
      "  warnings.warn(msg)\n",
      "/Tmp/dingqian/miniconda3/envs/crystal-llm/lib/python3.8/site-packages/pymatgen/io/cif.py:1168: UserWarning: Issues encountered while parsing CIF: Some occupancies ([2.0, 1.0, 2.0, 1.0, 1.0, 1.0, 1.0, 1.0, 1.0, 1.0, 1.0, 1.0, 1.0, 1.0, 1.0, 1.0, 1.0, 1.0]) sum to > 1! If they are within the occupancy_tolerance, they will be rescaled. The current occupancy_tolerance is set to: 1.0\n",
      "No structure parsed for section 1 in CIF.\n",
      "Species occupancies sum to more than 1!\n",
      "  warnings.warn(\"Issues encountered while parsing CIF: \" + \"\\n\".join(self.warnings))\n",
      " 91%|█████████ | 6852/7570 [00:13<00:01, 534.57it/s]"
     ]
    },
    {
     "name": "stdout",
     "output_type": "stream",
     "text": [
      "Invalid CIF file with no structures!\n",
      "Invalid CIF file with no structures!\n"
     ]
    },
    {
     "name": "stderr",
     "output_type": "stream",
     "text": [
      "/Tmp/dingqian/miniconda3/envs/crystal-llm/lib/python3.8/site-packages/pymatgen/io/cif.py:1009: UserWarning: Some occupancies ([1.0, 1.0, 1.0, 1.0, 2.0, 1.0, 1.0, 1.0, 1.0, 1.0, 1.0, 1.0, 1.0, 1.0, 1.0, 1.0, 1.0, 1.0, 1.0]) sum to > 1! If they are within the occupancy_tolerance, they will be rescaled. The current occupancy_tolerance is set to: 1.0\n",
      "  warnings.warn(msg)\n",
      "/Tmp/dingqian/miniconda3/envs/crystal-llm/lib/python3.8/site-packages/pymatgen/io/cif.py:1168: UserWarning: Issues encountered while parsing CIF: Some occupancies ([1.0, 1.0, 1.0, 1.0, 2.0, 1.0, 1.0, 1.0, 1.0, 1.0, 1.0, 1.0, 1.0, 1.0, 1.0, 1.0, 1.0, 1.0, 1.0]) sum to > 1! If they are within the occupancy_tolerance, they will be rescaled. The current occupancy_tolerance is set to: 1.0\n",
      "No structure parsed for section 1 in CIF.\n",
      "Species occupancies sum to more than 1!\n",
      "  warnings.warn(\"Issues encountered while parsing CIF: \" + \"\\n\".join(self.warnings))\n",
      "/Tmp/dingqian/miniconda3/envs/crystal-llm/lib/python3.8/site-packages/pymatgen/io/cif.py:1009: UserWarning: Some occupancies ([1.0, 1.0, 1.0, 2.0, 1.0, 1.0, 1.0]) sum to > 1! If they are within the occupancy_tolerance, they will be rescaled. The current occupancy_tolerance is set to: 1.0\n",
      "  warnings.warn(msg)\n",
      "/Tmp/dingqian/miniconda3/envs/crystal-llm/lib/python3.8/site-packages/pymatgen/io/cif.py:1168: UserWarning: Issues encountered while parsing CIF: Some occupancies ([1.0, 1.0, 1.0, 2.0, 1.0, 1.0, 1.0]) sum to > 1! If they are within the occupancy_tolerance, they will be rescaled. The current occupancy_tolerance is set to: 1.0\n",
      "No structure parsed for section 1 in CIF.\n",
      "Species occupancies sum to more than 1!\n",
      "  warnings.warn(\"Issues encountered while parsing CIF: \" + \"\\n\".join(self.warnings))\n",
      " 91%|█████████ | 6907/7570 [00:13<00:01, 537.77it/s]/Tmp/dingqian/miniconda3/envs/crystal-llm/lib/python3.8/site-packages/pymatgen/io/cif.py:1009: UserWarning: Some occupancies ([1.0, 1.0, 1.0, 1.0, 1.0, 1.0, 1.0, 2.0, 2.0, 2.0, 2.0, 1.0]) sum to > 1! If they are within the occupancy_tolerance, they will be rescaled. The current occupancy_tolerance is set to: 1.0\n",
      "  warnings.warn(msg)\n",
      "/Tmp/dingqian/miniconda3/envs/crystal-llm/lib/python3.8/site-packages/pymatgen/io/cif.py:1168: UserWarning: Issues encountered while parsing CIF: Some occupancies ([1.0, 1.0, 1.0, 1.0, 1.0, 1.0, 1.0, 2.0, 2.0, 2.0, 2.0, 1.0]) sum to > 1! If they are within the occupancy_tolerance, they will be rescaled. The current occupancy_tolerance is set to: 1.0\n",
      "No structure parsed for section 1 in CIF.\n",
      "Species occupancies sum to more than 1!\n",
      "  warnings.warn(\"Issues encountered while parsing CIF: \" + \"\\n\".join(self.warnings))\n",
      " 92%|█████████▏| 6962/7570 [00:13<00:01, 540.95it/s]"
     ]
    },
    {
     "name": "stdout",
     "output_type": "stream",
     "text": [
      "Invalid CIF file with no structures!\n",
      "Invalid CIF file with no structures!\n",
      "Invalid CIF file with no structures!\n",
      "could not convert string to float: 'To'\n",
      "Invalid CIF file with no structures!\n",
      "Invalid CIF file with no structures!\n"
     ]
    },
    {
     "name": "stderr",
     "output_type": "stream",
     "text": [
      " 93%|█████████▎| 7075/7570 [00:13<00:00, 550.39it/s]/Tmp/dingqian/miniconda3/envs/crystal-llm/lib/python3.8/site-packages/pymatgen/io/cif.py:1009: UserWarning: Some occupancies ([1.0, 1.0, 1.0, 1.0, 1.0, 1.0, 1.0, 1.0, 1.0, 1.0, 1.0, 1.0, 1.0, 1.0, 1.0, 1.0, 1.0, 1.0, 2.0, 1.0, 1.0, 1.0, 1.0]) sum to > 1! If they are within the occupancy_tolerance, they will be rescaled. The current occupancy_tolerance is set to: 1.0\n",
      "  warnings.warn(msg)\n",
      "/Tmp/dingqian/miniconda3/envs/crystal-llm/lib/python3.8/site-packages/pymatgen/io/cif.py:1168: UserWarning: Issues encountered while parsing CIF: Some occupancies ([1.0, 1.0, 1.0, 1.0, 1.0, 1.0, 1.0, 1.0, 1.0, 1.0, 1.0, 1.0, 1.0, 1.0, 1.0, 1.0, 1.0, 1.0, 2.0, 1.0, 1.0, 1.0, 1.0]) sum to > 1! If they are within the occupancy_tolerance, they will be rescaled. The current occupancy_tolerance is set to: 1.0\n",
      "No structure parsed for section 1 in CIF.\n",
      "Species occupancies sum to more than 1!\n",
      "  warnings.warn(\"Issues encountered while parsing CIF: \" + \"\\n\".join(self.warnings))\n",
      "/Tmp/dingqian/miniconda3/envs/crystal-llm/lib/python3.8/site-packages/pymatgen/io/cif.py:1009: UserWarning: Some occupancies ([1.0, 1.0, 2.0, 1.0, 1.0]) sum to > 1! If they are within the occupancy_tolerance, they will be rescaled. The current occupancy_tolerance is set to: 1.0\n",
      "  warnings.warn(msg)\n",
      "/Tmp/dingqian/miniconda3/envs/crystal-llm/lib/python3.8/site-packages/pymatgen/io/cif.py:1168: UserWarning: Issues encountered while parsing CIF: Some occupancies ([1.0, 1.0, 2.0, 1.0, 1.0]) sum to > 1! If they are within the occupancy_tolerance, they will be rescaled. The current occupancy_tolerance is set to: 1.0\n",
      "No structure parsed for section 1 in CIF.\n",
      "Species occupancies sum to more than 1!\n",
      "  warnings.warn(\"Issues encountered while parsing CIF: \" + \"\\n\".join(self.warnings))\n",
      " 94%|█████████▍| 7131/7570 [00:13<00:00, 521.54it/s]/Tmp/dingqian/miniconda3/envs/crystal-llm/lib/python3.8/site-packages/pymatgen/io/cif.py:1009: UserWarning: Some occupancies ([1.0, 1.0, 1.0, 1.0, 2.0, 1.0, 2.0, 1.0, 1.0, 1.0]) sum to > 1! If they are within the occupancy_tolerance, they will be rescaled. The current occupancy_tolerance is set to: 1.0\n",
      "  warnings.warn(msg)\n",
      "/Tmp/dingqian/miniconda3/envs/crystal-llm/lib/python3.8/site-packages/pymatgen/io/cif.py:1168: UserWarning: Issues encountered while parsing CIF: Some occupancies ([1.0, 1.0, 1.0, 1.0, 2.0, 1.0, 2.0, 1.0, 1.0, 1.0]) sum to > 1! If they are within the occupancy_tolerance, they will be rescaled. The current occupancy_tolerance is set to: 1.0\n",
      "No structure parsed for section 1 in CIF.\n",
      "Species occupancies sum to more than 1!\n",
      "  warnings.warn(\"Issues encountered while parsing CIF: \" + \"\\n\".join(self.warnings))\n"
     ]
    },
    {
     "name": "stdout",
     "output_type": "stream",
     "text": [
      "Invalid CIF file with no structures!\n",
      "Invalid CIF file with no structures!\n",
      "Invalid CIF file with no structures!\n",
      "Invalid CIF file with no structures!\n"
     ]
    },
    {
     "name": "stderr",
     "output_type": "stream",
     "text": [
      " 96%|█████████▌| 7237/7570 [00:13<00:00, 503.68it/s]/Tmp/dingqian/miniconda3/envs/crystal-llm/lib/python3.8/site-packages/pymatgen/io/cif.py:1009: UserWarning: Some occupancies ([2.0, 1.0, 1.0, 2.0, 1.0, 1.0, 1.0, 1.0, 1.0, 1.0, 1.0, 1.0, 1.0, 1.0, 1.0, 1.0, 1.0, 1.0]) sum to > 1! If they are within the occupancy_tolerance, they will be rescaled. The current occupancy_tolerance is set to: 1.0\n",
      "  warnings.warn(msg)\n",
      "/Tmp/dingqian/miniconda3/envs/crystal-llm/lib/python3.8/site-packages/pymatgen/io/cif.py:1168: UserWarning: Issues encountered while parsing CIF: Some occupancies ([2.0, 1.0, 1.0, 2.0, 1.0, 1.0, 1.0, 1.0, 1.0, 1.0, 1.0, 1.0, 1.0, 1.0, 1.0, 1.0, 1.0, 1.0]) sum to > 1! If they are within the occupancy_tolerance, they will be rescaled. The current occupancy_tolerance is set to: 1.0\n",
      "No structure parsed for section 1 in CIF.\n",
      "Species occupancies sum to more than 1!\n",
      "  warnings.warn(\"Issues encountered while parsing CIF: \" + \"\\n\".join(self.warnings))\n",
      " 97%|█████████▋| 7347/7570 [00:14<00:00, 527.79it/s]"
     ]
    },
    {
     "name": "stdout",
     "output_type": "stream",
     "text": [
      "Invalid CIF file with no structures!\n",
      "Invalid CIF file with no structures!\n",
      "Invalid CIF file with no structures!\n",
      "Invalid CIF file with no structures!\n"
     ]
    },
    {
     "name": "stderr",
     "output_type": "stream",
     "text": [
      "/Tmp/dingqian/miniconda3/envs/crystal-llm/lib/python3.8/site-packages/pymatgen/io/cif.py:1009: UserWarning: Some occupancies ([1.0, 1.0, 1.0, 1.0, 2.0, 2.0, 1.0, 1.0, 1.0, 1.0]) sum to > 1! If they are within the occupancy_tolerance, they will be rescaled. The current occupancy_tolerance is set to: 1.0\n",
      "  warnings.warn(msg)\n",
      "/Tmp/dingqian/miniconda3/envs/crystal-llm/lib/python3.8/site-packages/pymatgen/io/cif.py:1168: UserWarning: Issues encountered while parsing CIF: Some occupancies ([1.0, 1.0, 1.0, 1.0, 2.0, 2.0, 1.0, 1.0, 1.0, 1.0]) sum to > 1! If they are within the occupancy_tolerance, they will be rescaled. The current occupancy_tolerance is set to: 1.0\n",
      "No structure parsed for section 1 in CIF.\n",
      "Species occupancies sum to more than 1!\n",
      "  warnings.warn(\"Issues encountered while parsing CIF: \" + \"\\n\".join(self.warnings))\n",
      " 98%|█████████▊| 7400/7570 [00:14<00:00, 521.97it/s]/Tmp/dingqian/miniconda3/envs/crystal-llm/lib/python3.8/site-packages/pymatgen/io/cif.py:1009: UserWarning: Some occupancies ([1.0, 1.0, 2.0, 1.0, 1.0, 1.0, 1.0, 1.0, 1.0, 1.0, 1.0, 1.0]) sum to > 1! If they are within the occupancy_tolerance, they will be rescaled. The current occupancy_tolerance is set to: 1.0\n",
      "  warnings.warn(msg)\n",
      "/Tmp/dingqian/miniconda3/envs/crystal-llm/lib/python3.8/site-packages/pymatgen/io/cif.py:1168: UserWarning: Issues encountered while parsing CIF: Some occupancies ([1.0, 1.0, 2.0, 1.0, 1.0, 1.0, 1.0, 1.0, 1.0, 1.0, 1.0, 1.0]) sum to > 1! If they are within the occupancy_tolerance, they will be rescaled. The current occupancy_tolerance is set to: 1.0\n",
      "No structure parsed for section 1 in CIF.\n",
      "Species occupancies sum to more than 1!\n",
      "  warnings.warn(\"Issues encountered while parsing CIF: \" + \"\\n\".join(self.warnings))\n",
      " 98%|█████████▊| 7453/7570 [00:14<00:00, 517.74it/s]/Tmp/dingqian/miniconda3/envs/crystal-llm/lib/python3.8/site-packages/pymatgen/io/cif.py:1009: UserWarning: Some occupancies ([1.0, 1.0, 1.0, 1.0, 1.0, 1.0, 1.0, 1.0, 2.0, 1.0, 1.0, 1.0, 1.0]) sum to > 1! If they are within the occupancy_tolerance, they will be rescaled. The current occupancy_tolerance is set to: 1.0\n",
      "  warnings.warn(msg)\n",
      "/Tmp/dingqian/miniconda3/envs/crystal-llm/lib/python3.8/site-packages/pymatgen/io/cif.py:1168: UserWarning: Issues encountered while parsing CIF: Some occupancies ([1.0, 1.0, 1.0, 1.0, 1.0, 1.0, 1.0, 1.0, 2.0, 1.0, 1.0, 1.0, 1.0]) sum to > 1! If they are within the occupancy_tolerance, they will be rescaled. The current occupancy_tolerance is set to: 1.0\n",
      "No structure parsed for section 1 in CIF.\n",
      "Species occupancies sum to more than 1!\n",
      "  warnings.warn(\"Issues encountered while parsing CIF: \" + \"\\n\".join(self.warnings))\n",
      "/Tmp/dingqian/miniconda3/envs/crystal-llm/lib/python3.8/site-packages/pymatgen/core/periodic_table.py:221: UserWarning: No Pauling electronegativity for He. Setting to NaN. This has no physical meaning, and is mainly done to avoid errors caused by the code expecting a float.\n",
      "  warnings.warn(\n",
      "/Tmp/dingqian/miniconda3/envs/crystal-llm/lib/python3.8/site-packages/pymatgen/io/cif.py:1009: UserWarning: Some occupancies ([1.0, 1.0, 1.0, 1.0, 2.0, 2.0, 1.0, 1.0, 1.0, 1.0, 1.0, 2.0, 1.0, 1.0, 1.0]) sum to > 1! If they are within the occupancy_tolerance, they will be rescaled. The current occupancy_tolerance is set to: 1.0\n",
      "  warnings.warn(msg)\n",
      "/Tmp/dingqian/miniconda3/envs/crystal-llm/lib/python3.8/site-packages/pymatgen/io/cif.py:1168: UserWarning: Issues encountered while parsing CIF: Some occupancies ([1.0, 1.0, 1.0, 1.0, 2.0, 2.0, 1.0, 1.0, 1.0, 1.0, 1.0, 2.0, 1.0, 1.0, 1.0]) sum to > 1! If they are within the occupancy_tolerance, they will be rescaled. The current occupancy_tolerance is set to: 1.0\n",
      "No structure parsed for section 1 in CIF.\n",
      "Species occupancies sum to more than 1!\n",
      "  warnings.warn(\"Issues encountered while parsing CIF: \" + \"\\n\".join(self.warnings))\n",
      " 99%|█████████▉| 7505/7570 [00:14<00:00, 511.31it/s]"
     ]
    },
    {
     "name": "stdout",
     "output_type": "stream",
     "text": [
      "could not convert string to float: 'To'\n",
      "Invalid CIF file with no structures!\n",
      "Invalid CIF file with no structures!\n",
      "Invalid CIF file with no structures!\n"
     ]
    },
    {
     "name": "stderr",
     "output_type": "stream",
     "text": [
      "100%|██████████| 7570/7570 [00:14<00:00, 519.74it/s]"
     ]
    },
    {
     "name": "stdout",
     "output_type": "stream",
     "text": [
      "Invalid CIF file with no structures!\n"
     ]
    },
    {
     "name": "stderr",
     "output_type": "stream",
     "text": [
      "\n"
     ]
    }
   ],
   "source": [
    "# read data\n",
    "data_path = \"/data/rech/dingqian/intel/llama-factory/mp_1_test_prediction_stage_2/generated_predictions.jsonl\"\n",
    "\n",
    "with open(data_path, \"r\") as f:\n",
    "    data = f.readlines()\n",
    "\n",
    "outputs = []\n",
    "\n",
    "for line in tqdm(data):\n",
    "    line = json.loads(line)\n",
    "    gen_str = line[\"predict\"]\n",
    "\n",
    "    try:\n",
    "        cif_str = parse_fn(gen_str)\n",
    "        _ = Structure.from_str(cif_str, fmt=\"cif\")\n",
    "\n",
    "    except Exception as e:\n",
    "        print(e)\n",
    "        continue\n",
    "\n",
    "    outputs.append({\n",
    "        \"gen_str\": gen_str,\n",
    "        \"cif\": cif_str,\n",
    "        \"model_name\": \"mp\",\n",
    "    })\n",
    "\n",
    "df = pd.DataFrame(outputs)\n",
    "df.to_csv(\"mp_samples.csv\", index=False)\n",
    "\n"
   ]
  }
 ],
 "metadata": {
  "kernelspec": {
   "display_name": "crystal-llm",
   "language": "python",
   "name": "python3"
  },
  "language_info": {
   "codemirror_mode": {
    "name": "ipython",
    "version": 3
   },
   "file_extension": ".py",
   "mimetype": "text/x-python",
   "name": "python",
   "nbconvert_exporter": "python",
   "pygments_lexer": "ipython3",
   "version": "3.8.19"
  }
 },
 "nbformat": 4,
 "nbformat_minor": 2
}
